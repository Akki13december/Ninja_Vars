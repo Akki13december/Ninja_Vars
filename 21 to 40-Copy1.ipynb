{
 "cells": [
  {
   "cell_type": "code",
   "execution_count": 1,
   "id": "83157924",
   "metadata": {},
   "outputs": [
    {
     "name": "stdout",
     "output_type": "stream",
     "text": [
      "Collecting pandasql\n",
      "  Downloading pandasql-0.7.3.tar.gz (26 kB)\n",
      "  Preparing metadata (setup.py) ... \u001b[?25ldone\n",
      "\u001b[?25hRequirement already satisfied: numpy in ./anaconda3/lib/python3.10/site-packages (from pandasql) (1.23.5)\n",
      "Requirement already satisfied: pandas in ./anaconda3/lib/python3.10/site-packages (from pandasql) (1.5.3)\n",
      "Requirement already satisfied: sqlalchemy in ./anaconda3/lib/python3.10/site-packages (from pandasql) (1.4.39)\n",
      "Requirement already satisfied: python-dateutil>=2.8.1 in ./anaconda3/lib/python3.10/site-packages (from pandas->pandasql) (2.8.2)\n",
      "Requirement already satisfied: pytz>=2020.1 in ./anaconda3/lib/python3.10/site-packages (from pandas->pandasql) (2022.7)\n",
      "Requirement already satisfied: greenlet!=0.4.17 in ./anaconda3/lib/python3.10/site-packages (from sqlalchemy->pandasql) (2.0.1)\n",
      "Requirement already satisfied: six>=1.5 in ./anaconda3/lib/python3.10/site-packages (from python-dateutil>=2.8.1->pandas->pandasql) (1.16.0)\n",
      "Building wheels for collected packages: pandasql\n",
      "  Building wheel for pandasql (setup.py) ... \u001b[?25ldone\n",
      "\u001b[?25h  Created wheel for pandasql: filename=pandasql-0.7.3-py3-none-any.whl size=26772 sha256=d73cfdc8be9ada22a3d0486cf9157e61c4e8762a8ca6caa4a22d3e52e952eb05\n",
      "  Stored in directory: /Users/sindhugunaseharan/Library/Caches/pip/wheels/4c/a4/ce/ad31f7d9f6bfce32741955de12e76e3a6e7181c20321db3c66\n",
      "Successfully built pandasql\n",
      "Installing collected packages: pandasql\n",
      "Successfully installed pandasql-0.7.3\n",
      "Note: you may need to restart the kernel to use updated packages.\n"
     ]
    }
   ],
   "source": [
    "pip install pandasql"
   ]
  },
  {
   "cell_type": "code",
   "execution_count": 2,
   "id": "389692bb",
   "metadata": {},
   "outputs": [
    {
     "name": "stdout",
     "output_type": "stream",
     "text": [
      "Collecting xlrd\n",
      "  Downloading xlrd-2.0.1-py2.py3-none-any.whl (96 kB)\n",
      "\u001b[2K     \u001b[90m━━━━━━━━━━━━━━━━━━━━━━━━━━━━━━━━━━━━━━━\u001b[0m \u001b[32m96.5/96.5 kB\u001b[0m \u001b[31m574.5 kB/s\u001b[0m eta \u001b[36m0:00:00\u001b[0ma \u001b[36m0:00:01\u001b[0m\n",
      "\u001b[?25hInstalling collected packages: xlrd\n",
      "Successfully installed xlrd-2.0.1\n",
      "Note: you may need to restart the kernel to use updated packages.\n"
     ]
    }
   ],
   "source": [
    "pip install xlrd"
   ]
  },
  {
   "cell_type": "code",
   "execution_count": 284,
   "id": "0ed2a5a6",
   "metadata": {},
   "outputs": [],
   "source": [
    "import pandas as pd\n",
    "import seaborn as sns\n",
    "import matplotlib.pyplot as plt\n",
    "import numpy as np\n",
    "from datetime import datetime, date\n",
    "from pandasql import sqldf\n",
    "import pandasql as ps\n",
    "import seaborn\n",
    "mysql = lambda q: sqldf(q, globals())\n",
    "import re\n",
    "from wordcloud import WordCloud\n",
    "from collections import Counter"
   ]
  },
  {
   "cell_type": "code",
   "execution_count": 155,
   "id": "87510ae6",
   "metadata": {},
   "outputs": [],
   "source": [
    "#Reading the Dataset\n",
    "xls = pd.ExcelFile(\"HospitalDatabase.xlsx\")\n",
    "\n",
    "#Reading the Patients sheet\n",
    "df_PA = pd.read_excel(xls, 'Patients')\n",
    "\n",
    "#Reading the EDVisits sheet\n",
    "df_EDV= pd.read_excel(xls, 'EDVisits')\n",
    "\n",
    "#Reading the AmbulatoryVisits sheet\n",
    "df_AV = pd.read_excel(xls, 'AmbulatoryVisits')\n",
    "\n",
    "#Reading the ReAdmissionRegistry \n",
    "df_RE = pd.read_excel(xls, 'ReAdmissionRegistry')\n",
    "\n",
    "#Reading the Discharges sheet\n",
    "df_D = pd.read_excel(xls, 'Discharges')\n",
    "\n",
    "#Reading the Providers sheet\n",
    "df_P = pd.read_excel(xls, 'Providers')\n",
    "\n",
    "#Reading the EDUnique sheet\n",
    "df_E = pd.read_excel(xls, 'EDUnique')"
   ]
  },
  {
   "cell_type": "markdown",
   "id": "9022a183",
   "metadata": {},
   "source": [
    "## Question 31. If patient's gender is Female, add Ms.to the name and for male patients add Mr. to the name."
   ]
  },
  {
   "cell_type": "code",
   "execution_count": 59,
   "id": "ca65faa1",
   "metadata": {},
   "outputs": [],
   "source": [
    "#df_PA"
   ]
  },
  {
   "cell_type": "code",
   "execution_count": 125,
   "id": "0d780d62",
   "metadata": {},
   "outputs": [],
   "source": [
    "#df_PA[df_PA['Gender'] == 'Male']"
   ]
  },
  {
   "cell_type": "code",
   "execution_count": 97,
   "id": "15c04db6",
   "metadata": {
    "scrolled": true
   },
   "outputs": [
    {
     "data": {
      "text/html": [
       "<div>\n",
       "<style scoped>\n",
       "    .dataframe tbody tr th:only-of-type {\n",
       "        vertical-align: middle;\n",
       "    }\n",
       "\n",
       "    .dataframe tbody tr th {\n",
       "        vertical-align: top;\n",
       "    }\n",
       "\n",
       "    .dataframe thead th {\n",
       "        text-align: right;\n",
       "    }\n",
       "</style>\n",
       "<table border=\"1\" class=\"dataframe\">\n",
       "  <thead>\n",
       "    <tr style=\"text-align: right;\">\n",
       "      <th></th>\n",
       "      <th>PatientID</th>\n",
       "      <th>FirstName</th>\n",
       "      <th>LastName</th>\n",
       "      <th>DateOfBirth</th>\n",
       "      <th>Gender</th>\n",
       "      <th>Race</th>\n",
       "      <th>Language</th>\n",
       "      <th>Fullname</th>\n",
       "    </tr>\n",
       "  </thead>\n",
       "  <tbody>\n",
       "    <tr>\n",
       "      <th>0</th>\n",
       "      <td>1</td>\n",
       "      <td>Lanni</td>\n",
       "      <td>Sue</td>\n",
       "      <td>1960-01-01 00:00:00.000</td>\n",
       "      <td>Male</td>\n",
       "      <td>White</td>\n",
       "      <td>English</td>\n",
       "      <td>Mr Lanni Sue</td>\n",
       "    </tr>\n",
       "    <tr>\n",
       "      <th>1</th>\n",
       "      <td>2</td>\n",
       "      <td>Far</td>\n",
       "      <td>Myers</td>\n",
       "      <td>1985-11-15 02:08:42.090</td>\n",
       "      <td>Male</td>\n",
       "      <td>White</td>\n",
       "      <td>English</td>\n",
       "      <td>Mr Far Myers</td>\n",
       "    </tr>\n",
       "    <tr>\n",
       "      <th>2</th>\n",
       "      <td>3</td>\n",
       "      <td>Devlin</td>\n",
       "      <td>Michael</td>\n",
       "      <td>1976-04-15 02:52:09.762</td>\n",
       "      <td>Male</td>\n",
       "      <td>White</td>\n",
       "      <td>English</td>\n",
       "      <td>Mr Devlin  Michael</td>\n",
       "    </tr>\n",
       "    <tr>\n",
       "      <th>3</th>\n",
       "      <td>4</td>\n",
       "      <td>Carmine</td>\n",
       "      <td>Texas</td>\n",
       "      <td>1968-10-15 03:32:13.635</td>\n",
       "      <td>Male</td>\n",
       "      <td>White</td>\n",
       "      <td>English</td>\n",
       "      <td>Mr Carmine Texas</td>\n",
       "    </tr>\n",
       "    <tr>\n",
       "      <th>4</th>\n",
       "      <td>5</td>\n",
       "      <td>Tann</td>\n",
       "      <td>Bama</td>\n",
       "      <td>1962-05-01 19:12:58.950</td>\n",
       "      <td>Male</td>\n",
       "      <td>White</td>\n",
       "      <td>English</td>\n",
       "      <td>Mr Tann  Bama</td>\n",
       "    </tr>\n",
       "    <tr>\n",
       "      <th>...</th>\n",
       "      <td>...</td>\n",
       "      <td>...</td>\n",
       "      <td>...</td>\n",
       "      <td>...</td>\n",
       "      <td>...</td>\n",
       "      <td>...</td>\n",
       "      <td>...</td>\n",
       "      <td>...</td>\n",
       "    </tr>\n",
       "    <tr>\n",
       "      <th>940</th>\n",
       "      <td>941</td>\n",
       "      <td>Wat</td>\n",
       "      <td>Fideler</td>\n",
       "      <td>1986-05-26 00:01:19.761</td>\n",
       "      <td>Male</td>\n",
       "      <td>Black/African-American</td>\n",
       "      <td>English</td>\n",
       "      <td>Mr Wat Fideler</td>\n",
       "    </tr>\n",
       "    <tr>\n",
       "      <th>941</th>\n",
       "      <td>942</td>\n",
       "      <td>Wandie</td>\n",
       "      <td>Baythrop</td>\n",
       "      <td>1970-06-10 21:41:03.814</td>\n",
       "      <td>Male</td>\n",
       "      <td>Black/African-American</td>\n",
       "      <td>English</td>\n",
       "      <td>Mr Wandie Baythrop</td>\n",
       "    </tr>\n",
       "    <tr>\n",
       "      <th>942</th>\n",
       "      <td>943</td>\n",
       "      <td>Diahann</td>\n",
       "      <td>Smeeton</td>\n",
       "      <td>1983-01-08 21:49:27.884</td>\n",
       "      <td>Male</td>\n",
       "      <td>Black/African-American</td>\n",
       "      <td>English</td>\n",
       "      <td>Mr Diahann Smeeton</td>\n",
       "    </tr>\n",
       "    <tr>\n",
       "      <th>943</th>\n",
       "      <td>944</td>\n",
       "      <td>Panchito</td>\n",
       "      <td>Sharple</td>\n",
       "      <td>1963-06-05 07:57:05.569</td>\n",
       "      <td>Male</td>\n",
       "      <td>Black/African-American</td>\n",
       "      <td>English</td>\n",
       "      <td>Mr Panchito Sharple</td>\n",
       "    </tr>\n",
       "    <tr>\n",
       "      <th>944</th>\n",
       "      <td>945</td>\n",
       "      <td>Walsh</td>\n",
       "      <td>Calvie</td>\n",
       "      <td>1972-08-06 03:40:03.454</td>\n",
       "      <td>Male</td>\n",
       "      <td>Black/African-American</td>\n",
       "      <td>English</td>\n",
       "      <td>Mr Walsh Calvie</td>\n",
       "    </tr>\n",
       "  </tbody>\n",
       "</table>\n",
       "<p>945 rows × 8 columns</p>\n",
       "</div>"
      ],
      "text/plain": [
       "     PatientID FirstName  LastName             DateOfBirth Gender  \\\n",
       "0            1     Lanni       Sue 1960-01-01 00:00:00.000   Male   \n",
       "1            2       Far     Myers 1985-11-15 02:08:42.090   Male   \n",
       "2            3   Devlin    Michael 1976-04-15 02:52:09.762   Male   \n",
       "3            4   Carmine     Texas 1968-10-15 03:32:13.635   Male   \n",
       "4            5     Tann       Bama 1962-05-01 19:12:58.950   Male   \n",
       "..         ...       ...       ...                     ...    ...   \n",
       "940        941       Wat   Fideler 1986-05-26 00:01:19.761   Male   \n",
       "941        942    Wandie  Baythrop 1970-06-10 21:41:03.814   Male   \n",
       "942        943   Diahann   Smeeton 1983-01-08 21:49:27.884   Male   \n",
       "943        944  Panchito   Sharple 1963-06-05 07:57:05.569   Male   \n",
       "944        945     Walsh    Calvie 1972-08-06 03:40:03.454   Male   \n",
       "\n",
       "                       Race Language             Fullname  \n",
       "0                     White  English         Mr Lanni Sue  \n",
       "1                     White  English         Mr Far Myers  \n",
       "2                     White  English   Mr Devlin  Michael  \n",
       "3                     White  English     Mr Carmine Texas  \n",
       "4                     White  English        Mr Tann  Bama  \n",
       "..                      ...      ...                  ...  \n",
       "940  Black/African-American  English       Mr Wat Fideler  \n",
       "941  Black/African-American  English   Mr Wandie Baythrop  \n",
       "942  Black/African-American  English   Mr Diahann Smeeton  \n",
       "943  Black/African-American  English  Mr Panchito Sharple  \n",
       "944  Black/African-American  English      Mr Walsh Calvie  \n",
       "\n",
       "[945 rows x 8 columns]"
      ]
     },
     "execution_count": 97,
     "metadata": {},
     "output_type": "execute_result"
    }
   ],
   "source": [
    "#Add a new column call Fullname and concatenate the name with the respective prefix\n",
    "df_PA.loc[df_PA['Gender'] == 'Male','Fullname'] = 'Mr'+' '+ df_PA['FirstName'] +' '+ df_PA['LastName']\n",
    "df_PA.loc[df_PA['Gender'] == 'Female','Fullname'] = 'Ms'+' '+ df_PA['FirstName'] +' '+ df_PA['LastName']\n",
    "df_PA"
   ]
  },
  {
   "cell_type": "code",
   "execution_count": 57,
   "id": "fab0f711",
   "metadata": {
    "scrolled": false
   },
   "outputs": [],
   "source": [
    "#df_PA[df_PA['Gender'] == 'Female']"
   ]
  },
  {
   "cell_type": "markdown",
   "id": "d9b649bf",
   "metadata": {},
   "source": [
    "## Question 32: Create a pie chart by taking Service= [\"ICU\", \"Neurology\", \"General\", \"Medicine\"] & ExpectedLOS=[10,5,7,9] & explode the wedge with highest LOS.\n"
   ]
  },
  {
   "cell_type": "code",
   "execution_count": 48,
   "id": "573539b2",
   "metadata": {},
   "outputs": [
    {
     "data": {
      "image/png": "[encoded data removed]",
      "text/plain": [
       "<Figure size 640x480 with 1 Axes>"
      ]
     },
     "metadata": {},
     "output_type": "display_data"
    }
   ],
   "source": [
    "#Pie Chart with Services and explode the highest LOS\n",
    "y = np.array([10,5,7,9])\n",
    "myexplode=[0.2,0,0,0]\n",
    "mylabels=[\"ICU\", \"Neurology\", \"General\", \"Medicine\"]\n",
    "#mycolors=[\"red\",\"black\",\"green\",\"#4CAF50\"]\n",
    "plt.pie(y, labels=mylabels, explode=myexplode, shadow= True)\n",
    "plt.show()"
   ]
  },
  {
   "cell_type": "markdown",
   "id": "6b5df7b8",
   "metadata": {},
   "source": [
    "## Question 33: Plot a graph to show the distribution of expected length of stay."
   ]
  },
  {
   "cell_type": "code",
   "execution_count": 55,
   "id": "0574f281",
   "metadata": {},
   "outputs": [
    {
     "data": {
      "image/png": "[encoded data removed]",
      "text/plain": [
       "<Figure size 500x500 with 1 Axes>"
      ]
     },
     "metadata": {},
     "output_type": "display_data"
    }
   ],
   "source": [
    "#Distribution Chart\n",
    "sns.displot(df_D[\"ExpectedLOS\"], kde=\"True\", bins=20)\n",
    "plt.show()"
   ]
  },
  {
   "cell_type": "markdown",
   "id": "e69ff176",
   "metadata": {},
   "source": [
    "## Q34: Create a WordCloud Chart with Reason For Visit."
   ]
  },
  {
   "cell_type": "code",
   "execution_count": 153,
   "id": "345829d4",
   "metadata": {},
   "outputs": [
    {
     "name": "stdout",
     "output_type": "stream",
     "text": [
      "<class 'str'>\n"
     ]
    },
    {
     "data": {
      "text/plain": [
       "(-0.5, 599.5, 399.5, -0.5)"
      ]
     },
     "execution_count": 153,
     "metadata": {},
     "output_type": "execute_result"
    },
    {
     "data": {
      "image/png": "[encoded data removed]",
      "text/plain": [
       "<Figure size 640x480 with 1 Axes>"
      ]
     },
     "metadata": {},
     "output_type": "display_data"
    }
   ],
   "source": [
    "data1 = df_E['ReasonForVisit']\n",
    "data1 =str(data1)\n",
    "print (type(data1) )\n",
    "# Creating wordcloud chart\n",
    "wordcloud = WordCloud(colormap=None, width=600, height=400).generate(data1)\n",
    "plt.imshow(wordcloud)\n",
    "plt.axis('off')"
   ]
  },
  {
   "cell_type": "markdown",
   "id": "8f468838",
   "metadata": {},
   "source": [
    "## Q35: np.arange(1,31).reshape(6,5), find array slicing to get the elements 4,5,24,25,29,30. When the value is less than 6, print as -1,else print 99."
   ]
  },
  {
   "cell_type": "code",
   "execution_count": 3,
   "id": "b7619d38",
   "metadata": {},
   "outputs": [
    {
     "name": "stdout",
     "output_type": "stream",
     "text": [
      "[[-1 -1]]\n",
      "[[99 99]\n",
      " [99 99]]\n"
     ]
    }
   ],
   "source": [
    "arr =np.arange(1,31)\n",
    "newarr =arr.reshape(6,5)\n",
    "sarr =(newarr[0:1 , 3:5])\n",
    "sarr1 =(newarr[4:6 , 3:5])\n",
    "sarr = np.where(sarr <6,-1, 99)\n",
    "sarr1 = np.where(sarr1 <6,-1, 99)\n",
    "print (sarr)\n",
    "print (sarr1)"
   ]
  },
  {
   "cell_type": "markdown",
   "id": "dcbc08cb",
   "metadata": {},
   "source": [
    "## Q36. Retrieve the count of patients who are prone to hypertension crisis. (SBP>180 & DBP>120)"
   ]
  },
  {
   "cell_type": "code",
   "execution_count": 90,
   "id": "e37ab441",
   "metadata": {},
   "outputs": [
    {
     "name": "stdout",
     "output_type": "stream",
     "text": [
      "Count of Patients: 101\n"
     ]
    }
   ],
   "source": [
    "Patient_count = df_AV.loc[(df_AV['BloodPressureSystolic'] > 180 ) & (df_AV['BloodPressureDiastolic'] > 120)]\n",
    "print('Count of Patients:',Patient_count['PatientMRN'].count())"
   ]
  },
  {
   "cell_type": "markdown",
   "id": "357b4ba1",
   "metadata": {},
   "source": [
    "## Q57. Find reasonForVisit with highest count of acuity 5 patients."
   ]
  },
  {
   "cell_type": "code",
   "execution_count": 255,
   "id": "c6c6b96a",
   "metadata": {},
   "outputs": [
    {
     "name": "stdout",
     "output_type": "stream",
     "text": [
      "ReasonForVisit\n",
      "Accident               37\n",
      "Car Accident           15\n",
      "Chest Pain             53\n",
      "Fever                  15\n",
      "Gun Shot               16\n",
      "Pneumonia              13\n",
      "Shortness of Breath    37\n",
      "Name: PatientID, dtype: int64\n"
     ]
    }
   ],
   "source": [
    "Rfv = df_E[df_E['Acuity'] == 5].groupby(['ReasonForVisit'])['PatientID'].count() # Total 186 from ED Visits Sheet\n",
    "print(Rfv)"
   ]
  },
  {
   "cell_type": "markdown",
   "id": "2a13054e",
   "metadata": {},
   "source": [
    "## Q58. Display full name of patients who are born in 1986"
   ]
  },
  {
   "cell_type": "code",
   "execution_count": 393,
   "id": "5bef4af2",
   "metadata": {},
   "outputs": [
    {
     "name": "stdout",
     "output_type": "stream",
     "text": [
      "23         Gabriel  Joseph\n",
      "24         Lincoln  Brenda\n",
      "29             Ala Halpert\n",
      "72            Lolita Darci\n",
      "164         Fadel Bernardt\n",
      "238         Bentley Kippax\n",
      "367            Vale Olanda\n",
      "373          Britt Dureden\n",
      "386       Cristabel Chatel\n",
      "415       Constantia Group\n",
      "452       Morgan Scrowston\n",
      "561             Dom Baglow\n",
      "568        Ignazio Melling\n",
      "595         Homenick Rings\n",
      "639           Hashim Slark\n",
      "643       Ellie Ramsbotham\n",
      "674        Llewellyn Group\n",
      "714             Niles Shaw\n",
      "733             Yvette Inc\n",
      "777          Siouxie Group\n",
      "852            Carly Group\n",
      "868        Worth Pickering\n",
      "877           Arni Baldack\n",
      "909       Kuvalis Coupland\n",
      "922    Rebbecca Rollingson\n",
      "940            Wat Fideler\n",
      "dtype: object\n"
     ]
    }
   ],
   "source": [
    "Fname= df_PA.loc[(df_PA['DateOfBirth'].dt.year) == 1986]\n",
    "print(Fname.FirstName+' '+Fname.LastName)"
   ]
  },
  {
   "cell_type": "markdown",
   "id": "384c8c47",
   "metadata": {},
   "source": [
    "## Q23: Add column 'Age' in Patient table."
   ]
  },
  {
   "cell_type": "code",
   "execution_count": 120,
   "id": "d76736f0",
   "metadata": {
    "scrolled": true
   },
   "outputs": [
    {
     "data": {
      "text/html": [
       "<div>\n",
       "<style scoped>\n",
       "    .dataframe tbody tr th:only-of-type {\n",
       "        vertical-align: middle;\n",
       "    }\n",
       "\n",
       "    .dataframe tbody tr th {\n",
       "        vertical-align: top;\n",
       "    }\n",
       "\n",
       "    .dataframe thead th {\n",
       "        text-align: right;\n",
       "    }\n",
       "</style>\n",
       "<table border=\"1\" class=\"dataframe\">\n",
       "  <thead>\n",
       "    <tr style=\"text-align: right;\">\n",
       "      <th></th>\n",
       "      <th>PatientID</th>\n",
       "      <th>FirstName</th>\n",
       "      <th>LastName</th>\n",
       "      <th>DateOfBirth</th>\n",
       "      <th>Gender</th>\n",
       "      <th>Race</th>\n",
       "      <th>Language</th>\n",
       "      <th>Fullname</th>\n",
       "      <th>Age</th>\n",
       "    </tr>\n",
       "  </thead>\n",
       "  <tbody>\n",
       "    <tr>\n",
       "      <th>0</th>\n",
       "      <td>1</td>\n",
       "      <td>Lanni</td>\n",
       "      <td>Sue</td>\n",
       "      <td>1960-01-01 00:00:00.000</td>\n",
       "      <td>Male</td>\n",
       "      <td>White</td>\n",
       "      <td>English</td>\n",
       "      <td>Mr Lanni Sue</td>\n",
       "      <td>63</td>\n",
       "    </tr>\n",
       "    <tr>\n",
       "      <th>1</th>\n",
       "      <td>2</td>\n",
       "      <td>Far</td>\n",
       "      <td>Myers</td>\n",
       "      <td>1985-11-15 02:08:42.090</td>\n",
       "      <td>Male</td>\n",
       "      <td>White</td>\n",
       "      <td>English</td>\n",
       "      <td>Mr Far Myers</td>\n",
       "      <td>38</td>\n",
       "    </tr>\n",
       "    <tr>\n",
       "      <th>2</th>\n",
       "      <td>3</td>\n",
       "      <td>Devlin</td>\n",
       "      <td>Michael</td>\n",
       "      <td>1976-04-15 02:52:09.762</td>\n",
       "      <td>Male</td>\n",
       "      <td>White</td>\n",
       "      <td>English</td>\n",
       "      <td>Mr Devlin  Michael</td>\n",
       "      <td>47</td>\n",
       "    </tr>\n",
       "    <tr>\n",
       "      <th>3</th>\n",
       "      <td>4</td>\n",
       "      <td>Carmine</td>\n",
       "      <td>Texas</td>\n",
       "      <td>1968-10-15 03:32:13.635</td>\n",
       "      <td>Male</td>\n",
       "      <td>White</td>\n",
       "      <td>English</td>\n",
       "      <td>Mr Carmine Texas</td>\n",
       "      <td>55</td>\n",
       "    </tr>\n",
       "    <tr>\n",
       "      <th>4</th>\n",
       "      <td>5</td>\n",
       "      <td>Tann</td>\n",
       "      <td>Bama</td>\n",
       "      <td>1962-05-01 19:12:58.950</td>\n",
       "      <td>Male</td>\n",
       "      <td>White</td>\n",
       "      <td>English</td>\n",
       "      <td>Mr Tann  Bama</td>\n",
       "      <td>61</td>\n",
       "    </tr>\n",
       "    <tr>\n",
       "      <th>...</th>\n",
       "      <td>...</td>\n",
       "      <td>...</td>\n",
       "      <td>...</td>\n",
       "      <td>...</td>\n",
       "      <td>...</td>\n",
       "      <td>...</td>\n",
       "      <td>...</td>\n",
       "      <td>...</td>\n",
       "      <td>...</td>\n",
       "    </tr>\n",
       "    <tr>\n",
       "      <th>940</th>\n",
       "      <td>941</td>\n",
       "      <td>Wat</td>\n",
       "      <td>Fideler</td>\n",
       "      <td>1986-05-26 00:01:19.761</td>\n",
       "      <td>Male</td>\n",
       "      <td>Black/African-American</td>\n",
       "      <td>English</td>\n",
       "      <td>Mr Wat Fideler</td>\n",
       "      <td>37</td>\n",
       "    </tr>\n",
       "    <tr>\n",
       "      <th>941</th>\n",
       "      <td>942</td>\n",
       "      <td>Wandie</td>\n",
       "      <td>Baythrop</td>\n",
       "      <td>1970-06-10 21:41:03.814</td>\n",
       "      <td>Male</td>\n",
       "      <td>Black/African-American</td>\n",
       "      <td>English</td>\n",
       "      <td>Mr Wandie Baythrop</td>\n",
       "      <td>53</td>\n",
       "    </tr>\n",
       "    <tr>\n",
       "      <th>942</th>\n",
       "      <td>943</td>\n",
       "      <td>Diahann</td>\n",
       "      <td>Smeeton</td>\n",
       "      <td>1983-01-08 21:49:27.884</td>\n",
       "      <td>Male</td>\n",
       "      <td>Black/African-American</td>\n",
       "      <td>English</td>\n",
       "      <td>Mr Diahann Smeeton</td>\n",
       "      <td>40</td>\n",
       "    </tr>\n",
       "    <tr>\n",
       "      <th>943</th>\n",
       "      <td>944</td>\n",
       "      <td>Panchito</td>\n",
       "      <td>Sharple</td>\n",
       "      <td>1963-06-05 07:57:05.569</td>\n",
       "      <td>Male</td>\n",
       "      <td>Black/African-American</td>\n",
       "      <td>English</td>\n",
       "      <td>Mr Panchito Sharple</td>\n",
       "      <td>60</td>\n",
       "    </tr>\n",
       "    <tr>\n",
       "      <th>944</th>\n",
       "      <td>945</td>\n",
       "      <td>Walsh</td>\n",
       "      <td>Calvie</td>\n",
       "      <td>1972-08-06 03:40:03.454</td>\n",
       "      <td>Male</td>\n",
       "      <td>Black/African-American</td>\n",
       "      <td>English</td>\n",
       "      <td>Mr Walsh Calvie</td>\n",
       "      <td>51</td>\n",
       "    </tr>\n",
       "  </tbody>\n",
       "</table>\n",
       "<p>945 rows × 9 columns</p>\n",
       "</div>"
      ],
      "text/plain": [
       "     PatientID FirstName  LastName             DateOfBirth Gender  \\\n",
       "0            1     Lanni       Sue 1960-01-01 00:00:00.000   Male   \n",
       "1            2       Far     Myers 1985-11-15 02:08:42.090   Male   \n",
       "2            3   Devlin    Michael 1976-04-15 02:52:09.762   Male   \n",
       "3            4   Carmine     Texas 1968-10-15 03:32:13.635   Male   \n",
       "4            5     Tann       Bama 1962-05-01 19:12:58.950   Male   \n",
       "..         ...       ...       ...                     ...    ...   \n",
       "940        941       Wat   Fideler 1986-05-26 00:01:19.761   Male   \n",
       "941        942    Wandie  Baythrop 1970-06-10 21:41:03.814   Male   \n",
       "942        943   Diahann   Smeeton 1983-01-08 21:49:27.884   Male   \n",
       "943        944  Panchito   Sharple 1963-06-05 07:57:05.569   Male   \n",
       "944        945     Walsh    Calvie 1972-08-06 03:40:03.454   Male   \n",
       "\n",
       "                       Race Language             Fullname  Age  \n",
       "0                     White  English         Mr Lanni Sue   63  \n",
       "1                     White  English         Mr Far Myers   38  \n",
       "2                     White  English   Mr Devlin  Michael   47  \n",
       "3                     White  English     Mr Carmine Texas   55  \n",
       "4                     White  English        Mr Tann  Bama   61  \n",
       "..                      ...      ...                  ...  ...  \n",
       "940  Black/African-American  English       Mr Wat Fideler   37  \n",
       "941  Black/African-American  English   Mr Wandie Baythrop   53  \n",
       "942  Black/African-American  English   Mr Diahann Smeeton   40  \n",
       "943  Black/African-American  English  Mr Panchito Sharple   60  \n",
       "944  Black/African-American  English      Mr Walsh Calvie   51  \n",
       "\n",
       "[945 rows x 9 columns]"
      ]
     },
     "execution_count": 120,
     "metadata": {},
     "output_type": "execute_result"
    }
   ],
   "source": [
    "Age = datetime.today().year - df_PA['DateOfBirth'].dt.year\n",
    "df_PA['Age'] = Age\n",
    "df_PA"
   ]
  },
  {
   "cell_type": "markdown",
   "id": "cf3fb087",
   "metadata": {},
   "source": [
    "## Q24: Using arrays and loops, find the count of patients based on gender."
   ]
  },
  {
   "cell_type": "code",
   "execution_count": 154,
   "id": "39196089",
   "metadata": {},
   "outputs": [
    {
     "data": {
      "text/plain": [
       "537"
      ]
     },
     "execution_count": 154,
     "metadata": {},
     "output_type": "execute_result"
    }
   ],
   "source": [
    "test = df_PA[df_PA['Gender'] == 'Male']     #Still need to work on this\n",
    "#t1 = np.array[test]#.size\n",
    "test['Gender'].count() # returns the count 537\n",
    "#x = len(test) # returns the count 537 with array function len()\n",
    "#print(x)\n",
    "#for x in range(test):\n",
    "#    print(x)\n"
   ]
  },
  {
   "cell_type": "markdown",
   "id": "10968bbf",
   "metadata": {},
   "source": [
    "## Q30.Using loc , get the details of the providers where providerId is between 11 and 20 and ProviderSpecialty is Surgery."
   ]
  },
  {
   "cell_type": "code",
   "execution_count": 163,
   "id": "54ad1f83",
   "metadata": {},
   "outputs": [
    {
     "name": "stdout",
     "output_type": "stream",
     "text": [
      "    ProviderID     ProviderName ProviderSpecialty     ProviderDateOnStaff\n",
      "10          11     Kim Kimberly           Surgery 1998-05-10 14:47:29.468\n",
      "11          12         Sarah Ab           Surgery 1998-08-18 05:22:40.762\n",
      "12          13  Abigail Marriot           Surgery 1998-11-08 12:25:45.705\n",
      "13          14          Dave Yu           Surgery 1999-06-26 16:18:57.436\n",
      "14          15  Christian Saint           Surgery 2000-08-27 00:12:40.326\n",
      "15          16     Perry Pardon           Surgery 2001-02-13 11:49:17.862\n"
     ]
    }
   ],
   "source": [
    "P_details = df_P.loc[(df_P['ProviderID'] > 10) & (df_P['ProviderID'] < 21) & (df_P['ProviderSpecialty'] == 'Surgery')]\n",
    "print(P_details)"
   ]
  },
  {
   "cell_type": "markdown",
   "id": "9d4b6365",
   "metadata": {},
   "source": [
    "## Q38.Using loc, retrieve the firstname and lastname of patients between indices 101 and 200."
   ]
  },
  {
   "cell_type": "code",
   "execution_count": 418,
   "id": "4d07af71",
   "metadata": {},
   "outputs": [
    {
     "data": {
      "text/html": [
       "<div>\n",
       "<style scoped>\n",
       "    .dataframe tbody tr th:only-of-type {\n",
       "        vertical-align: middle;\n",
       "    }\n",
       "\n",
       "    .dataframe tbody tr th {\n",
       "        vertical-align: top;\n",
       "    }\n",
       "\n",
       "    .dataframe thead th {\n",
       "        text-align: right;\n",
       "    }\n",
       "</style>\n",
       "<table border=\"1\" class=\"dataframe\">\n",
       "  <thead>\n",
       "    <tr style=\"text-align: right;\">\n",
       "      <th></th>\n",
       "      <th>FirstName</th>\n",
       "      <th>LastName</th>\n",
       "    </tr>\n",
       "  </thead>\n",
       "  <tbody>\n",
       "    <tr>\n",
       "      <th>101</th>\n",
       "      <td>Gipsy</td>\n",
       "      <td>Frankton</td>\n",
       "    </tr>\n",
       "    <tr>\n",
       "      <th>102</th>\n",
       "      <td>Jethro</td>\n",
       "      <td>Wharin</td>\n",
       "    </tr>\n",
       "    <tr>\n",
       "      <th>103</th>\n",
       "      <td>Viv</td>\n",
       "      <td>Aylward</td>\n",
       "    </tr>\n",
       "    <tr>\n",
       "      <th>104</th>\n",
       "      <td>Swift</td>\n",
       "      <td>Dreschler</td>\n",
       "    </tr>\n",
       "    <tr>\n",
       "      <th>105</th>\n",
       "      <td>Fadel</td>\n",
       "      <td>Jacquemard</td>\n",
       "    </tr>\n",
       "    <tr>\n",
       "      <th>...</th>\n",
       "      <td>...</td>\n",
       "      <td>...</td>\n",
       "    </tr>\n",
       "    <tr>\n",
       "      <th>196</th>\n",
       "      <td>Noam</td>\n",
       "      <td>Laguerre</td>\n",
       "    </tr>\n",
       "    <tr>\n",
       "      <th>197</th>\n",
       "      <td>Arie</td>\n",
       "      <td>Bayless</td>\n",
       "    </tr>\n",
       "    <tr>\n",
       "      <th>198</th>\n",
       "      <td>Janaye</td>\n",
       "      <td>O'Mohun</td>\n",
       "    </tr>\n",
       "    <tr>\n",
       "      <th>199</th>\n",
       "      <td>Fonz</td>\n",
       "      <td>Group</td>\n",
       "    </tr>\n",
       "    <tr>\n",
       "      <th>200</th>\n",
       "      <td>Cummings</td>\n",
       "      <td>Pickup</td>\n",
       "    </tr>\n",
       "  </tbody>\n",
       "</table>\n",
       "<p>100 rows × 2 columns</p>\n",
       "</div>"
      ],
      "text/plain": [
       "    FirstName    LastName\n",
       "101     Gipsy    Frankton\n",
       "102    Jethro      Wharin\n",
       "103       Viv     Aylward\n",
       "104     Swift   Dreschler\n",
       "105     Fadel  Jacquemard\n",
       "..        ...         ...\n",
       "196      Noam    Laguerre\n",
       "197      Arie     Bayless\n",
       "198    Janaye     O'Mohun\n",
       "199      Fonz       Group\n",
       "200  Cummings      Pickup\n",
       "\n",
       "[100 rows x 2 columns]"
      ]
     },
     "execution_count": 418,
     "metadata": {},
     "output_type": "execute_result"
    }
   ],
   "source": [
    "#Using Pandas Loc to Index with Slices\n",
    "#a = df_PA.loc[101:200]\n",
    "loc_indices = df_PA.loc[101:200, ['FirstName','LastName']]\n",
    "loc_indices"
   ]
  },
  {
   "cell_type": "markdown",
   "id": "14985a0e",
   "metadata": {},
   "source": [
    "## Q26:Plot a graph to show the distribution of expected mortality."
   ]
  },
  {
   "cell_type": "code",
   "execution_count": 210,
   "id": "c8baa906",
   "metadata": {},
   "outputs": [
    {
     "data": {
      "image/png": "[encoded data removed]",
      "text/plain": [
       "<Figure size 500x500 with 1 Axes>"
      ]
     },
     "metadata": {},
     "output_type": "display_data"
    }
   ],
   "source": [
    "#kde is Kernel Density Estimation plot\n",
    "#sns.displot(df_RE['ExpectedMortality'], kde=True, bins=20)\n",
    "#plt.show()\n",
    "sns.displot(df_D['ExpectedMortality'], stat = 'probability', kde = True, bins = 20)\n",
    "plt.show()"
   ]
  },
  {
   "cell_type": "markdown",
   "id": "3914b2a0",
   "metadata": {},
   "source": [
    "## Q40.Create a jointplot on expected mortality & expected length of stay."
   ]
  },
  {
   "cell_type": "code",
   "execution_count": 225,
   "id": "fa5e2c47",
   "metadata": {},
   "outputs": [
    {
     "data": {
      "image/png": "[encoded data removed]",
      "text/plain": [
       "<Figure size 600x600 with 3 Axes>"
      ]
     },
     "metadata": {},
     "output_type": "display_data"
    }
   ],
   "source": [
    "#ExpectedLOS, ExpectedMortality from Discharges Sheet\n",
    "sns.jointplot(data = df_D, x = 'ExpectedMortality',y = 'ExpectedLOS',kind = 'hex')\n",
    "#height=6, ratio=5, space=0.2, kind = 'scatter')#,color='blue')\n",
    "plt.show()"
   ]
  },
  {
   "cell_type": "markdown",
   "id": "04b7436a",
   "metadata": {},
   "source": [
    "## Q28.Find the visit type with maximum 'No Show'."
   ]
  },
  {
   "cell_type": "code",
   "execution_count": 423,
   "id": "8dd66b26",
   "metadata": {},
   "outputs": [
    {
     "name": "stdout",
     "output_type": "stream",
     "text": [
      "VisitType\n",
      "Telemedicine    74\n",
      "Name: PatientMRN, dtype: int64\n"
     ]
    }
   ],
   "source": [
    "#Top value of the sorted list is displayed\n",
    "V_Type = df_AV[df_AV['VisitStatus'] == 'No Show'].groupby(['VisitType'])['PatientMRN'].count().sort_values(ascending=False) \n",
    "print(V_Type.head(1))"
   ]
  },
  {
   "cell_type": "markdown",
   "id": "55f07a45",
   "metadata": {},
   "source": [
    "## Q27.Which departmentID has maximum number of visits scheduled."
   ]
  },
  {
   "cell_type": "code",
   "execution_count": 287,
   "id": "fcddf7e7",
   "metadata": {},
   "outputs": [
    {
     "name": "stdout",
     "output_type": "stream",
     "text": [
      "departmentID with maximum number of visits: [11]\n"
     ]
    }
   ],
   "source": [
    "#from collections import Counter -- included in the top\n",
    "lst = df_AV['VisitDepartmentID']\n",
    "cnt = Counter(lst)\n",
    "maximums = [x for x in cnt if cnt[x] == cnt.most_common(1)[0][1]]\n",
    "print('departmentID with maximum number of visits:',maximums)"
   ]
  },
  {
   "cell_type": "markdown",
   "id": "9d1fb62d",
   "metadata": {},
   "source": [
    "## Q37.Display the data where actual LOS is greater than expected LOS."
   ]
  },
  {
   "cell_type": "code",
   "execution_count": 414,
   "id": "423ce9db",
   "metadata": {},
   "outputs": [
    {
     "data": {
      "text/html": [
       "<div>\n",
       "<style scoped>\n",
       "    .dataframe tbody tr th:only-of-type {\n",
       "        vertical-align: middle;\n",
       "    }\n",
       "\n",
       "    .dataframe tbody tr th {\n",
       "        vertical-align: top;\n",
       "    }\n",
       "\n",
       "    .dataframe thead th {\n",
       "        text-align: right;\n",
       "    }\n",
       "</style>\n",
       "<table border=\"1\" class=\"dataframe\">\n",
       "  <thead>\n",
       "    <tr style=\"text-align: right;\">\n",
       "      <th></th>\n",
       "      <th>AdmissionID</th>\n",
       "      <th>PatientID</th>\n",
       "      <th>AdmissionDate</th>\n",
       "      <th>DischargeDate</th>\n",
       "      <th>DischargeDisposition</th>\n",
       "      <th>Service</th>\n",
       "      <th>PrimaryDiagnosis</th>\n",
       "      <th>ExpectedLOS</th>\n",
       "      <th>ExpectedMortality</th>\n",
       "      <th>ActualLOS</th>\n",
       "    </tr>\n",
       "  </thead>\n",
       "  <tbody>\n",
       "    <tr>\n",
       "      <th>1</th>\n",
       "      <td>257</td>\n",
       "      <td>93</td>\n",
       "      <td>2018-01-06</td>\n",
       "      <td>2018-01-18 02:59:04.667</td>\n",
       "      <td>Expired</td>\n",
       "      <td>Cardiology</td>\n",
       "      <td>Broken Leg</td>\n",
       "      <td>6.816558</td>\n",
       "      <td>0.628827</td>\n",
       "      <td>12.124360</td>\n",
       "    </tr>\n",
       "    <tr>\n",
       "      <th>4</th>\n",
       "      <td>258</td>\n",
       "      <td>103</td>\n",
       "      <td>2018-01-07</td>\n",
       "      <td>2018-01-15 13:32:36.157</td>\n",
       "      <td>Expired</td>\n",
       "      <td>Cardiology</td>\n",
       "      <td>Broken Leg</td>\n",
       "      <td>2.639297</td>\n",
       "      <td>0.055468</td>\n",
       "      <td>8.564307</td>\n",
       "    </tr>\n",
       "    <tr>\n",
       "      <th>5</th>\n",
       "      <td>395</td>\n",
       "      <td>109</td>\n",
       "      <td>2018-01-07</td>\n",
       "      <td>2018-01-22 17:57:37.103</td>\n",
       "      <td>Expired</td>\n",
       "      <td>Cardiology</td>\n",
       "      <td>Flu</td>\n",
       "      <td>2.981758</td>\n",
       "      <td>0.192976</td>\n",
       "      <td>15.748346</td>\n",
       "    </tr>\n",
       "    <tr>\n",
       "      <th>6</th>\n",
       "      <td>396</td>\n",
       "      <td>115</td>\n",
       "      <td>2018-01-08</td>\n",
       "      <td>2018-01-17 02:19:05.623</td>\n",
       "      <td>Expired</td>\n",
       "      <td>Cardiology</td>\n",
       "      <td>Flu</td>\n",
       "      <td>4.959098</td>\n",
       "      <td>0.254923</td>\n",
       "      <td>9.096593</td>\n",
       "    </tr>\n",
       "    <tr>\n",
       "      <th>7</th>\n",
       "      <td>259</td>\n",
       "      <td>116</td>\n",
       "      <td>2018-01-08</td>\n",
       "      <td>2018-01-20 03:40:53.605</td>\n",
       "      <td>Expired</td>\n",
       "      <td>Cardiology</td>\n",
       "      <td>Broken Leg</td>\n",
       "      <td>2.279624</td>\n",
       "      <td>0.491274</td>\n",
       "      <td>12.153398</td>\n",
       "    </tr>\n",
       "    <tr>\n",
       "      <th>...</th>\n",
       "      <td>...</td>\n",
       "      <td>...</td>\n",
       "      <td>...</td>\n",
       "      <td>...</td>\n",
       "      <td>...</td>\n",
       "      <td>...</td>\n",
       "      <td>...</td>\n",
       "      <td>...</td>\n",
       "      <td>...</td>\n",
       "      <td>...</td>\n",
       "    </tr>\n",
       "    <tr>\n",
       "      <th>712</th>\n",
       "      <td>703</td>\n",
       "      <td>703</td>\n",
       "      <td>2018-02-21</td>\n",
       "      <td>2018-02-27 08:53:38.211</td>\n",
       "      <td>Transfer</td>\n",
       "      <td>General Medicine</td>\n",
       "      <td>Pneumonia</td>\n",
       "      <td>3.539165</td>\n",
       "      <td>0.275691</td>\n",
       "      <td>6.370581</td>\n",
       "    </tr>\n",
       "    <tr>\n",
       "      <th>713</th>\n",
       "      <td>709</td>\n",
       "      <td>708</td>\n",
       "      <td>2018-02-21</td>\n",
       "      <td>2018-03-01 05:59:22.116</td>\n",
       "      <td>Transfer</td>\n",
       "      <td>General Medicine</td>\n",
       "      <td>Diabetes</td>\n",
       "      <td>4.518876</td>\n",
       "      <td>0.455570</td>\n",
       "      <td>8.249562</td>\n",
       "    </tr>\n",
       "    <tr>\n",
       "      <th>714</th>\n",
       "      <td>697</td>\n",
       "      <td>713</td>\n",
       "      <td>2018-02-21</td>\n",
       "      <td>2018-03-04 00:23:19.967</td>\n",
       "      <td>Transfer</td>\n",
       "      <td>General Medicine</td>\n",
       "      <td>Pneumonia</td>\n",
       "      <td>8.542970</td>\n",
       "      <td>0.201036</td>\n",
       "      <td>11.016203</td>\n",
       "    </tr>\n",
       "    <tr>\n",
       "      <th>715</th>\n",
       "      <td>715</td>\n",
       "      <td>716</td>\n",
       "      <td>2018-02-21</td>\n",
       "      <td>2018-03-06 03:31:05.262</td>\n",
       "      <td>Transfer</td>\n",
       "      <td>ICU</td>\n",
       "      <td>Heart Failure</td>\n",
       "      <td>11.362095</td>\n",
       "      <td>0.370695</td>\n",
       "      <td>13.146589</td>\n",
       "    </tr>\n",
       "    <tr>\n",
       "      <th>719</th>\n",
       "      <td>710</td>\n",
       "      <td>742</td>\n",
       "      <td>2018-02-22</td>\n",
       "      <td>2018-03-10 20:38:30.568</td>\n",
       "      <td>Transfer</td>\n",
       "      <td>General Medicine</td>\n",
       "      <td>Diabetes</td>\n",
       "      <td>7.195441</td>\n",
       "      <td>0.286439</td>\n",
       "      <td>16.860076</td>\n",
       "    </tr>\n",
       "  </tbody>\n",
       "</table>\n",
       "<p>416 rows × 10 columns</p>\n",
       "</div>"
      ],
      "text/plain": [
       "     AdmissionID  PatientID AdmissionDate           DischargeDate  \\\n",
       "1            257         93    2018-01-06 2018-01-18 02:59:04.667   \n",
       "4            258        103    2018-01-07 2018-01-15 13:32:36.157   \n",
       "5            395        109    2018-01-07 2018-01-22 17:57:37.103   \n",
       "6            396        115    2018-01-08 2018-01-17 02:19:05.623   \n",
       "7            259        116    2018-01-08 2018-01-20 03:40:53.605   \n",
       "..           ...        ...           ...                     ...   \n",
       "712          703        703    2018-02-21 2018-02-27 08:53:38.211   \n",
       "713          709        708    2018-02-21 2018-03-01 05:59:22.116   \n",
       "714          697        713    2018-02-21 2018-03-04 00:23:19.967   \n",
       "715          715        716    2018-02-21 2018-03-06 03:31:05.262   \n",
       "719          710        742    2018-02-22 2018-03-10 20:38:30.568   \n",
       "\n",
       "    DischargeDisposition           Service PrimaryDiagnosis  ExpectedLOS  \\\n",
       "1                Expired        Cardiology       Broken Leg     6.816558   \n",
       "4                Expired        Cardiology       Broken Leg     2.639297   \n",
       "5                Expired        Cardiology              Flu     2.981758   \n",
       "6                Expired        Cardiology              Flu     4.959098   \n",
       "7                Expired        Cardiology       Broken Leg     2.279624   \n",
       "..                   ...               ...              ...          ...   \n",
       "712             Transfer  General Medicine        Pneumonia     3.539165   \n",
       "713             Transfer  General Medicine         Diabetes     4.518876   \n",
       "714             Transfer  General Medicine        Pneumonia     8.542970   \n",
       "715             Transfer               ICU    Heart Failure    11.362095   \n",
       "719             Transfer  General Medicine         Diabetes     7.195441   \n",
       "\n",
       "     ExpectedMortality  ActualLOS  \n",
       "1             0.628827  12.124360  \n",
       "4             0.055468   8.564307  \n",
       "5             0.192976  15.748346  \n",
       "6             0.254923   9.096593  \n",
       "7             0.491274  12.153398  \n",
       "..                 ...        ...  \n",
       "712           0.275691   6.370581  \n",
       "713           0.455570   8.249562  \n",
       "714           0.201036  11.016203  \n",
       "715           0.370695  13.146589  \n",
       "719           0.286439  16.860076  \n",
       "\n",
       "[416 rows x 10 columns]"
      ]
     },
     "execution_count": 414,
     "metadata": {},
     "output_type": "execute_result"
    }
   ],
   "source": [
    "#Calculate the Actual Length Of Stay\n",
    "ActualLOS = df_D['DischargeDate'] - df_D['AdmissionDate']\n",
    "\n",
    "#Converting the datetime stamp to float in days\n",
    "df_D['ActualLOS']= ActualLOS/np.timedelta64(1, 'D')\n",
    "\n",
    "Data_diff = df_D[df_D['ActualLOS'] > df_D['ExpectedLOS']]\n",
    "Data_diff"
   ]
  },
  {
   "cell_type": "markdown",
   "id": "9a91509b",
   "metadata": {},
   "source": [
    "## Q29.Which demographic patients are prone to get stroke?"
   ]
  },
  {
   "cell_type": "code",
   "execution_count": 403,
   "id": "a2665885",
   "metadata": {},
   "outputs": [
    {
     "name": "stdout",
     "output_type": "stream",
     "text": [
      "Race\n",
      "Black/African-American    40\n",
      "Name: PatientID, dtype: int64\n"
     ]
    }
   ],
   "source": [
    "#Extracting only 2 fields based on 'PrimaryDiagnosis'\n",
    "df_RE_new = df_RE.loc[df_RE['PrimaryDiagnosis'] == 'Stroke', 'PatientID']\n",
    "\n",
    "#Merging based on PatientID\n",
    "merge_df_pd = pd.merge(df_PA, df_RE_new, on=\"PatientID\") \n",
    "\n",
    "#Grouping based on Race\n",
    "p_stroke = merge_df_pd.groupby(['Race'])['PatientID'].count().sort_values(ascending=False)\n",
    "print(p_stroke.head(1))"
   ]
  },
  {
   "cell_type": "markdown",
   "id": "ad80a5b6",
   "metadata": {},
   "source": [
    "## Q25.Create bins to segregate Patients with 'Mild Hypertension','Moderate ','High Hypertension','Severe Hypertension'. Create a new column to show your analysis."
   ]
  },
  {
   "cell_type": "code",
   "execution_count": 470,
   "id": "9b15fb64",
   "metadata": {
    "scrolled": true
   },
   "outputs": [
    {
     "data": {
      "text/html": [
       "<div>\n",
       "<style scoped>\n",
       "    .dataframe tbody tr th:only-of-type {\n",
       "        vertical-align: middle;\n",
       "    }\n",
       "\n",
       "    .dataframe tbody tr th {\n",
       "        vertical-align: top;\n",
       "    }\n",
       "\n",
       "    .dataframe thead th {\n",
       "        text-align: right;\n",
       "    }\n",
       "</style>\n",
       "<table border=\"1\" class=\"dataframe\">\n",
       "  <thead>\n",
       "    <tr style=\"text-align: right;\">\n",
       "      <th></th>\n",
       "      <th>VisitID</th>\n",
       "      <th>PatientMRN</th>\n",
       "      <th>BloodPressureSystolic</th>\n",
       "      <th>Analysis</th>\n",
       "    </tr>\n",
       "  </thead>\n",
       "  <tbody>\n",
       "    <tr>\n",
       "      <th>0</th>\n",
       "      <td>202</td>\n",
       "      <td>840</td>\n",
       "      <td>188.0</td>\n",
       "      <td>Severe Hypertension</td>\n",
       "    </tr>\n",
       "    <tr>\n",
       "      <th>1</th>\n",
       "      <td>436</td>\n",
       "      <td>820</td>\n",
       "      <td>179.0</td>\n",
       "      <td>High Hypertension</td>\n",
       "    </tr>\n",
       "    <tr>\n",
       "      <th>2</th>\n",
       "      <td>794</td>\n",
       "      <td>879</td>\n",
       "      <td>133.0</td>\n",
       "      <td>Moderate Hypertension</td>\n",
       "    </tr>\n",
       "    <tr>\n",
       "      <th>3</th>\n",
       "      <td>799</td>\n",
       "      <td>884</td>\n",
       "      <td>132.0</td>\n",
       "      <td>Moderate Hypertension</td>\n",
       "    </tr>\n",
       "    <tr>\n",
       "      <th>4</th>\n",
       "      <td>515</td>\n",
       "      <td>32</td>\n",
       "      <td>131.0</td>\n",
       "      <td>Moderate Hypertension</td>\n",
       "    </tr>\n",
       "    <tr>\n",
       "      <th>...</th>\n",
       "      <td>...</td>\n",
       "      <td>...</td>\n",
       "      <td>...</td>\n",
       "      <td>...</td>\n",
       "    </tr>\n",
       "    <tr>\n",
       "      <th>945</th>\n",
       "      <td>788</td>\n",
       "      <td>873</td>\n",
       "      <td>187.0</td>\n",
       "      <td>Severe Hypertension</td>\n",
       "    </tr>\n",
       "    <tr>\n",
       "      <th>946</th>\n",
       "      <td>703</td>\n",
       "      <td>855</td>\n",
       "      <td>182.0</td>\n",
       "      <td>Severe Hypertension</td>\n",
       "    </tr>\n",
       "    <tr>\n",
       "      <th>947</th>\n",
       "      <td>481</td>\n",
       "      <td>865</td>\n",
       "      <td>150.0</td>\n",
       "      <td>High Hypertension</td>\n",
       "    </tr>\n",
       "    <tr>\n",
       "      <th>948</th>\n",
       "      <td>398</td>\n",
       "      <td>635</td>\n",
       "      <td>177.0</td>\n",
       "      <td>High Hypertension</td>\n",
       "    </tr>\n",
       "    <tr>\n",
       "      <th>949</th>\n",
       "      <td>695</td>\n",
       "      <td>847</td>\n",
       "      <td>165.0</td>\n",
       "      <td>High Hypertension</td>\n",
       "    </tr>\n",
       "  </tbody>\n",
       "</table>\n",
       "<p>950 rows × 4 columns</p>\n",
       "</div>"
      ],
      "text/plain": [
       "     VisitID  PatientMRN  BloodPressureSystolic               Analysis\n",
       "0        202         840                  188.0    Severe Hypertension\n",
       "1        436         820                  179.0      High Hypertension\n",
       "2        794         879                  133.0  Moderate Hypertension\n",
       "3        799         884                  132.0  Moderate Hypertension\n",
       "4        515          32                  131.0  Moderate Hypertension\n",
       "..       ...         ...                    ...                    ...\n",
       "945      788         873                  187.0    Severe Hypertension\n",
       "946      703         855                  182.0    Severe Hypertension\n",
       "947      481         865                  150.0      High Hypertension\n",
       "948      398         635                  177.0      High Hypertension\n",
       "949      695         847                  165.0      High Hypertension\n",
       "\n",
       "[950 rows x 4 columns]"
      ]
     },
     "execution_count": 470,
     "metadata": {},
     "output_type": "execute_result"
    }
   ],
   "source": [
    "#Creating bins\n",
    "SBP_based = [120,130,140,180,190]\n",
    "\n",
    "#Giving labels for the created bins\n",
    "label_SBP = [\"Mild Hypertension\", \"Moderate Hypertension\", \"High Hypertension\", \"Severe Hypertension\"]\n",
    "\n",
    "#Creating new column in the Dataframe\n",
    "df_AV['Analysis'] = pd.cut(df_AV['BloodPressureSystolic'], bins = SBP_based, labels =  label_SBP)\n",
    "\n",
    "#Creating a new Dataframe with a selected columns\n",
    "df_AV_new_Hyp = df_AV[['VisitID','PatientMRN','BloodPressureSystolic','Analysis']].copy()\n",
    "df_AV_new_Hyp\n"
   ]
  },
  {
   "cell_type": "markdown",
   "id": "5ae10b28",
   "metadata": {},
   "source": [
    "## Q39. Delete the column 'DischargeDispostion' iteratively."
   ]
  },
  {
   "cell_type": "code",
   "execution_count": 474,
   "id": "398f6071",
   "metadata": {},
   "outputs": [
    {
     "data": {
      "text/html": [
       "<div>\n",
       "<style scoped>\n",
       "    .dataframe tbody tr th:only-of-type {\n",
       "        vertical-align: middle;\n",
       "    }\n",
       "\n",
       "    .dataframe tbody tr th {\n",
       "        vertical-align: top;\n",
       "    }\n",
       "\n",
       "    .dataframe thead th {\n",
       "        text-align: right;\n",
       "    }\n",
       "</style>\n",
       "<table border=\"1\" class=\"dataframe\">\n",
       "  <thead>\n",
       "    <tr style=\"text-align: right;\">\n",
       "      <th></th>\n",
       "      <th>AdmissionID</th>\n",
       "      <th>PatientID</th>\n",
       "      <th>AdmissionDate</th>\n",
       "      <th>DischargeDate</th>\n",
       "      <th>Service</th>\n",
       "      <th>PrimaryDiagnosis</th>\n",
       "      <th>ExpectedLOS</th>\n",
       "      <th>ExpectedMortality</th>\n",
       "      <th>ReadmissionFlag</th>\n",
       "      <th>DaysToReadmission</th>\n",
       "      <th>EDVisitAfterDischargeFlag</th>\n",
       "    </tr>\n",
       "  </thead>\n",
       "  <tbody>\n",
       "    <tr>\n",
       "      <th>0</th>\n",
       "      <td>389</td>\n",
       "      <td>1</td>\n",
       "      <td>2018-01-01</td>\n",
       "      <td>2018-01-04 19:59:31.391</td>\n",
       "      <td>Hospitalist</td>\n",
       "      <td>Kidney Failure</td>\n",
       "      <td>6.717771</td>\n",
       "      <td>0.010046</td>\n",
       "      <td>NaN</td>\n",
       "      <td>NaN</td>\n",
       "      <td>NaN</td>\n",
       "    </tr>\n",
       "    <tr>\n",
       "      <th>1</th>\n",
       "      <td>635</td>\n",
       "      <td>2</td>\n",
       "      <td>2018-01-01</td>\n",
       "      <td>2018-01-04 21:28:51.898</td>\n",
       "      <td>General Medicine</td>\n",
       "      <td>Flu</td>\n",
       "      <td>3.825969</td>\n",
       "      <td>0.604562</td>\n",
       "      <td>1.0</td>\n",
       "      <td>2.0</td>\n",
       "      <td>1.0</td>\n",
       "    </tr>\n",
       "    <tr>\n",
       "      <th>2</th>\n",
       "      <td>606</td>\n",
       "      <td>3</td>\n",
       "      <td>2018-01-01</td>\n",
       "      <td>2018-01-04 22:28:23.672</td>\n",
       "      <td>General Medicine</td>\n",
       "      <td>Flu</td>\n",
       "      <td>3.382493</td>\n",
       "      <td>0.266137</td>\n",
       "      <td>1.0</td>\n",
       "      <td>3.0</td>\n",
       "      <td>1.0</td>\n",
       "    </tr>\n",
       "    <tr>\n",
       "      <th>3</th>\n",
       "      <td>587</td>\n",
       "      <td>5</td>\n",
       "      <td>2018-01-01</td>\n",
       "      <td>2018-01-05 05:47:04.933</td>\n",
       "      <td>General Medicine</td>\n",
       "      <td>Flu</td>\n",
       "      <td>3.763352</td>\n",
       "      <td>0.307527</td>\n",
       "      <td>1.0</td>\n",
       "      <td>4.0</td>\n",
       "      <td>1.0</td>\n",
       "    </tr>\n",
       "    <tr>\n",
       "      <th>4</th>\n",
       "      <td>640</td>\n",
       "      <td>6</td>\n",
       "      <td>2018-01-01</td>\n",
       "      <td>2018-01-05 14:18:30.029</td>\n",
       "      <td>ICU</td>\n",
       "      <td>Heart Failure</td>\n",
       "      <td>13.650953</td>\n",
       "      <td>0.408898</td>\n",
       "      <td>NaN</td>\n",
       "      <td>NaN</td>\n",
       "      <td>NaN</td>\n",
       "    </tr>\n",
       "    <tr>\n",
       "      <th>...</th>\n",
       "      <td>...</td>\n",
       "      <td>...</td>\n",
       "      <td>...</td>\n",
       "      <td>...</td>\n",
       "      <td>...</td>\n",
       "      <td>...</td>\n",
       "      <td>...</td>\n",
       "      <td>...</td>\n",
       "      <td>...</td>\n",
       "      <td>...</td>\n",
       "      <td>...</td>\n",
       "    </tr>\n",
       "    <tr>\n",
       "      <th>715</th>\n",
       "      <td>521</td>\n",
       "      <td>738</td>\n",
       "      <td>2018-02-22</td>\n",
       "      <td>2018-03-07 21:22:10.061</td>\n",
       "      <td>Cardiology</td>\n",
       "      <td>AMI</td>\n",
       "      <td>13.725405</td>\n",
       "      <td>0.388319</td>\n",
       "      <td>NaN</td>\n",
       "      <td>NaN</td>\n",
       "      <td>NaN</td>\n",
       "    </tr>\n",
       "    <tr>\n",
       "      <th>716</th>\n",
       "      <td>548</td>\n",
       "      <td>739</td>\n",
       "      <td>2018-02-22</td>\n",
       "      <td>2018-03-08 02:43:18.749</td>\n",
       "      <td>ICU</td>\n",
       "      <td>Pneumonia</td>\n",
       "      <td>11.355456</td>\n",
       "      <td>0.088518</td>\n",
       "      <td>NaN</td>\n",
       "      <td>NaN</td>\n",
       "      <td>NaN</td>\n",
       "    </tr>\n",
       "    <tr>\n",
       "      <th>717</th>\n",
       "      <td>509</td>\n",
       "      <td>740</td>\n",
       "      <td>2018-02-22</td>\n",
       "      <td>2018-03-08 09:27:18.377</td>\n",
       "      <td>Hospitalist</td>\n",
       "      <td>Pneumonia</td>\n",
       "      <td>4.819882</td>\n",
       "      <td>0.503308</td>\n",
       "      <td>NaN</td>\n",
       "      <td>NaN</td>\n",
       "      <td>NaN</td>\n",
       "    </tr>\n",
       "    <tr>\n",
       "      <th>718</th>\n",
       "      <td>605</td>\n",
       "      <td>741</td>\n",
       "      <td>2018-02-22</td>\n",
       "      <td>2018-03-10 06:06:12.068</td>\n",
       "      <td>General Medicine</td>\n",
       "      <td>Flu</td>\n",
       "      <td>3.123064</td>\n",
       "      <td>0.655870</td>\n",
       "      <td>NaN</td>\n",
       "      <td>NaN</td>\n",
       "      <td>NaN</td>\n",
       "    </tr>\n",
       "    <tr>\n",
       "      <th>719</th>\n",
       "      <td>710</td>\n",
       "      <td>742</td>\n",
       "      <td>2018-02-22</td>\n",
       "      <td>2018-03-10 20:38:30.568</td>\n",
       "      <td>General Medicine</td>\n",
       "      <td>Diabetes</td>\n",
       "      <td>7.195441</td>\n",
       "      <td>0.286439</td>\n",
       "      <td>NaN</td>\n",
       "      <td>NaN</td>\n",
       "      <td>NaN</td>\n",
       "    </tr>\n",
       "  </tbody>\n",
       "</table>\n",
       "<p>720 rows × 11 columns</p>\n",
       "</div>"
      ],
      "text/plain": [
       "     AdmissionID  PatientID AdmissionDate           DischargeDate  \\\n",
       "0            389          1    2018-01-01 2018-01-04 19:59:31.391   \n",
       "1            635          2    2018-01-01 2018-01-04 21:28:51.898   \n",
       "2            606          3    2018-01-01 2018-01-04 22:28:23.672   \n",
       "3            587          5    2018-01-01 2018-01-05 05:47:04.933   \n",
       "4            640          6    2018-01-01 2018-01-05 14:18:30.029   \n",
       "..           ...        ...           ...                     ...   \n",
       "715          521        738    2018-02-22 2018-03-07 21:22:10.061   \n",
       "716          548        739    2018-02-22 2018-03-08 02:43:18.749   \n",
       "717          509        740    2018-02-22 2018-03-08 09:27:18.377   \n",
       "718          605        741    2018-02-22 2018-03-10 06:06:12.068   \n",
       "719          710        742    2018-02-22 2018-03-10 20:38:30.568   \n",
       "\n",
       "              Service PrimaryDiagnosis  ExpectedLOS  ExpectedMortality  \\\n",
       "0         Hospitalist   Kidney Failure     6.717771           0.010046   \n",
       "1    General Medicine              Flu     3.825969           0.604562   \n",
       "2    General Medicine              Flu     3.382493           0.266137   \n",
       "3    General Medicine              Flu     3.763352           0.307527   \n",
       "4                 ICU    Heart Failure    13.650953           0.408898   \n",
       "..                ...              ...          ...                ...   \n",
       "715        Cardiology              AMI    13.725405           0.388319   \n",
       "716               ICU        Pneumonia    11.355456           0.088518   \n",
       "717       Hospitalist        Pneumonia     4.819882           0.503308   \n",
       "718  General Medicine              Flu     3.123064           0.655870   \n",
       "719  General Medicine         Diabetes     7.195441           0.286439   \n",
       "\n",
       "     ReadmissionFlag  DaysToReadmission  EDVisitAfterDischargeFlag  \n",
       "0                NaN                NaN                        NaN  \n",
       "1                1.0                2.0                        1.0  \n",
       "2                1.0                3.0                        1.0  \n",
       "3                1.0                4.0                        1.0  \n",
       "4                NaN                NaN                        NaN  \n",
       "..               ...                ...                        ...  \n",
       "715              NaN                NaN                        NaN  \n",
       "716              NaN                NaN                        NaN  \n",
       "717              NaN                NaN                        NaN  \n",
       "718              NaN                NaN                        NaN  \n",
       "719              NaN                NaN                        NaN  \n",
       "\n",
       "[720 rows x 11 columns]"
      ]
     },
     "execution_count": 474,
     "metadata": {},
     "output_type": "execute_result"
    }
   ],
   "source": [
    "#DischargeDisposition\n",
    "df_RE_withNoDD = df_RE.drop(columns=[\"DischargeDisposition\"], axis=1)\n",
    "df_RE_withNoDD"
   ]
  },
  {
   "cell_type": "markdown",
   "id": "e24d8a54",
   "metadata": {},
   "source": [
    "## Q22.Display the average LOS based on Service and Discharge Disposition(Maintain the column Hierarchy)."
   ]
  },
  {
   "cell_type": "code",
   "execution_count": 478,
   "id": "922634c5",
   "metadata": {},
   "outputs": [
    {
     "data": {
      "text/html": [
       "<div>\n",
       "<style scoped>\n",
       "    .dataframe tbody tr th:only-of-type {\n",
       "        vertical-align: middle;\n",
       "    }\n",
       "\n",
       "    .dataframe tbody tr th {\n",
       "        vertical-align: top;\n",
       "    }\n",
       "\n",
       "    .dataframe thead th {\n",
       "        text-align: right;\n",
       "    }\n",
       "</style>\n",
       "<table border=\"1\" class=\"dataframe\">\n",
       "  <thead>\n",
       "    <tr style=\"text-align: right;\">\n",
       "      <th></th>\n",
       "      <th></th>\n",
       "      <th>Average_LOS</th>\n",
       "    </tr>\n",
       "    <tr>\n",
       "      <th>Service</th>\n",
       "      <th>DischargeDisposition</th>\n",
       "      <th></th>\n",
       "    </tr>\n",
       "  </thead>\n",
       "  <tbody>\n",
       "    <tr>\n",
       "      <th rowspan=\"3\" valign=\"top\">Cardiology</th>\n",
       "      <th>Expired</th>\n",
       "      <td>9.357828</td>\n",
       "    </tr>\n",
       "    <tr>\n",
       "      <th>Home</th>\n",
       "      <td>10.633869</td>\n",
       "    </tr>\n",
       "    <tr>\n",
       "      <th>Transfer</th>\n",
       "      <td>11.759865</td>\n",
       "    </tr>\n",
       "    <tr>\n",
       "      <th rowspan=\"3\" valign=\"top\">General Medicine</th>\n",
       "      <th>Expired</th>\n",
       "      <td>8.972359</td>\n",
       "    </tr>\n",
       "    <tr>\n",
       "      <th>Home</th>\n",
       "      <td>10.298306</td>\n",
       "    </tr>\n",
       "    <tr>\n",
       "      <th>Transfer</th>\n",
       "      <td>11.075935</td>\n",
       "    </tr>\n",
       "    <tr>\n",
       "      <th rowspan=\"3\" valign=\"top\">Hospitalist</th>\n",
       "      <th>Expired</th>\n",
       "      <td>10.587996</td>\n",
       "    </tr>\n",
       "    <tr>\n",
       "      <th>Home</th>\n",
       "      <td>9.522124</td>\n",
       "    </tr>\n",
       "    <tr>\n",
       "      <th>Transfer</th>\n",
       "      <td>9.248801</td>\n",
       "    </tr>\n",
       "    <tr>\n",
       "      <th rowspan=\"3\" valign=\"top\">ICU</th>\n",
       "      <th>Expired</th>\n",
       "      <td>9.790686</td>\n",
       "    </tr>\n",
       "    <tr>\n",
       "      <th>Home</th>\n",
       "      <td>9.575618</td>\n",
       "    </tr>\n",
       "    <tr>\n",
       "      <th>Transfer</th>\n",
       "      <td>9.479894</td>\n",
       "    </tr>\n",
       "    <tr>\n",
       "      <th rowspan=\"3\" valign=\"top\">Neurology</th>\n",
       "      <th>Expired</th>\n",
       "      <td>10.650761</td>\n",
       "    </tr>\n",
       "    <tr>\n",
       "      <th>Home</th>\n",
       "      <td>9.677446</td>\n",
       "    </tr>\n",
       "    <tr>\n",
       "      <th>Transfer</th>\n",
       "      <td>12.261288</td>\n",
       "    </tr>\n",
       "    <tr>\n",
       "      <th rowspan=\"3\" valign=\"top\">Orthopeadics</th>\n",
       "      <th>Expired</th>\n",
       "      <td>12.327644</td>\n",
       "    </tr>\n",
       "    <tr>\n",
       "      <th>Home</th>\n",
       "      <td>9.325017</td>\n",
       "    </tr>\n",
       "    <tr>\n",
       "      <th>Transfer</th>\n",
       "      <td>16.559908</td>\n",
       "    </tr>\n",
       "  </tbody>\n",
       "</table>\n",
       "</div>"
      ],
      "text/plain": [
       "                                       Average_LOS\n",
       "Service          DischargeDisposition             \n",
       "Cardiology       Expired                  9.357828\n",
       "                 Home                    10.633869\n",
       "                 Transfer                11.759865\n",
       "General Medicine Expired                  8.972359\n",
       "                 Home                    10.298306\n",
       "                 Transfer                11.075935\n",
       "Hospitalist      Expired                 10.587996\n",
       "                 Home                     9.522124\n",
       "                 Transfer                 9.248801\n",
       "ICU              Expired                  9.790686\n",
       "                 Home                     9.575618\n",
       "                 Transfer                 9.479894\n",
       "Neurology        Expired                 10.650761\n",
       "                 Home                     9.677446\n",
       "                 Transfer                12.261288\n",
       "Orthopeadics     Expired                 12.327644\n",
       "                 Home                     9.325017\n",
       "                 Transfer                16.559908"
      ]
     },
     "execution_count": 478,
     "metadata": {},
     "output_type": "execute_result"
    }
   ],
   "source": [
    "#Finding Avg LOS\n",
    "df_D['Average_LOS'] = (df_D['DischargeDate'] - df_D['AdmissionDate']) / np.timedelta64(1, 'D')\n",
    "pivot1 = df_D.pivot_table(index=['Service', 'DischargeDisposition'], values=['Average_LOS'], aggfunc='mean')\n",
    "pivot1"
   ]
  },
  {
   "cell_type": "markdown",
   "id": "f3f8b0ec",
   "metadata": {},
   "source": [
    "## Q21.Which reason of visit has maximum mortality rate."
   ]
  },
  {
   "cell_type": "code",
   "execution_count": 499,
   "id": "04cf2e51",
   "metadata": {},
   "outputs": [
    {
     "data": {
      "text/html": [
       "<div>\n",
       "<style scoped>\n",
       "    .dataframe tbody tr th:only-of-type {\n",
       "        vertical-align: middle;\n",
       "    }\n",
       "\n",
       "    .dataframe tbody tr th {\n",
       "        vertical-align: top;\n",
       "    }\n",
       "\n",
       "    .dataframe thead th {\n",
       "        text-align: right;\n",
       "    }\n",
       "</style>\n",
       "<table border=\"1\" class=\"dataframe\">\n",
       "  <thead>\n",
       "    <tr style=\"text-align: right;\">\n",
       "      <th></th>\n",
       "      <th>ExpectedMortality</th>\n",
       "    </tr>\n",
       "    <tr>\n",
       "      <th>ReasonForVisit</th>\n",
       "      <th></th>\n",
       "    </tr>\n",
       "  </thead>\n",
       "  <tbody>\n",
       "    <tr>\n",
       "      <th>Gun Shot</th>\n",
       "      <td>0.376451</td>\n",
       "    </tr>\n",
       "  </tbody>\n",
       "</table>\n",
       "</div>"
      ],
      "text/plain": [
       "                ExpectedMortality\n",
       "ReasonForVisit                   \n",
       "Gun Shot                 0.376451"
      ]
     },
     "execution_count": 499,
     "metadata": {},
     "output_type": "execute_result"
    }
   ],
   "source": [
    "#Merge EDVisits with the ReAdmissionRegistry\n",
    "merge_df_mmr = pd.merge(df_E, df_RE, on=\"PatientID\") \n",
    "merge_df_mmr\n",
    "\n",
    "#pivot table in the merge table\n",
    "pivot_max = merge_df_mmr.pivot_table(index=['ReasonForVisit'], values = ['ExpectedMortality'], aggfunc='mean')\n",
    "\n",
    "#Get the highest top value \n",
    "pivot_max.sort_values(by=['ExpectedMortality'], ascending=False).head(1)\n"
   ]
  },
  {
   "cell_type": "markdown",
   "id": "79f0baf8",
   "metadata": {},
   "source": [
    "## Q24.Using arrays and loops, find the count of patients based on gender."
   ]
  },
  {
   "cell_type": "code",
   "execution_count": 534,
   "id": "ee0c2fc1",
   "metadata": {},
   "outputs": [
    {
     "name": "stdout",
     "output_type": "stream",
     "text": [
      "{'Male': 537, 'Female': 408}\n"
     ]
    }
   ],
   "source": [
    "# Create an empty dictionary to store the gender counts\n",
    "gender_counts = {}\n",
    "for index, row in enumerate(df_PA.itertuples(), 1):\n",
    "    gender = getattr(row, 'Gender')  # Get the gender value from the row\n",
    "    # Check if gender is already in the dictionary, and update the count\n",
    "    if gender in gender_counts:\n",
    "        gender_counts[gender] += 1\n",
    "    else:\n",
    "        gender_counts[gender] = 1\n",
    "# Print the gender counts\n",
    "print(gender_counts)"
   ]
  },
  {
   "cell_type": "code",
   "execution_count": null,
   "id": "7b2e1148",
   "metadata": {},
   "outputs": [],
   "source": []
  }
 ],
 "metadata": {
  "kernelspec": {
   "display_name": "Python 3 (ipykernel)",
   "language": "python",
   "name": "python3"
  },
  "language_info": {
   "codemirror_mode": {
    "name": "ipython",
    "version": 3
   },
   "file_extension": ".py",
   "mimetype": "text/x-python",
   "name": "python",
   "nbconvert_exporter": "python",
   "pygments_lexer": "ipython3",
   "version": "3.10.9"
  }
 },
 "nbformat": 4,
 "nbformat_minor": 5
}
