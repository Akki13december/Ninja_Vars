{
 "cells": [
  {
   "cell_type": "code",
   "execution_count": null,
   "metadata": {},
   "outputs": [],
   "source": [
    "pip install panda"
   ]
  },
  {
   "cell_type": "code",
   "execution_count": 2,
   "metadata": {},
   "outputs": [],
   "source": [
    "import pandas as pd\n",
    "import numpy as np\n",
    "import seaborn as sns\n",
    "import matplotlib.pyplot as plt"
   ]
  },
  {
   "cell_type": "markdown",
   "metadata": {},
   "source": [
    "# Load Excel File"
   ]
  },
  {
   "cell_type": "code",
   "execution_count": 3,
   "metadata": {},
   "outputs": [],
   "source": [
    "#Reading the Dataset\n",
    "xls = pd.ExcelFile(\"C:\\Vijaya\\Python\\HospitalDatabase.xlsx\")\n",
    "\n",
    "#Reading the Patients sheet\n",
    "df_PA = pd.read_excel(xls, 'Patients')\n",
    "\n",
    "#Reading the EDVisits sheet\n",
    "df_EDV= pd.read_excel(xls, 'EDVisits')\n",
    "\n",
    "#Reading the AmbulatoryVisits sheet\n",
    "df_AV = pd.read_excel(xls, 'AmbulatoryVisits')\n",
    "\n",
    "#Reading the ReAdmissionRegistry \n",
    "df_RE = pd.read_excel(xls, 'ReAdmissionRegistry')\n",
    "\n",
    "#Reading the Discharges sheet\n",
    "df_D = pd.read_excel(xls, 'Discharges')\n",
    "\n",
    "#Reading the Providers sheet\n",
    "df_P = pd.read_excel(xls, 'Providers')\n",
    "\n",
    "#Reading the EDUnique sheet\n",
    "df_E = pd.read_excel(xls, 'EDUnique')\n"
   ]
  },
  {
   "cell_type": "markdown",
   "metadata": {},
   "source": [
    "### 41.Find the age prone to get stroke."
   ]
  },
  {
   "cell_type": "code",
   "execution_count": 29,
   "metadata": {},
   "outputs": [
    {
     "name": "stdout",
     "output_type": "stream",
     "text": [
      "      Count of Patients\n",
      "Age                    \n",
      "36.0                  1\n",
      "37.0                  2\n",
      "38.0                  4\n",
      "39.0                  3\n",
      "40.0                  3\n",
      "41.0                  2\n",
      "42.0                  4\n",
      "44.0                  3\n",
      "45.0                  1\n",
      "46.0                  1\n",
      "47.0                  4\n",
      "48.0                  2\n",
      "49.0                  4\n",
      "50.0                  1\n",
      "51.0                  1\n",
      "52.0                  4\n",
      "53.0                  1\n",
      "54.0                  3\n",
      "55.0                  3\n",
      "57.0                  3\n",
      "58.0                  7\n",
      "59.0                  1\n",
      "60.0                  2\n",
      "61.0                  4\n",
      "62.0                  3\n",
      "63.0                  1\n"
     ]
    },
    {
     "name": "stderr",
     "output_type": "stream",
     "text": [
      "<ipython-input-29-916197ebd855>:19: SettingWithCopyWarning: \n",
      "A value is trying to be set on a copy of a slice from a DataFrame.\n",
      "Try using .loc[row_indexer,col_indexer] = value instead\n",
      "\n",
      "See the caveats in the documentation: https://pandas.pydata.org/pandas-docs/stable/user_guide/indexing.html#returning-a-view-versus-a-copy\n",
      "  df_new_pa['DateOfBirth'] = pd.to_datetime(df_PA['DateOfBirth'])\n",
      "<ipython-input-29-916197ebd855>:25: SettingWithCopyWarning: \n",
      "A value is trying to be set on a copy of a slice from a DataFrame.\n",
      "Try using .loc[row_indexer,col_indexer] = value instead\n",
      "\n",
      "See the caveats in the documentation: https://pandas.pydata.org/pandas-docs/stable/user_guide/indexing.html#returning-a-view-versus-a-copy\n",
      "  df_new_pa['Age'] = (current_date - df_new_pa['DateOfBirth']).astype('<m8[Y]')\n"
     ]
    }
   ],
   "source": [
    "from datetime import datetime\n",
    "## Reading ReAdmissionRegistry sheet\n",
    "df_RE=pd.read_excel(xls, 'ReAdmissionRegistry')\n",
    "\n",
    "## Reading Patients Sheet\n",
    "df_PA=pd.read_excel(xls, 'Patients')\n",
    "\n",
    "##  Created dataframe by selecting two columns from ReAdmissionRegistry sheet\n",
    "df_new_re = df_RE[['PatientID','PrimaryDiagnosis']]\n",
    "\n",
    "## Selecting patients with primaryDiagnosis=stroke\n",
    "df_new_re= df_new_re[df_new_re['PrimaryDiagnosis']=='Stroke']\n",
    "\n",
    "## Created dataframe by selecting two columns from patients sheet\n",
    "df_new_pa= df_PA[['PatientID', 'DateOfBirth']]\n",
    "\n",
    "## finding age using dateofbirth column\n",
    "## coverting data of birth column to datetime object\n",
    "df_new_pa['DateOfBirth'] = pd.to_datetime(df_PA['DateOfBirth'])\n",
    "\n",
    "## current date\n",
    "current_date = datetime.now()\n",
    "\n",
    "## calculating age\n",
    "df_new_pa['Age'] = (current_date - df_new_pa['DateOfBirth']).astype('<m8[Y]')\n",
    "\n",
    "## creating new dataframe with patientID and age\n",
    "df_new_pa= df_new_pa[['PatientID', 'Age']]\n",
    "\n",
    "## perform merge operation\n",
    "merge_df= pd.merge(df_new_re,df_new_pa, on='PatientID')\n",
    "\n",
    " ## group by \n",
    "Result= merge_df.pivot_table(index=['Age'],values=['PatientID'],aggfunc='count')\n",
    "# Alias the column\n",
    "Result = Result.rename(columns={'PatientID': 'Count of Patients'})\n",
    "\n",
    "print(Result)\n",
    "\n",
    "\n",
    "\n",
    "\n",
    "\n",
    "\n"
   ]
  },
  {
   "cell_type": "markdown",
   "metadata": {},
   "source": [
    "### 42.Calculate mortality by diagnosis."
   ]
  },
  {
   "cell_type": "code",
   "execution_count": 41,
   "metadata": {},
   "outputs": [
    {
     "name": "stdout",
     "output_type": "stream",
     "text": [
      "Pneumonia             16\n",
      "Heart Failure         16\n",
      "Hypertension          16\n",
      "Flu                   11\n",
      "Diabetes               9\n",
      "Stroke                 7\n",
      "AMI                    6\n",
      "Afib                   4\n",
      "Fever                  4\n",
      "Hip Fracture           3\n",
      "Broken Leg             3\n",
      "Knee Replacement       2\n",
      "Spinal Cord Injury     2\n",
      "Kidney Failure         2\n",
      "Laceration             2\n",
      "Pain                   1\n",
      "Name: PrimaryDiagnosis, dtype: int64\n"
     ]
    }
   ],
   "source": [
    "#Reading the Discharges sheet\n",
    "df_D = pd.read_excel(xls, 'Discharges')\n",
    "\n",
    "temp_df = df_D.loc[(df_D['DischargeDisposition'] == 'Expired')]\n",
    "results = temp_df['PrimaryDiagnosis'].value_counts()\n",
    "print(results)\n",
    "\n",
    "\n",
    "\n",
    "\n",
    "\n",
    "\n"
   ]
  },
  {
   "cell_type": "markdown",
   "metadata": {},
   "source": [
    "### 43.Details of the patients whose firstname or lastname contains string \"lau\" , should be case insensitive."
   ]
  },
  {
   "cell_type": "code",
   "execution_count": 30,
   "metadata": {},
   "outputs": [
    {
     "data": {
      "text/html": [
       "<div>\n",
       "<style scoped>\n",
       "    .dataframe tbody tr th:only-of-type {\n",
       "        vertical-align: middle;\n",
       "    }\n",
       "\n",
       "    .dataframe tbody tr th {\n",
       "        vertical-align: top;\n",
       "    }\n",
       "\n",
       "    .dataframe thead th {\n",
       "        text-align: right;\n",
       "    }\n",
       "</style>\n",
       "<table border=\"1\" class=\"dataframe\">\n",
       "  <thead>\n",
       "    <tr style=\"text-align: right;\">\n",
       "      <th></th>\n",
       "      <th>PatientID</th>\n",
       "      <th>FirstName</th>\n",
       "      <th>LastName</th>\n",
       "      <th>DateOfBirth</th>\n",
       "      <th>Gender</th>\n",
       "      <th>Race</th>\n",
       "      <th>Language</th>\n",
       "    </tr>\n",
       "  </thead>\n",
       "  <tbody>\n",
       "    <tr>\n",
       "      <th>282</th>\n",
       "      <td>283</td>\n",
       "      <td>Lauren</td>\n",
       "      <td>Gaskal</td>\n",
       "      <td>1962-05-08 01:54:00.111</td>\n",
       "      <td>Female</td>\n",
       "      <td>Black/African-American</td>\n",
       "      <td>English</td>\n",
       "    </tr>\n",
       "    <tr>\n",
       "      <th>322</th>\n",
       "      <td>323</td>\n",
       "      <td>Lauren</td>\n",
       "      <td>Foort</td>\n",
       "      <td>1960-06-23 20:07:53.045</td>\n",
       "      <td>Female</td>\n",
       "      <td>White</td>\n",
       "      <td>English</td>\n",
       "    </tr>\n",
       "    <tr>\n",
       "      <th>369</th>\n",
       "      <td>370</td>\n",
       "      <td>Zulauf</td>\n",
       "      <td>Ellingham</td>\n",
       "      <td>1982-12-17 16:27:56.391</td>\n",
       "      <td>Female</td>\n",
       "      <td>White</td>\n",
       "      <td>English</td>\n",
       "    </tr>\n",
       "    <tr>\n",
       "      <th>382</th>\n",
       "      <td>383</td>\n",
       "      <td>Zulauf</td>\n",
       "      <td>LLC</td>\n",
       "      <td>1969-03-16 07:48:49.338</td>\n",
       "      <td>Female</td>\n",
       "      <td>White</td>\n",
       "      <td>English</td>\n",
       "    </tr>\n",
       "    <tr>\n",
       "      <th>454</th>\n",
       "      <td>455</td>\n",
       "      <td>Zulauf</td>\n",
       "      <td>Alvar</td>\n",
       "      <td>1961-10-02 08:24:17.334</td>\n",
       "      <td>Female</td>\n",
       "      <td>White</td>\n",
       "      <td>English</td>\n",
       "    </tr>\n",
       "    <tr>\n",
       "      <th>463</th>\n",
       "      <td>464</td>\n",
       "      <td>Zulauf</td>\n",
       "      <td>Manske</td>\n",
       "      <td>1965-06-22 02:49:28.667</td>\n",
       "      <td>Female</td>\n",
       "      <td>White</td>\n",
       "      <td>English</td>\n",
       "    </tr>\n",
       "    <tr>\n",
       "      <th>818</th>\n",
       "      <td>819</td>\n",
       "      <td>Zulauf</td>\n",
       "      <td>Bitcheno</td>\n",
       "      <td>1967-04-02 07:17:53.635</td>\n",
       "      <td>Female</td>\n",
       "      <td>White</td>\n",
       "      <td>English</td>\n",
       "    </tr>\n",
       "    <tr>\n",
       "      <th>830</th>\n",
       "      <td>831</td>\n",
       "      <td>Zulauf</td>\n",
       "      <td>O'Shavlan</td>\n",
       "      <td>1970-05-17 08:09:28.988</td>\n",
       "      <td>Female</td>\n",
       "      <td>White</td>\n",
       "      <td>English</td>\n",
       "    </tr>\n",
       "    <tr>\n",
       "      <th>850</th>\n",
       "      <td>851</td>\n",
       "      <td>Lemmy</td>\n",
       "      <td>Klausen</td>\n",
       "      <td>1973-06-18 06:19:43.475</td>\n",
       "      <td>Female</td>\n",
       "      <td>White</td>\n",
       "      <td>English</td>\n",
       "    </tr>\n",
       "    <tr>\n",
       "      <th>906</th>\n",
       "      <td>907</td>\n",
       "      <td>Jerrilyn</td>\n",
       "      <td>Klausen</td>\n",
       "      <td>1979-09-04 13:05:57.870</td>\n",
       "      <td>Male</td>\n",
       "      <td>Black/African-American</td>\n",
       "      <td>English</td>\n",
       "    </tr>\n",
       "    <tr>\n",
       "      <th>910</th>\n",
       "      <td>911</td>\n",
       "      <td>Zulauf</td>\n",
       "      <td>Orbine</td>\n",
       "      <td>1973-06-26 03:13:50.449</td>\n",
       "      <td>Male</td>\n",
       "      <td>Black/African-American</td>\n",
       "      <td>English</td>\n",
       "    </tr>\n",
       "  </tbody>\n",
       "</table>\n",
       "</div>"
      ],
      "text/plain": [
       "     PatientID FirstName   LastName             DateOfBirth  Gender  \\\n",
       "282        283    Lauren     Gaskal 1962-05-08 01:54:00.111  Female   \n",
       "322        323    Lauren      Foort 1960-06-23 20:07:53.045  Female   \n",
       "369        370    Zulauf  Ellingham 1982-12-17 16:27:56.391  Female   \n",
       "382        383    Zulauf        LLC 1969-03-16 07:48:49.338  Female   \n",
       "454        455    Zulauf      Alvar 1961-10-02 08:24:17.334  Female   \n",
       "463        464    Zulauf     Manske 1965-06-22 02:49:28.667  Female   \n",
       "818        819    Zulauf   Bitcheno 1967-04-02 07:17:53.635  Female   \n",
       "830        831    Zulauf  O'Shavlan 1970-05-17 08:09:28.988  Female   \n",
       "850        851     Lemmy    Klausen 1973-06-18 06:19:43.475  Female   \n",
       "906        907  Jerrilyn    Klausen 1979-09-04 13:05:57.870    Male   \n",
       "910        911    Zulauf     Orbine 1973-06-26 03:13:50.449    Male   \n",
       "\n",
       "                       Race Language  \n",
       "282  Black/African-American  English  \n",
       "322                   White  English  \n",
       "369                   White  English  \n",
       "382                   White  English  \n",
       "454                   White  English  \n",
       "463                   White  English  \n",
       "818                   White  English  \n",
       "830                   White  English  \n",
       "850                   White  English  \n",
       "906  Black/African-American  English  \n",
       "910  Black/African-American  English  "
      ]
     },
     "execution_count": 30,
     "metadata": {},
     "output_type": "execute_result"
    }
   ],
   "source": [
    "df_PA[df_PA.FirstName.str.contains('lau', case=False) | df_PA.LastName.str.contains('lau', case=False)]"
   ]
  },
  {
   "cell_type": "markdown",
   "metadata": {},
   "source": [
    "### 44.Display data by splitting age in 4 quartiles and labeling the quartiles."
   ]
  },
  {
   "cell_type": "code",
   "execution_count": 31,
   "metadata": {},
   "outputs": [
    {
     "name": "stdout",
     "output_type": "stream",
     "text": [
      "Q1 quantile of AGE :  43.0\n",
      "Q2 quantile of AGE :  49.0\n",
      "Q3 quantile of AGE :  56.0\n",
      "Q4 quantile of AGE :  63.0\n"
     ]
    }
   ],
   "source": [
    "## coverting data of birth column to datetime object\n",
    "df_new_pa['DateOfBirth'] = pd.to_datetime(df_PA['DateOfBirth'])\n",
    "\n",
    "## current date\n",
    "current_date = datetime.now()\n",
    "\n",
    "## calculating age\n",
    "df_new_pa['Age'] = (current_date - df_new_pa['DateOfBirth']).astype('<m8[Y]')\n",
    "#print(df_new_pa['Age'])\n",
    "df_new_pa['Age'].sort_values()\n",
    "print(\"Q1 quantile of AGE : \", np.quantile(df_new_pa['Age'], .25, interpolation='midpoint'))\n",
    "print(\"Q2 quantile of AGE : \", np.quantile(df_new_pa['Age'], .50, interpolation='midpoint'))\n",
    "print(\"Q3 quantile of AGE : \", np.quantile(df_new_pa['Age'], .75, interpolation='midpoint'))\n",
    "print(\"Q4 quantile of AGE : \", np.quantile(df_new_pa['Age'], 1.00, interpolation='midpoint'))\n",
    "\n",
    "\n"
   ]
  },
  {
   "cell_type": "markdown",
   "metadata": {},
   "source": [
    "### 45.Usage of Enumeration in Python with any example."
   ]
  },
  {
   "cell_type": "code",
   "execution_count": 32,
   "metadata": {},
   "outputs": [
    {
     "name": "stdout",
     "output_type": "stream",
     "text": [
      "Index: 0, Value: apple\n",
      "Index: 1, Value: banana\n",
      "Index: 2, Value: cherry\n",
      "Index: 3, Value: date\n"
     ]
    }
   ],
   "source": [
    "# Example list\n",
    "fruits = [\"apple\", \"banana\", \"cherry\", \"date\"]\n",
    "\n",
    "# Iterate over the list using enumeration\n",
    "for index, value in enumerate(fruits):\n",
    "    print(f\"Index: {index}, Value: {value}\")"
   ]
  },
  {
   "cell_type": "markdown",
   "metadata": {},
   "source": [
    "### 46.Count of canceled status."
   ]
  },
  {
   "cell_type": "code",
   "execution_count": 33,
   "metadata": {},
   "outputs": [
    {
     "name": "stdout",
     "output_type": "stream",
     "text": [
      "Count Of Patients with Canceled status  : 60\n"
     ]
    }
   ],
   "source": [
    "#selecting all patients with Canceled status\n",
    "df_new_AV = df_AV.loc[(df_AV['VisitStatus']=='Canceled') ]\n",
    "\n",
    "print(\"%s%s\" % ('Count Of Patients with ''Canceled'' status  : ',  len(df_new_AV.index)))"
   ]
  },
  {
   "cell_type": "markdown",
   "metadata": {},
   "source": [
    "### 47.Display the patient details with maximum pulse pressure."
   ]
  },
  {
   "cell_type": "code",
   "execution_count": 53,
   "metadata": {},
   "outputs": [
    {
     "name": "stdout",
     "output_type": "stream",
     "text": [
      "     VisitID  PatientID  ProviderID DateofVisit           DateScheduled  \\\n",
      "0        202        840          29  2019-03-19 2019-03-13 07:59:24.000   \n",
      "1        688        840          17  2019-03-29 2019-03-06 15:09:42.945   \n",
      "2        456        840          11  2019-04-08 2019-03-28 08:58:58.755   \n",
      "3        436        820          25  2019-03-19 2019-02-24 07:10:31.043   \n",
      "4        668        820          20  2019-02-11 2019-01-18 03:06:22.278   \n",
      "..       ...        ...         ...         ...                     ...   \n",
      "945       73         76          35  2019-03-14 2019-02-24 13:53:31.219   \n",
      "946      327         76          20  2019-04-18 2019-03-19 18:25:20.303   \n",
      "947       25         28          25  2019-01-25 2019-01-02 08:15:50.541   \n",
      "948        1          4           1  2019-01-01 2018-12-17 09:08:02.824   \n",
      "949        8         11           8  2019-01-08 2018-12-10 09:17:22.262   \n",
      "\n",
      "     VisitDepartmentID     VisitType  BloodPressureSystolic  \\\n",
      "0                   10      Physical                  188.0   \n",
      "1                    5     Follow Up                  175.0   \n",
      "2                   11           New                  156.0   \n",
      "3                    3     Follow Up                  179.0   \n",
      "4                   12      Physical                  122.0   \n",
      "..                 ...           ...                    ...   \n",
      "945                  1      Physical                  183.0   \n",
      "946                  6  Telemedicine                  141.0   \n",
      "947                  1           New                  133.0   \n",
      "948                  1           New                  175.0   \n",
      "949                  8           New                  157.0   \n",
      "\n",
      "     BloodPressureDiastolic      Pulse VisitStatus FirstName  LastName  \\\n",
      "0                144.143427  83.044920     No Show  Starlene   Bulford   \n",
      "1                138.734242  79.027162   Completed  Starlene   Bulford   \n",
      "2                102.411148  79.316864   Completed  Starlene   Bulford   \n",
      "3                118.876808  90.309544     No Show     Gerty  Kubatsch   \n",
      "4                 83.815768  52.178323   Completed     Gerty  Kubatsch   \n",
      "..                      ...        ...         ...       ...       ...   \n",
      "945              116.962195  51.986783   Completed    Kellen    Wandie   \n",
      "946               78.316189  54.243125   Completed    Kellen    Wandie   \n",
      "947               91.946750  69.868033   Completed    Jordan      Ross   \n",
      "948              139.096031  56.678398   Completed   Carmine     Texas   \n",
      "949              107.969941  70.918507   Completed      Dean  Kimberly   \n",
      "\n",
      "                DateOfBirth  Gender   Race Language  \n",
      "0   1983-05-09 14:20:33.420  Female  White  English  \n",
      "1   1983-05-09 14:20:33.420  Female  White  English  \n",
      "2   1983-05-09 14:20:33.420  Female  White  English  \n",
      "3   1974-04-04 17:52:53.664  Female  White  English  \n",
      "4   1974-04-04 17:52:53.664  Female  White  English  \n",
      "..                      ...     ...    ...      ...  \n",
      "945 1962-11-04 11:34:48.498  Female  White  Spanish  \n",
      "946 1962-11-04 11:34:48.498  Female  White  Spanish  \n",
      "947 1974-06-09 06:26:32.069  Female  White  Spanish  \n",
      "948 1968-10-15 03:32:13.635    Male  White  English  \n",
      "949 1972-02-22 19:23:49.981    Male  White  Spanish  \n",
      "\n",
      "[950 rows x 17 columns]\n"
     ]
    }
   ],
   "source": [
    "\n",
    "#Reading the AmbulatoryVisits sheet\n",
    "df_AV = pd.read_excel(xls, 'AmbulatoryVisits')\n",
    "sorted_df = df_AV.sort_values(by=['Pulse'], ascending=False)\n",
    "# Rename the 'PatientMRN' column to 'PatientID'\n",
    "df_AV_new1 = df_AV.rename(columns={'PatientMRN':'PatientID'})\n",
    "# Perform merge operation with df_PA on 'PatientID' column\n",
    "merge_df1 = pd.merge(df_AV_new1, df_PA, on='PatientID')\n",
    "#print(merge_df1)\n",
    "#Get the row with the highest pulse value\n",
    "max_pulse_row = sorted_df.head(1)\n",
    "# Print the row with the highest pulse value\n",
    "print(max_pulse_row)\n",
    "\n",
    "\n",
    "\n",
    "\n"
   ]
  },
  {
   "cell_type": "markdown",
   "metadata": {},
   "source": [
    "### 48. Create a heat map to show the correlation between the column values of Edvisits.\n"
   ]
  },
  {
   "cell_type": "code",
   "execution_count": 23,
   "metadata": {
    "scrolled": true
   },
   "outputs": [
    {
     "name": "stdout",
     "output_type": "stream",
     "text": [
      "           EDVisitID  PatientID    Acuity\n",
      "EDVisitID   1.000000   0.975477  0.005813\n",
      "PatientID   0.975477   1.000000  0.003545\n",
      "Acuity      0.005813   0.003545  1.000000\n"
     ]
    }
   ],
   "source": [
    "#checking correlation\n",
    "corr=df_EDV.corr()\n",
    "print(corr)"
   ]
  },
  {
   "cell_type": "code",
   "execution_count": 24,
   "metadata": {},
   "outputs": [
    {
     "data": {
      "image/png": "[encoded data removed]",
      "text/plain": [
       "<Figure size 864x144 with 2 Axes>"
      ]
     },
     "metadata": {
      "needs_background": "light"
     },
     "output_type": "display_data"
    }
   ],
   "source": [
    "# Create a correlation heatmap\n",
    "plt.figure(figsize=(12,2))\n",
    "heatmap = sns.heatmap(df_EDV.corr(), vmin=-1, vmax=1, annot=True, cmap=\"afmhot\")\n",
    "heatmap.set_title('Correlation Heatmap', fontdict={'fontsize':10}, pad=15)\n",
    "\n",
    "plt.show()"
   ]
  },
  {
   "cell_type": "markdown",
   "metadata": {},
   "source": [
    "### 49.Plot a graph by counting the no. of patients in each department."
   ]
  },
  {
   "cell_type": "code",
   "execution_count": 34,
   "metadata": {
    "scrolled": true
   },
   "outputs": [
    {
     "data": {
      "image/png": "[encoded data removed]",
      "text/plain": [
       "<Figure size 432x288 with 1 Axes>"
      ]
     },
     "metadata": {},
     "output_type": "display_data"
    }
   ],
   "source": [
    "# Create a countplot\n",
    "sns.set(style=\"darkgrid\")\n",
    "sns.countplot(data =df_AV, x='VisitDepartmentID', palette=\"mako\")\n",
    "plt.xlabel(\"Department\")\n",
    "plt.ylabel(\"Count\")\n",
    "plt.title(\"Number of Patients in Each Department\")\n",
    "plt.show()"
   ]
  },
  {
   "cell_type": "markdown",
   "metadata": {},
   "source": [
    "### 50.Display patient details where \"ReasonForVisit\" is either 'Migraine' or 'Pneumonia' and Acuity is 2 or more."
   ]
  },
  {
   "cell_type": "code",
   "execution_count": 35,
   "metadata": {},
   "outputs": [
    {
     "name": "stdout",
     "output_type": "stream",
     "text": [
      "      PatientID ReasonForVisit  Acuity\n",
      "1            12       Migraine       2\n",
      "3            14       Migraine       3\n",
      "11           29      Pneumonia       2\n",
      "12           30      Pneumonia       3\n",
      "13           31      Pneumonia       4\n",
      "...         ...            ...     ...\n",
      "1107        773       Migraine       2\n",
      "1150        850       Migraine       2\n",
      "1152        852       Migraine       2\n",
      "1160        868       Migraine       2\n",
      "1162        870       Migraine       2\n",
      "\n",
      "[215 rows x 3 columns]\n"
     ]
    }
   ],
   "source": [
    "#selecting patient details with conditions\n",
    "df_new_EDV=df_EDV.loc[((df_EDV['ReasonForVisit'] == 'Migraine') |  (df_EDV['ReasonForVisit'] == 'Pneumonia')) &  (df_EDV['Acuity']  >=2)]\n",
    "#print(df_new_EDV)\n",
    "## creating new dataframe with patientID and age\n",
    "df_new_EDV= df_new_EDV[['PatientID','ReasonForVisit', 'Acuity' ]]\n",
    "print(df_new_EDV)\n"
   ]
  },
  {
   "cell_type": "markdown",
   "metadata": {},
   "source": [
    "### 51.Take the ReasonForVisit from user, find the number of patients admitted with that ReasonForVisit."
   ]
  },
  {
   "cell_type": "code",
   "execution_count": 36,
   "metadata": {},
   "outputs": [
    {
     "name": "stdout",
     "output_type": "stream",
     "text": [
      "Enter the reason for visit: Fever\n",
      "Fever\n",
      "Patients admitted with Fever are : 234\n"
     ]
    }
   ],
   "source": [
    "x = input(\"Enter the reason for visit: \")\n",
    "print(x)\n",
    "\n",
    "temp_df = df_EDV.loc[(df_EDV['ReasonForVisit'] == x) ]\n",
    "\n",
    "print(\"%s%s\" % ('Patients admitted with ' + x + ' are : ',  len(temp_df.index)))"
   ]
  },
  {
   "cell_type": "markdown",
   "metadata": {},
   "source": [
    "### 52.Using indexing , loc to retrieve the row with maximum BloodPressureSystolic."
   ]
  },
  {
   "cell_type": "code",
   "execution_count": 37,
   "metadata": {},
   "outputs": [
    {
     "data": {
      "text/plain": [
       "VisitID                                          933\n",
       "PatientMRN                                       884\n",
       "ProviderID                                        27\n",
       "DateofVisit                      2019-02-14 00:00:00\n",
       "DateScheduled             2019-01-22 19:26:49.163000\n",
       "VisitDepartmentID                                 12\n",
       "VisitType                               Telemedicine\n",
       "BloodPressureSystolic                            190\n",
       "BloodPressureDiastolic                       143.989\n",
       "Pulse                                        74.9769\n",
       "VisitStatus                                Completed\n",
       "Name: 236, dtype: object"
      ]
     },
     "execution_count": 37,
     "metadata": {},
     "output_type": "execute_result"
    }
   ],
   "source": [
    "df_AV.loc[df_AV['BloodPressureSystolic'].idxmax()]"
   ]
  },
  {
   "cell_type": "markdown",
   "metadata": {},
   "source": [
    "### 53.Plot a graph by multiplotting on the same canvas  (Take any set of x & y values)."
   ]
  },
  {
   "cell_type": "code",
   "execution_count": 38,
   "metadata": {},
   "outputs": [
    {
     "data": {
      "image/png": "[encoded data removed]",
      "text/plain": [
       "<Figure size 432x288 with 1 Axes>"
      ]
     },
     "metadata": {},
     "output_type": "display_data"
    }
   ],
   "source": [
    "line_1 = np.random.randint(low = 0, high = 50, size = 50)\n",
    "line_2 = np.random.randint(low = -25, high = 100, size = 50)\n",
    "line_3 =np.random.randint(low = 40, high = 100, size = 50)\n",
    "\n",
    "fig, ax = plt.subplots()\n",
    "\n",
    "ax.plot(line_1, color = 'Purple', label = 'Line 1')\n",
    "ax.plot(line_2, color = 'Indigo', label = 'Line 2')\n",
    "ax.plot(line_3, color = 'red', label = 'Line 2')\n",
    "\n",
    "ax.legend(loc = 'upper left')\n",
    "plt.show()"
   ]
  },
  {
   "cell_type": "markdown",
   "metadata": {},
   "source": [
    "### 54.Retrieve the row with minimum DBP using sorting technique."
   ]
  },
  {
   "cell_type": "code",
   "execution_count": 39,
   "metadata": {},
   "outputs": [
    {
     "data": {
      "text/html": [
       "<div>\n",
       "<style scoped>\n",
       "    .dataframe tbody tr th:only-of-type {\n",
       "        vertical-align: middle;\n",
       "    }\n",
       "\n",
       "    .dataframe tbody tr th {\n",
       "        vertical-align: top;\n",
       "    }\n",
       "\n",
       "    .dataframe thead th {\n",
       "        text-align: right;\n",
       "    }\n",
       "</style>\n",
       "<table border=\"1\" class=\"dataframe\">\n",
       "  <thead>\n",
       "    <tr style=\"text-align: right;\">\n",
       "      <th></th>\n",
       "      <th>VisitID</th>\n",
       "      <th>PatientMRN</th>\n",
       "      <th>ProviderID</th>\n",
       "      <th>DateofVisit</th>\n",
       "      <th>DateScheduled</th>\n",
       "      <th>VisitDepartmentID</th>\n",
       "      <th>VisitType</th>\n",
       "      <th>BloodPressureSystolic</th>\n",
       "      <th>BloodPressureDiastolic</th>\n",
       "      <th>Pulse</th>\n",
       "      <th>VisitStatus</th>\n",
       "    </tr>\n",
       "  </thead>\n",
       "  <tbody>\n",
       "    <tr>\n",
       "      <th>757</th>\n",
       "      <td>163</td>\n",
       "      <td>801</td>\n",
       "      <td>11</td>\n",
       "      <td>2019-02-08</td>\n",
       "      <td>2019-02-07 23:41:12.181</td>\n",
       "      <td>7</td>\n",
       "      <td>Follow Up</td>\n",
       "      <td>120.0</td>\n",
       "      <td>51.695653</td>\n",
       "      <td>53.310495</td>\n",
       "      <td>Completed</td>\n",
       "    </tr>\n",
       "  </tbody>\n",
       "</table>\n",
       "</div>"
      ],
      "text/plain": [
       "     VisitID  PatientMRN  ProviderID DateofVisit           DateScheduled  \\\n",
       "757      163         801          11  2019-02-08 2019-02-07 23:41:12.181   \n",
       "\n",
       "     VisitDepartmentID  VisitType  BloodPressureSystolic  \\\n",
       "757                  7  Follow Up                  120.0   \n",
       "\n",
       "     BloodPressureDiastolic      Pulse VisitStatus  \n",
       "757               51.695653  53.310495   Completed  "
      ]
     },
     "execution_count": 39,
     "metadata": {},
     "output_type": "execute_result"
    }
   ],
   "source": [
    "sorted_df = df_AV.sort_values(by=['BloodPressureDiastolic'], ascending=True)\n",
    "\n",
    "sorted_df.head(1)"
   ]
  },
  {
   "cell_type": "markdown",
   "metadata": {},
   "source": [
    "### 55.Replace all the null values in ReadmissionFlag with 0."
   ]
  },
  {
   "cell_type": "code",
   "execution_count": 28,
   "metadata": {},
   "outputs": [
    {
     "data": {
      "text/plain": [
       "0      0.0\n",
       "1      1.0\n",
       "2      1.0\n",
       "3      1.0\n",
       "4      0.0\n",
       "      ... \n",
       "715    0.0\n",
       "716    0.0\n",
       "717    0.0\n",
       "718    0.0\n",
       "719    0.0\n",
       "Name: ReadmissionFlag, Length: 720, dtype: float64"
      ]
     },
     "execution_count": 28,
     "metadata": {},
     "output_type": "execute_result"
    }
   ],
   "source": [
    "df_RE['ReadmissionFlag'] = df_RE['ReadmissionFlag'].fillna(0)\n",
    "df_RE['ReadmissionFlag']"
   ]
  },
  {
   "cell_type": "markdown",
   "metadata": {},
   "source": [
    "### 56.Get the list of patient ID's which are not there in ReadmissionRegistry."
   ]
  },
  {
   "cell_type": "code",
   "execution_count": 13,
   "metadata": {},
   "outputs": [
    {
     "data": {
      "text/html": [
       "<div>\n",
       "<style scoped>\n",
       "    .dataframe tbody tr th:only-of-type {\n",
       "        vertical-align: middle;\n",
       "    }\n",
       "\n",
       "    .dataframe tbody tr th {\n",
       "        vertical-align: top;\n",
       "    }\n",
       "\n",
       "    .dataframe thead th {\n",
       "        text-align: right;\n",
       "    }\n",
       "</style>\n",
       "<table border=\"1\" class=\"dataframe\">\n",
       "  <thead>\n",
       "    <tr style=\"text-align: right;\">\n",
       "      <th></th>\n",
       "      <th>PatientID</th>\n",
       "      <th>FirstName</th>\n",
       "      <th>LastName</th>\n",
       "      <th>DateOfBirth</th>\n",
       "      <th>Gender</th>\n",
       "      <th>Race</th>\n",
       "      <th>Language</th>\n",
       "    </tr>\n",
       "  </thead>\n",
       "  <tbody>\n",
       "    <tr>\n",
       "      <th>3</th>\n",
       "      <td>4</td>\n",
       "      <td>Carmine</td>\n",
       "      <td>Texas</td>\n",
       "      <td>1968-10-15 03:32:13.635</td>\n",
       "      <td>Male</td>\n",
       "      <td>White</td>\n",
       "      <td>English</td>\n",
       "    </tr>\n",
       "    <tr>\n",
       "      <th>134</th>\n",
       "      <td>135</td>\n",
       "      <td>Cally</td>\n",
       "      <td>Aylward</td>\n",
       "      <td>1962-01-13 00:11:17.581</td>\n",
       "      <td>Male</td>\n",
       "      <td>Black/African-American</td>\n",
       "      <td>English</td>\n",
       "    </tr>\n",
       "    <tr>\n",
       "      <th>144</th>\n",
       "      <td>145</td>\n",
       "      <td>Sheena</td>\n",
       "      <td>LLC</td>\n",
       "      <td>1966-10-17 13:24:21.621</td>\n",
       "      <td>Male</td>\n",
       "      <td>Black/African-American</td>\n",
       "      <td>English</td>\n",
       "    </tr>\n",
       "    <tr>\n",
       "      <th>188</th>\n",
       "      <td>189</td>\n",
       "      <td>Rempel</td>\n",
       "      <td>Group</td>\n",
       "      <td>1974-07-17 04:55:39.964</td>\n",
       "      <td>Male</td>\n",
       "      <td>Black/African-American</td>\n",
       "      <td>English</td>\n",
       "    </tr>\n",
       "    <tr>\n",
       "      <th>199</th>\n",
       "      <td>200</td>\n",
       "      <td>Fonz</td>\n",
       "      <td>Group</td>\n",
       "      <td>1964-01-15 01:57:57.966</td>\n",
       "      <td>Male</td>\n",
       "      <td>Black/African-American</td>\n",
       "      <td>English</td>\n",
       "    </tr>\n",
       "    <tr>\n",
       "      <th>...</th>\n",
       "      <td>...</td>\n",
       "      <td>...</td>\n",
       "      <td>...</td>\n",
       "      <td>...</td>\n",
       "      <td>...</td>\n",
       "      <td>...</td>\n",
       "      <td>...</td>\n",
       "    </tr>\n",
       "    <tr>\n",
       "      <th>940</th>\n",
       "      <td>941</td>\n",
       "      <td>Wat</td>\n",
       "      <td>Fideler</td>\n",
       "      <td>1986-05-26 00:01:19.761</td>\n",
       "      <td>Male</td>\n",
       "      <td>Black/African-American</td>\n",
       "      <td>English</td>\n",
       "    </tr>\n",
       "    <tr>\n",
       "      <th>941</th>\n",
       "      <td>942</td>\n",
       "      <td>Wandie</td>\n",
       "      <td>Baythrop</td>\n",
       "      <td>1970-06-10 21:41:03.814</td>\n",
       "      <td>Male</td>\n",
       "      <td>Black/African-American</td>\n",
       "      <td>English</td>\n",
       "    </tr>\n",
       "    <tr>\n",
       "      <th>942</th>\n",
       "      <td>943</td>\n",
       "      <td>Diahann</td>\n",
       "      <td>Smeeton</td>\n",
       "      <td>1983-01-08 21:49:27.884</td>\n",
       "      <td>Male</td>\n",
       "      <td>Black/African-American</td>\n",
       "      <td>English</td>\n",
       "    </tr>\n",
       "    <tr>\n",
       "      <th>943</th>\n",
       "      <td>944</td>\n",
       "      <td>Panchito</td>\n",
       "      <td>Sharple</td>\n",
       "      <td>1963-06-05 07:57:05.569</td>\n",
       "      <td>Male</td>\n",
       "      <td>Black/African-American</td>\n",
       "      <td>English</td>\n",
       "    </tr>\n",
       "    <tr>\n",
       "      <th>944</th>\n",
       "      <td>945</td>\n",
       "      <td>Walsh</td>\n",
       "      <td>Calvie</td>\n",
       "      <td>1972-08-06 03:40:03.454</td>\n",
       "      <td>Male</td>\n",
       "      <td>Black/African-American</td>\n",
       "      <td>English</td>\n",
       "    </tr>\n",
       "  </tbody>\n",
       "</table>\n",
       "<p>241 rows × 7 columns</p>\n",
       "</div>"
      ],
      "text/plain": [
       "     PatientID FirstName  LastName             DateOfBirth Gender  \\\n",
       "3            4   Carmine     Texas 1968-10-15 03:32:13.635   Male   \n",
       "134        135     Cally   Aylward 1962-01-13 00:11:17.581   Male   \n",
       "144        145    Sheena       LLC 1966-10-17 13:24:21.621   Male   \n",
       "188        189    Rempel     Group 1974-07-17 04:55:39.964   Male   \n",
       "199        200      Fonz     Group 1964-01-15 01:57:57.966   Male   \n",
       "..         ...       ...       ...                     ...    ...   \n",
       "940        941       Wat   Fideler 1986-05-26 00:01:19.761   Male   \n",
       "941        942    Wandie  Baythrop 1970-06-10 21:41:03.814   Male   \n",
       "942        943   Diahann   Smeeton 1983-01-08 21:49:27.884   Male   \n",
       "943        944  Panchito   Sharple 1963-06-05 07:57:05.569   Male   \n",
       "944        945     Walsh    Calvie 1972-08-06 03:40:03.454   Male   \n",
       "\n",
       "                       Race Language  \n",
       "3                     White  English  \n",
       "134  Black/African-American  English  \n",
       "144  Black/African-American  English  \n",
       "188  Black/African-American  English  \n",
       "199  Black/African-American  English  \n",
       "..                      ...      ...  \n",
       "940  Black/African-American  English  \n",
       "941  Black/African-American  English  \n",
       "942  Black/African-American  English  \n",
       "943  Black/African-American  English  \n",
       "944  Black/African-American  English  \n",
       "\n",
       "[241 rows x 7 columns]"
      ]
     },
     "execution_count": 13,
     "metadata": {},
     "output_type": "execute_result"
    }
   ],
   "source": [
    "#selecting patientID column from ReadmissionRegistry sheet\n",
    "df_new_RE = list(df_RE[\"PatientID\"])\n",
    "#checking list of patientID's which are not there in ReadmissionRegistry\n",
    "df_PA[~df_PA['PatientID'].isin(df_new_RE)]\n",
    "                    \n"
   ]
  },
  {
   "cell_type": "markdown",
   "metadata": {},
   "source": [
    "### 59.Create a bar chart by making list on Acuity & EDDisposition column (with no duplicates) & make the hatchs onto the bar by using set_hatch() method."
   ]
  },
  {
   "cell_type": "code",
   "execution_count": 22,
   "metadata": {},
   "outputs": [
    {
     "data": {
      "image/png": "[encoded data removed]",
      "text/plain": [
       "<Figure size 432x288 with 1 Axes>"
      ]
     },
     "metadata": {
      "needs_background": "light"
     },
     "output_type": "display_data"
    }
   ],
   "source": [
    "df_EDV.drop_duplicates()\n",
    "a = sns.barplot(data=df_EDV, x= 'EDDisposition', y= 'Acuity' )\n",
    "\n",
    "a.patches[0].set_hatch('/')  # Hatching pattern for the first bar\n",
    "a.patches[1].set_hatch('o') # Hatching pattern for the second bar\n",
    "plt.show()\n",
    "\n"
   ]
  },
  {
   "cell_type": "markdown",
   "metadata": {},
   "source": [
    "### 60.Create a heat map on Readmission Registry table to find correlation between columns values."
   ]
  },
  {
   "cell_type": "code",
   "execution_count": 25,
   "metadata": {},
   "outputs": [
    {
     "name": "stdout",
     "output_type": "stream",
     "text": [
      "                           AdmissionID  PatientID  ExpectedLOS  \\\n",
      "AdmissionID                   1.000000   0.302079    -0.070080   \n",
      "PatientID                     0.302079   1.000000    -0.015485   \n",
      "ExpectedLOS                  -0.070080  -0.015485     1.000000   \n",
      "ExpectedMortality             0.034083   0.008014     0.220725   \n",
      "ReadmissionFlag                    NaN        NaN          NaN   \n",
      "DaysToReadmission             0.049632   0.001710     0.010294   \n",
      "EDVisitAfterDischargeFlag          NaN        NaN          NaN   \n",
      "\n",
      "                           ExpectedMortality  ReadmissionFlag  \\\n",
      "AdmissionID                         0.034083              NaN   \n",
      "PatientID                           0.008014              NaN   \n",
      "ExpectedLOS                         0.220725              NaN   \n",
      "ExpectedMortality                   1.000000              NaN   \n",
      "ReadmissionFlag                          NaN              NaN   \n",
      "DaysToReadmission                  -0.052563              NaN   \n",
      "EDVisitAfterDischargeFlag                NaN              NaN   \n",
      "\n",
      "                           DaysToReadmission  EDVisitAfterDischargeFlag  \n",
      "AdmissionID                         0.049632                        NaN  \n",
      "PatientID                           0.001710                        NaN  \n",
      "ExpectedLOS                         0.010294                        NaN  \n",
      "ExpectedMortality                  -0.052563                        NaN  \n",
      "ReadmissionFlag                          NaN                        NaN  \n",
      "DaysToReadmission                   1.000000                        NaN  \n",
      "EDVisitAfterDischargeFlag                NaN                        NaN  \n"
     ]
    }
   ],
   "source": [
    "#checking correlation\n",
    "corr=df_RE.corr()\n",
    "print(corr)"
   ]
  },
  {
   "cell_type": "code",
   "execution_count": 27,
   "metadata": {},
   "outputs": [
    {
     "data": {
      "image/png": "[encoded data removed]",
      "text/plain": [
       "<Figure size 864x144 with 2 Axes>"
      ]
     },
     "metadata": {
      "needs_background": "light"
     },
     "output_type": "display_data"
    }
   ],
   "source": [
    "# Create a correlation heatmap\n",
    "plt.figure(figsize=(12,2))\n",
    "heatmap = sns.heatmap(df_RE.corr(), vmin=-1, vmax=1, annot=True, cmap=\"magma\")\n",
    "heatmap.set_title('Correlation Heatmap', fontdict={'fontsize':10}, pad=12)\n",
    "\n",
    "plt.show()"
   ]
  },
  {
   "cell_type": "code",
   "execution_count": null,
   "metadata": {},
   "outputs": [],
   "source": []
  }
 ],
 "metadata": {
  "kernelspec": {
   "display_name": "Python 3",
   "language": "python",
   "name": "python3"
  },
  "language_info": {
   "codemirror_mode": {
    "name": "ipython",
    "version": 3
   },
   "file_extension": ".py",
   "mimetype": "text/x-python",
   "name": "python",
   "nbconvert_exporter": "python",
   "pygments_lexer": "ipython3",
   "version": "3.8.5"
  }
 },
 "nbformat": 4,
 "nbformat_minor": 4
}
