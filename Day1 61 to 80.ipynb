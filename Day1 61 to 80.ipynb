{
 "cells": [
  {
   "cell_type": "code",
   "execution_count": 3,
   "id": "7f42a389",
   "metadata": {},
   "outputs": [
    {
     "name": "stdout",
     "output_type": "stream",
     "text": [
      "Collecting pandasqlNote: you may need to restart the kernel to use updated packages.\n",
      "\n",
      "  Downloading pandasql-0.7.3.tar.gz (26 kB)\n",
      "  Preparing metadata (setup.py): started\n",
      "  Preparing metadata (setup.py): finished with status 'done'\n",
      "Requirement already satisfied: numpy in c:\\users\\kpnar\\anaconda3\\lib\\site-packages (from pandasql) (1.21.5)\n",
      "Requirement already satisfied: pandas in c:\\users\\kpnar\\anaconda3\\lib\\site-packages (from pandasql) (1.4.4)\n",
      "Requirement already satisfied: sqlalchemy in c:\\users\\kpnar\\anaconda3\\lib\\site-packages (from pandasql) (1.4.39)\n",
      "Requirement already satisfied: python-dateutil>=2.8.1 in c:\\users\\kpnar\\anaconda3\\lib\\site-packages (from pandas->pandasql) (2.8.2)\n",
      "Requirement already satisfied: pytz>=2020.1 in c:\\users\\kpnar\\anaconda3\\lib\\site-packages (from pandas->pandasql) (2022.1)\n",
      "Requirement already satisfied: greenlet!=0.4.17 in c:\\users\\kpnar\\anaconda3\\lib\\site-packages (from sqlalchemy->pandasql) (1.1.1)\n",
      "Requirement already satisfied: six>=1.5 in c:\\users\\kpnar\\anaconda3\\lib\\site-packages (from python-dateutil>=2.8.1->pandas->pandasql) (1.16.0)\n",
      "Building wheels for collected packages: pandasql\n",
      "  Building wheel for pandasql (setup.py): started\n",
      "  Building wheel for pandasql (setup.py): finished with status 'done'\n",
      "  Created wheel for pandasql: filename=pandasql-0.7.3-py3-none-any.whl size=26768 sha256=11cedf5ec4cdf00bd471aaecee152090db3e7d758753e36b1b650f0bdf568fe4\n",
      "  Stored in directory: c:\\users\\kpnar\\appdata\\local\\pip\\cache\\wheels\\63\\e8\\ec\\75b1df467ecf57b6ececb32cb16f4e86697cbfe55cb0c51f07\n",
      "Successfully built pandasql\n",
      "Installing collected packages: pandasql\n",
      "Successfully installed pandasql-0.7.3\n"
     ]
    }
   ],
   "source": [
    "pip install pandasql"
   ]
  },
  {
   "cell_type": "code",
   "execution_count": 4,
   "id": "5e6c09dc",
   "metadata": {},
   "outputs": [
    {
     "name": "stdout",
     "output_type": "stream",
     "text": [
      "Requirement already satisfied: xlrd in c:\\users\\kpnar\\anaconda3\\lib\\site-packages (2.0.1)\n",
      "Note: you may need to restart the kernel to use updated packages.\n"
     ]
    }
   ],
   "source": [
    "pip install xlrd"
   ]
  },
  {
   "cell_type": "code",
   "execution_count": 8,
   "id": "90a0c87b",
   "metadata": {},
   "outputs": [],
   "source": [
    "import pandas as pd\n",
    "import seaborn as sns\n",
    "import matplotlib.pyplot as plt\n",
    "import numpy as np\n",
    "from datetime import datetime, date\n",
    "from pandasql import sqldf\n",
    "import pandasql as ps\n",
    "import seaborn \n",
    "mysql = lambda q: sqldf(q, globals())\n",
    "import re"
   ]
  },
  {
   "cell_type": "code",
   "execution_count": 63,
   "id": "7671f4d4",
   "metadata": {},
   "outputs": [
    {
     "ename": "IndentationError",
     "evalue": "unexpected indent (1581504745.py, line 13)",
     "output_type": "error",
     "traceback": [
      "\u001b[1;36m  File \u001b[1;32m\"C:\\Users\\kpnar\\AppData\\Local\\Temp\\ipykernel_5160\\1581504745.py\"\u001b[1;36m, line \u001b[1;32m13\u001b[0m\n\u001b[1;33m    df_AV = pd.read_excel(xls,'AmbulatoryVisits')\u001b[0m\n\u001b[1;37m    ^\u001b[0m\n\u001b[1;31mIndentationError\u001b[0m\u001b[1;31m:\u001b[0m unexpected indent\n"
     ]
    }
   ],
   "source": [
    "#Reading the dataset\n",
    "xls=pd.ExcelFile(\"HospitalDatabase.xlsx\")\n",
    "\n",
    "#Reading the patients Sheet\n",
    "\n",
    "df_PA=pd.read_excel(xls,'Patients')\n",
    "\n",
    "# Reading the EDVisit Sheet\n",
    "\n",
    "df_EDV=pd.read_excel(xls,'EDVisits')\n",
    "\n",
    "# Reading the AmbulatoryVisits sheet\n",
    " df_AV = pd.read_excel(xls,'AmbulatoryVisits')\n",
    "\n",
    "    \n",
    "#Reading the ReAdmissionRegistry \n",
    " df_RE=pd.read_excel(xls,'ReAdmissionRegistry')\n",
    "\n",
    "#Reading the Discharges sheet\n",
    "  df_D=pd.read_excel(xls,'Discharges')\n",
    "\n",
    "#Reading the Providers sheet\n",
    "df_P=pd.read_excel(xls,'Providers')\n",
    "\n",
    "#Reading the EDUnique sheet\n",
    "df_E=pd.read_excel(xls,' EDUnique')\n",
    "\n",
    "    \n",
    "    \n",
    "    \n"
   ]
  },
  {
   "cell_type": "markdown",
   "id": "0abb74d6",
   "metadata": {},
   "source": [
    "# 61.np.arange(1,31).reshape(6,5) Find the array slicing to get the elements with values 11,12,16,17."
   ]
  },
  {
   "cell_type": "code",
   "execution_count": 86,
   "id": "46e0ec65",
   "metadata": {},
   "outputs": [
    {
     "name": "stdout",
     "output_type": "stream",
     "text": [
      "[[ 1  2  3  4  5]\n",
      " [ 6  7  8  9 10]\n",
      " [11 12 13 14 15]\n",
      " [16 17 18 19 20]\n",
      " [21 22 23 24 25]\n",
      " [26 27 28 29 30]]\n"
     ]
    },
    {
     "data": {
      "text/plain": [
       "array([[11, 12],\n",
       "       [16, 17]])"
      ]
     },
     "execution_count": 86,
     "metadata": {},
     "output_type": "execute_result"
    }
   ],
   "source": [
    "A = np.arange(1,31)\n",
    "B = A.reshape(6, 5)\n",
    "print(B)\n",
    "B[2:4,0:2]"
   ]
  },
  {
   "cell_type": "markdown",
   "id": "73779226",
   "metadata": {},
   "source": [
    "# 80.Display the data for all 'White Female' patients above the age of 50.   "
   ]
  },
  {
   "cell_type": "code",
   "execution_count": 17,
   "id": "71a28338",
   "metadata": {},
   "outputs": [
    {
     "data": {
      "text/html": [
       "<div>\n",
       "<style scoped>\n",
       "    .dataframe tbody tr th:only-of-type {\n",
       "        vertical-align: middle;\n",
       "    }\n",
       "\n",
       "    .dataframe tbody tr th {\n",
       "        vertical-align: top;\n",
       "    }\n",
       "\n",
       "    .dataframe thead th {\n",
       "        text-align: right;\n",
       "    }\n",
       "</style>\n",
       "<table border=\"1\" class=\"dataframe\">\n",
       "  <thead>\n",
       "    <tr style=\"text-align: right;\">\n",
       "      <th></th>\n",
       "      <th>PatientID</th>\n",
       "      <th>FirstName</th>\n",
       "      <th>LastName</th>\n",
       "      <th>DateOfBirth</th>\n",
       "      <th>Gender</th>\n",
       "      <th>Race</th>\n",
       "      <th>Language</th>\n",
       "    </tr>\n",
       "  </thead>\n",
       "  <tbody>\n",
       "    <tr>\n",
       "      <th>25</th>\n",
       "      <td>26</td>\n",
       "      <td>Sally</td>\n",
       "      <td>Bing</td>\n",
       "      <td>1972-08-03 00:05:39.560</td>\n",
       "      <td>Female</td>\n",
       "      <td>White</td>\n",
       "      <td>Spanish</td>\n",
       "    </tr>\n",
       "    <tr>\n",
       "      <th>28</th>\n",
       "      <td>29</td>\n",
       "      <td>Ted</td>\n",
       "      <td>Scott</td>\n",
       "      <td>1967-12-09 05:01:37.892</td>\n",
       "      <td>Female</td>\n",
       "      <td>White</td>\n",
       "      <td>Spanish</td>\n",
       "    </tr>\n",
       "    <tr>\n",
       "      <th>30</th>\n",
       "      <td>31</td>\n",
       "      <td>Harry</td>\n",
       "      <td>Ding</td>\n",
       "      <td>1960-10-08 01:42:51.212</td>\n",
       "      <td>Female</td>\n",
       "      <td>White</td>\n",
       "      <td>Spanish</td>\n",
       "    </tr>\n",
       "    <tr>\n",
       "      <th>33</th>\n",
       "      <td>34</td>\n",
       "      <td>Ted</td>\n",
       "      <td>Hue</td>\n",
       "      <td>1960-11-28 18:05:11.459</td>\n",
       "      <td>Female</td>\n",
       "      <td>White</td>\n",
       "      <td>Spanish</td>\n",
       "    </tr>\n",
       "    <tr>\n",
       "      <th>34</th>\n",
       "      <td>35</td>\n",
       "      <td>Fred</td>\n",
       "      <td>Tye</td>\n",
       "      <td>1966-04-14 06:01:07.169</td>\n",
       "      <td>Female</td>\n",
       "      <td>White</td>\n",
       "      <td>Spanish</td>\n",
       "    </tr>\n",
       "    <tr>\n",
       "      <th>...</th>\n",
       "      <td>...</td>\n",
       "      <td>...</td>\n",
       "      <td>...</td>\n",
       "      <td>...</td>\n",
       "      <td>...</td>\n",
       "      <td>...</td>\n",
       "      <td>...</td>\n",
       "    </tr>\n",
       "    <tr>\n",
       "      <th>865</th>\n",
       "      <td>866</td>\n",
       "      <td>Jermayne</td>\n",
       "      <td>Lowndes</td>\n",
       "      <td>1970-12-09 04:49:48.933</td>\n",
       "      <td>Female</td>\n",
       "      <td>White</td>\n",
       "      <td>English</td>\n",
       "    </tr>\n",
       "    <tr>\n",
       "      <th>866</th>\n",
       "      <td>867</td>\n",
       "      <td>Gail</td>\n",
       "      <td>Inc</td>\n",
       "      <td>1967-03-10 08:18:47.908</td>\n",
       "      <td>Female</td>\n",
       "      <td>White</td>\n",
       "      <td>English</td>\n",
       "    </tr>\n",
       "    <tr>\n",
       "      <th>867</th>\n",
       "      <td>868</td>\n",
       "      <td>Des</td>\n",
       "      <td>Heindrick</td>\n",
       "      <td>1969-08-15 11:05:30.165</td>\n",
       "      <td>Female</td>\n",
       "      <td>White</td>\n",
       "      <td>English</td>\n",
       "    </tr>\n",
       "    <tr>\n",
       "      <th>869</th>\n",
       "      <td>870</td>\n",
       "      <td>Hauck</td>\n",
       "      <td>Rubbens</td>\n",
       "      <td>1963-11-16 03:31:38.929</td>\n",
       "      <td>Female</td>\n",
       "      <td>White</td>\n",
       "      <td>English</td>\n",
       "    </tr>\n",
       "    <tr>\n",
       "      <th>873</th>\n",
       "      <td>874</td>\n",
       "      <td>Schroeder</td>\n",
       "      <td>McGarvey</td>\n",
       "      <td>1971-12-09 11:56:22.068</td>\n",
       "      <td>Female</td>\n",
       "      <td>White</td>\n",
       "      <td>English</td>\n",
       "    </tr>\n",
       "  </tbody>\n",
       "</table>\n",
       "<p>122 rows × 7 columns</p>\n",
       "</div>"
      ],
      "text/plain": [
       "     PatientID  FirstName   LastName             DateOfBirth  Gender   Race  \\\n",
       "25          26      Sally       Bing 1972-08-03 00:05:39.560  Female  White   \n",
       "28          29        Ted      Scott 1967-12-09 05:01:37.892  Female  White   \n",
       "30          31      Harry       Ding 1960-10-08 01:42:51.212  Female  White   \n",
       "33          34        Ted        Hue 1960-11-28 18:05:11.459  Female  White   \n",
       "34          35       Fred        Tye 1966-04-14 06:01:07.169  Female  White   \n",
       "..         ...        ...        ...                     ...     ...    ...   \n",
       "865        866   Jermayne    Lowndes 1970-12-09 04:49:48.933  Female  White   \n",
       "866        867       Gail        Inc 1967-03-10 08:18:47.908  Female  White   \n",
       "867        868        Des  Heindrick 1969-08-15 11:05:30.165  Female  White   \n",
       "869        870      Hauck    Rubbens 1963-11-16 03:31:38.929  Female  White   \n",
       "873        874  Schroeder   McGarvey 1971-12-09 11:56:22.068  Female  White   \n",
       "\n",
       "    Language  \n",
       "25   Spanish  \n",
       "28   Spanish  \n",
       "30   Spanish  \n",
       "33   Spanish  \n",
       "34   Spanish  \n",
       "..       ...  \n",
       "865  English  \n",
       "866  English  \n",
       "867  English  \n",
       "869  English  \n",
       "873  English  \n",
       "\n",
       "[122 rows x 7 columns]"
      ]
     },
     "execution_count": 17,
     "metadata": {},
     "output_type": "execute_result"
    }
   ],
   "source": [
    "#xls=pd.ExcelFile(\"HospitalDatabase.xlsx\")\n",
    "#df_PA=pd.read_excel(xls,'Patients')\n",
    "\n",
    "df_PA[(df_PA.Race == 'White') \n",
    "      & (df_PA.Gender == 'Female') \n",
    "      & (df_PA.DateOfBirth.dt.year < (datetime.today().year-50))]"
   ]
  },
  {
   "cell_type": "markdown",
   "id": "14406bda",
   "metadata": {},
   "source": [
    "# #63.List male patients over the age of 60 who have undergone surgery from January-March 2019.\n"
   ]
  },
  {
   "cell_type": "code",
   "execution_count": 62,
   "id": "c128b222",
   "metadata": {},
   "outputs": [
    {
     "ename": "NameError",
     "evalue": "name 'df_AV' is not defined",
     "output_type": "error",
     "traceback": [
      "\u001b[1;31m---------------------------------------------------------------------------\u001b[0m",
      "\u001b[1;31mNameError\u001b[0m                                 Traceback (most recent call last)",
      "\u001b[1;32m~\\AppData\\Local\\Temp\\ipykernel_5160\\651311924.py\u001b[0m in \u001b[0;36m<module>\u001b[1;34m\u001b[0m\n\u001b[1;32m----> 1\u001b[1;33m \u001b[0mPva\u001b[0m \u001b[1;33m=\u001b[0m \u001b[0mpd\u001b[0m\u001b[1;33m.\u001b[0m\u001b[0mmerge\u001b[0m\u001b[1;33m(\u001b[0m\u001b[0mdf_AV\u001b[0m\u001b[1;33m,\u001b[0m \u001b[0mdf_P\u001b[0m\u001b[1;33m,\u001b[0m \u001b[0mon\u001b[0m \u001b[1;33m=\u001b[0m \u001b[1;34m\"ProviderID\"\u001b[0m\u001b[1;33m)\u001b[0m\u001b[1;33m\u001b[0m\u001b[1;33m\u001b[0m\u001b[0m\n\u001b[0m\u001b[0;32m      2\u001b[0m \u001b[0mavpa\u001b[0m \u001b[1;33m=\u001b[0m \u001b[0mpd\u001b[0m\u001b[1;33m.\u001b[0m\u001b[0mmerge\u001b[0m\u001b[1;33m(\u001b[0m\u001b[0mdf_PA\u001b[0m\u001b[1;33m,\u001b[0m \u001b[0mPva\u001b[0m\u001b[1;33m,\u001b[0m \u001b[0mleft_on\u001b[0m\u001b[1;33m=\u001b[0m\u001b[1;34m\"PatientID\"\u001b[0m\u001b[1;33m,\u001b[0m \u001b[0mright_on\u001b[0m\u001b[1;33m=\u001b[0m\u001b[1;34m\"PatientMRN\"\u001b[0m\u001b[1;33m)\u001b[0m\u001b[1;33m\u001b[0m\u001b[1;33m\u001b[0m\u001b[0m\n\u001b[0;32m      3\u001b[0m avpa[(avpa.Gender == 'Male')\n\u001b[0;32m      4\u001b[0m     \u001b[1;33m&\u001b[0m \u001b[1;33m(\u001b[0m\u001b[0mavpa\u001b[0m\u001b[1;33m.\u001b[0m\u001b[0mDateOfBirth\u001b[0m\u001b[1;33m.\u001b[0m\u001b[0mdt\u001b[0m\u001b[1;33m.\u001b[0m\u001b[0myear\u001b[0m \u001b[1;33m<\u001b[0m \u001b[1;33m(\u001b[0m\u001b[0mdatetime\u001b[0m\u001b[1;33m.\u001b[0m\u001b[0mtoday\u001b[0m\u001b[1;33m(\u001b[0m\u001b[1;33m)\u001b[0m\u001b[1;33m.\u001b[0m\u001b[0myear\u001b[0m\u001b[1;33m-\u001b[0m\u001b[1;36m60\u001b[0m\u001b[1;33m)\u001b[0m\u001b[1;33m)\u001b[0m\u001b[1;33m\u001b[0m\u001b[1;33m\u001b[0m\u001b[0m\n\u001b[0;32m      5\u001b[0m     \u001b[1;33m&\u001b[0m \u001b[1;33m(\u001b[0m\u001b[0mavpa\u001b[0m\u001b[1;33m.\u001b[0m\u001b[0mProviderSpecialty\u001b[0m \u001b[1;33m==\u001b[0m \u001b[1;34m'Surgery'\u001b[0m\u001b[1;33m)\u001b[0m\u001b[1;33m\u001b[0m\u001b[1;33m\u001b[0m\u001b[0m\n",
      "\u001b[1;31mNameError\u001b[0m: name 'df_AV' is not defined"
     ]
    }
   ],
   "source": [
    "Pva = pd.merge(df_AV, df_P, on = \"ProviderID\")\n",
    "avpa = pd.merge(df_PA, Pva, left_on=\"PatientID\", right_on=\"PatientMRN\")\n",
    "avpa[(avpa.Gender == 'Male')\n",
    "    & (avpa.DateOfBirth.dt.year < (datetime.today().year-60))\n",
    "    & (avpa.ProviderSpecialty == 'Surgery')\n",
    "    & (avpa.DateScheduled.dt.year == 2019)\n",
    "    & (avpa.DateScheduled.dt.month >= 1)\n",
    "    & (avpa.DateScheduled.dt.month <= 3)]"
   ]
  },
  {
   "cell_type": "markdown",
   "id": "52764ed0",
   "metadata": {},
   "source": [
    "## 75.Using numpy functions, multiply the following arrays                     a=np.arange(6).reshape(2,3)                                                                            b=np.arange(6).reshape(3,2)"
   ]
  },
  {
   "cell_type": "code",
   "execution_count": 29,
   "id": "2accdcc2",
   "metadata": {},
   "outputs": [
    {
     "name": "stdout",
     "output_type": "stream",
     "text": [
      "result [[10 13]\n",
      " [28 40]]\n"
     ]
    }
   ],
   "source": [
    "\n",
    "a=np.arange(6).reshape(2,3)\n",
    "b=np.arange(6).reshape(3,2)\n",
    "outarr=np.dot(a,b)\n",
    "print(\"result\",outarr)"
   ]
  },
  {
   "cell_type": "markdown",
   "id": "317da136",
   "metadata": {},
   "source": [
    "  # #71.Find the count of White Spanish Male."
   ]
  },
  {
   "cell_type": "code",
   "execution_count": 87,
   "id": "48afa826",
   "metadata": {},
   "outputs": [
    {
     "data": {
      "text/plain": [
       "15"
      ]
     },
     "execution_count": 87,
     "metadata": {},
     "output_type": "execute_result"
    }
   ],
   "source": [
    "len (df_PA[(df_PA['Race']=='White') & (df_PA['Language']=='Spanish') & (df_PA['Gender']=='Male')])\n"
   ]
  },
  {
   "cell_type": "code",
   "execution_count": null,
   "id": "d18ecaaf",
   "metadata": {},
   "outputs": [],
   "source": []
  }
 ],
 "metadata": {
  "kernelspec": {
   "display_name": "Python 3 (ipykernel)",
   "language": "python",
   "name": "python3"
  },
  "language_info": {
   "codemirror_mode": {
    "name": "ipython",
    "version": 3
   },
   "file_extension": ".py",
   "mimetype": "text/x-python",
   "name": "python",
   "nbconvert_exporter": "python",
   "pygments_lexer": "ipython3",
   "version": "3.9.13"
  }
 },
 "nbformat": 4,
 "nbformat_minor": 5
}
