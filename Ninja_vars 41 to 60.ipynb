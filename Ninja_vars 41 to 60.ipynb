{
 "cells": [
  {
   "cell_type": "code",
   "execution_count": null,
   "metadata": {},
   "outputs": [],
   "source": [
    "pip install panda"
   ]
  },
  {
   "cell_type": "code",
   "execution_count": 2,
   "metadata": {},
   "outputs": [],
   "source": [
    "import pandas as pd\n",
    "import numpy as np\n",
    "import seaborn as sns\n",
    "import matplotlib.pyplot as plt"
   ]
  },
  {
   "cell_type": "markdown",
   "metadata": {},
   "source": [
    "# Load Excel File"
   ]
  },
  {
   "cell_type": "code",
   "execution_count": 3,
   "metadata": {},
   "outputs": [],
   "source": [
    "#Reading the Dataset\n",
    "xls = pd.ExcelFile(\"C:\\Vijaya\\Python\\HospitalDatabase.xlsx\")\n",
    "\n",
    "#Reading the Patients sheet\n",
    "df_PA = pd.read_excel(xls, 'Patients')\n",
    "\n",
    "#Reading the EDVisits sheet\n",
    "df_EDV= pd.read_excel(xls, 'EDVisits')\n",
    "\n",
    "#Reading the AmbulatoryVisits sheet\n",
    "df_AV = pd.read_excel(xls, 'AmbulatoryVisits')\n",
    "\n",
    "#Reading the ReAdmissionRegistry \n",
    "df_RE = pd.read_excel(xls, 'ReAdmissionRegistry')\n",
    "\n",
    "#Reading the Discharges sheet\n",
    "df_D = pd.read_excel(xls, 'Discharges')\n",
    "\n",
    "#Reading the Providers sheet\n",
    "df_P = pd.read_excel(xls, 'Providers')\n",
    "\n",
    "#Reading the EDUnique sheet\n",
    "df_E = pd.read_excel(xls, 'EDUnique')\n"
   ]
  },
  {
   "cell_type": "markdown",
   "metadata": {},
   "source": [
    "### 41.Find the age prone to get stroke."
   ]
  },
  {
   "cell_type": "code",
   "execution_count": null,
   "metadata": {},
   "outputs": [],
   "source": [
    "from datetime import datetime\n",
    "## Reading ReAdmissionRegistry sheet\n",
    "df_RE=pd.read_excel(xls, 'ReAdmissionRegistry')\n",
    "\n",
    "## Reading Patients Sheet\n",
    "df_PA=pd.read_excel(xls, 'Patients')\n",
    "\n",
    "##  Created dataframe by selecting two columns from ReAdmissionRegistry sheet\n",
    "df_new_re = df_RE[['PatientID','PrimaryDiagnosis']]\n",
    "\n",
    "## Selecting patients with primaryDiagnosis=stroke\n",
    "df_new_re= df_new_re[df_new_re['PrimaryDiagnosis']=='Stroke']\n",
    "\n",
    "## Created dataframe by selecting two columns from patients sheet\n",
    "df_new_pa= df_PA[['PatientID', 'DateOfBirth']]\n",
    "\n",
    "## finding age using dateofbirth column\n",
    "## coverting data of birth column to datetime object\n",
    "df_new_pa['DateOfBirth'] = pd.to_datetime(df_PA['DateOfBirth'])\n",
    "\n",
    "## current date\n",
    "current_date = datetime.now()\n",
    "\n",
    "## calculating age\n",
    "df_new_pa['Age'] = (current_date - df_new_pa['DateOfBirth']).astype('<m8[Y]')\n",
    "\n",
    "## creating new dataframe with patientID and age\n",
    "df_new_pa= df_new_pa[['PatientID', 'Age']]\n",
    "\n",
    "## perform merge operation\n",
    "merge_df= pd.merge(df_new_re,df_new_pa, on='PatientID')\n",
    "\n",
    " ## group by \n",
    "Result= merge_df.pivot_table(index=['Age'],values=['PatientID'],aggfunc='count')\n",
    "# Alias the column\n",
    "Result = Result.rename(columns={'PatientID': 'Count of Patients'})\n",
    "\n",
    "print(Result)\n",
    "\n",
    "\n",
    "\n",
    "\n",
    "\n",
    "\n"
   ]
  },
  {
   "cell_type": "markdown",
   "metadata": {},
   "source": [
    "### 42.Calculate mortality by diagnosis."
   ]
  },
  {
   "cell_type": "code",
   "execution_count": null,
   "metadata": {},
   "outputs": [],
   "source": [
    "#Reading the Discharges sheet\n",
    "df_D = pd.read_excel(xls, 'Discharges')\n",
    "\n",
    "#Mortality O:E = Observed Mortality/Expected Mortality\n",
    "\n",
    "#Observed Mortality: COUNT of Discharge Disposition='Expired' \n",
    "\n",
    "#O:E Mortality: ([Observed Mortality])/SUM([Expected Mortality])\n",
    "temp_df = df_D.loc[(df_D['DischargeDisposition'] == 'Expired')]\n",
    "observed_Mortality = temp_df['DischargeDisposition'].value_counts()\n",
    "expected_mortality = temp_df['ExpectedMortality'].sum()\n",
    "Mortality = (observed_Mortality/expected_mortality)\n",
    "#print(Mortality)\n",
    "temp_df = temp_df[['Mortality','PrimaryDiagnosis']]\n",
    "groupedDF = temp_df.groupby('PrimaryDiagnosis')\n",
    "print(groupedDF)\n",
    "\n",
    "\n",
    "\n",
    "\n",
    "\n",
    "\n"
   ]
  },
  {
   "cell_type": "markdown",
   "metadata": {},
   "source": [
    "### 43.Details of the patients whose firstname or lastname contains string \"lau\" , should be case insensitive."
   ]
  },
  {
   "cell_type": "code",
   "execution_count": 1,
   "metadata": {},
   "outputs": [
    {
     "ename": "NameError",
     "evalue": "name 'df_PA' is not defined",
     "output_type": "error",
     "traceback": [
      "\u001b[1;31m---------------------------------------------------------------------------\u001b[0m",
      "\u001b[1;31mNameError\u001b[0m                                 Traceback (most recent call last)",
      "\u001b[1;32m<ipython-input-1-0e3a4233291e>\u001b[0m in \u001b[0;36m<module>\u001b[1;34m\u001b[0m\n\u001b[1;32m----> 1\u001b[1;33m \u001b[0mdf_PA\u001b[0m\u001b[1;33m[\u001b[0m\u001b[0mdf_PA\u001b[0m\u001b[1;33m.\u001b[0m\u001b[0mFirstName\u001b[0m\u001b[1;33m.\u001b[0m\u001b[0mstr\u001b[0m\u001b[1;33m.\u001b[0m\u001b[0mcontains\u001b[0m\u001b[1;33m(\u001b[0m\u001b[1;34m'lau'\u001b[0m\u001b[1;33m,\u001b[0m \u001b[0mcase\u001b[0m\u001b[1;33m=\u001b[0m\u001b[1;32mFalse\u001b[0m\u001b[1;33m)\u001b[0m \u001b[1;33m|\u001b[0m \u001b[0mdf_PA\u001b[0m\u001b[1;33m.\u001b[0m\u001b[0mLastName\u001b[0m\u001b[1;33m.\u001b[0m\u001b[0mstr\u001b[0m\u001b[1;33m.\u001b[0m\u001b[0mcontains\u001b[0m\u001b[1;33m(\u001b[0m\u001b[1;34m'lau'\u001b[0m\u001b[1;33m,\u001b[0m \u001b[0mcase\u001b[0m\u001b[1;33m=\u001b[0m\u001b[1;32mFalse\u001b[0m\u001b[1;33m)\u001b[0m\u001b[1;33m]\u001b[0m\u001b[1;33m\u001b[0m\u001b[1;33m\u001b[0m\u001b[0m\n\u001b[0m",
      "\u001b[1;31mNameError\u001b[0m: name 'df_PA' is not defined"
     ]
    }
   ],
   "source": [
    "df_PA[df_PA.FirstName.str.contains('lau', case=False) | df_PA.LastName.str.contains('lau', case=False)]"
   ]
  },
  {
   "cell_type": "markdown",
   "metadata": {},
   "source": [
    "### 44.Display data by splitting age in 4 quartiles and labeling the quartiles."
   ]
  },
  {
   "cell_type": "code",
   "execution_count": null,
   "metadata": {},
   "outputs": [],
   "source": [
    "## coverting data of birth column to datetime object\n",
    "df_new_pa['DateOfBirth'] = pd.to_datetime(df_PA['DateOfBirth'])\n",
    "\n",
    "## current date\n",
    "current_date = datetime.now()\n",
    "\n",
    "## calculating age\n",
    "df_new_pa['Age'] = (current_date - df_new_pa['DateOfBirth']).astype('<m8[Y]')\n",
    "#print(df_new_pa['Age'])\n",
    "df_new_pa['Age'].sort_values()\n",
    "print(\"Q1 quantile of AGE : \", np.quantile(df_new_pa['Age'], .25, interpolation='midpoint'))\n",
    "print(\"Q2 quantile of AGE : \", np.quantile(df_new_pa['Age'], .50, interpolation='midpoint'))\n",
    "print(\"Q3 quantile of AGE : \", np.quantile(df_new_pa['Age'], .75, interpolation='midpoint'))\n",
    "print(\"Q4 quantile of AGE : \", np.quantile(df_new_pa['Age'], 1.00, interpolation='midpoint'))\n",
    "\n",
    "\n"
   ]
  },
  {
   "cell_type": "markdown",
   "metadata": {},
   "source": [
    "### 45.Usage of Enumeration in Python with any example."
   ]
  },
  {
   "cell_type": "code",
   "execution_count": null,
   "metadata": {},
   "outputs": [],
   "source": [
    "# Example list\n",
    "fruits = [\"apple\", \"banana\", \"cherry\", \"date\"]\n",
    "\n",
    "# Iterate over the list using enumeration\n",
    "for index, value in enumerate(fruits):\n",
    "    print(f\"Index: {index}, Value: {value}\")"
   ]
  },
  {
   "cell_type": "markdown",
   "metadata": {},
   "source": [
    "### 46.Count of canceled status."
   ]
  },
  {
   "cell_type": "code",
   "execution_count": null,
   "metadata": {},
   "outputs": [],
   "source": [
    "#selecting all patients with Canceled status\n",
    "df_new_AV = df_AV.loc[(df_AV['VisitStatus']=='Canceled') ]\n",
    "\n",
    "print(\"%s%s\" % ('Count Of Patients with ''Canceled'' status  : ',  len(df_new_AV.index)))"
   ]
  },
  {
   "cell_type": "markdown",
   "metadata": {},
   "source": [
    "### 47.Display the patient details with maximum pulse pressure."
   ]
  },
  {
   "cell_type": "code",
   "execution_count": 9,
   "metadata": {},
   "outputs": [
    {
     "ename": "TypeError",
     "evalue": "first argument must be an iterable of pandas objects, you passed an object of type \"DataFrame\"",
     "output_type": "error",
     "traceback": [
      "\u001b[1;31m---------------------------------------------------------------------------\u001b[0m",
      "\u001b[1;31mTypeError\u001b[0m                                 Traceback (most recent call last)",
      "\u001b[1;32m<ipython-input-9-8c1422063517>\u001b[0m in \u001b[0;36m<module>\u001b[1;34m\u001b[0m\n\u001b[0;32m      5\u001b[0m \u001b[0msorted_df\u001b[0m\u001b[1;33m.\u001b[0m\u001b[0mhead\u001b[0m\u001b[1;33m(\u001b[0m\u001b[1;36m1\u001b[0m\u001b[1;33m)\u001b[0m\u001b[1;33m\u001b[0m\u001b[1;33m\u001b[0m\u001b[0m\n\u001b[0;32m      6\u001b[0m \u001b[1;31m## perform merge operation\u001b[0m\u001b[1;33m\u001b[0m\u001b[1;33m\u001b[0m\u001b[1;33m\u001b[0m\u001b[0m\n\u001b[1;32m----> 7\u001b[1;33m \u001b[0mcombined_df\u001b[0m \u001b[1;33m=\u001b[0m \u001b[0mpd\u001b[0m\u001b[1;33m.\u001b[0m\u001b[0mconcat\u001b[0m\u001b[1;33m(\u001b[0m\u001b[0msorted_df\u001b[0m\u001b[1;33m,\u001b[0m\u001b[0mdf_PA\u001b[0m \u001b[1;33m,\u001b[0m \u001b[0mignore_index\u001b[0m\u001b[1;33m=\u001b[0m\u001b[1;32mTrue\u001b[0m\u001b[1;33m)\u001b[0m\u001b[1;33m\u001b[0m\u001b[1;33m\u001b[0m\u001b[0m\n\u001b[0m\u001b[0;32m      8\u001b[0m \u001b[1;33m\u001b[0m\u001b[0m\n\u001b[0;32m      9\u001b[0m \u001b[1;33m\u001b[0m\u001b[0m\n",
      "\u001b[1;32m~\\Anaconda3\\lib\\site-packages\\pandas\\core\\reshape\\concat.py\u001b[0m in \u001b[0;36mconcat\u001b[1;34m(objs, axis, join, ignore_index, keys, levels, names, verify_integrity, sort, copy)\u001b[0m\n\u001b[0;32m    272\u001b[0m     \u001b[0mValueError\u001b[0m\u001b[1;33m:\u001b[0m \u001b[0mIndexes\u001b[0m \u001b[0mhave\u001b[0m \u001b[0moverlapping\u001b[0m \u001b[0mvalues\u001b[0m\u001b[1;33m:\u001b[0m \u001b[1;33m[\u001b[0m\u001b[1;34m'a'\u001b[0m\u001b[1;33m]\u001b[0m\u001b[1;33m\u001b[0m\u001b[1;33m\u001b[0m\u001b[0m\n\u001b[0;32m    273\u001b[0m     \"\"\"\n\u001b[1;32m--> 274\u001b[1;33m     op = _Concatenator(\n\u001b[0m\u001b[0;32m    275\u001b[0m         \u001b[0mobjs\u001b[0m\u001b[1;33m,\u001b[0m\u001b[1;33m\u001b[0m\u001b[1;33m\u001b[0m\u001b[0m\n\u001b[0;32m    276\u001b[0m         \u001b[0maxis\u001b[0m\u001b[1;33m=\u001b[0m\u001b[0maxis\u001b[0m\u001b[1;33m,\u001b[0m\u001b[1;33m\u001b[0m\u001b[1;33m\u001b[0m\u001b[0m\n",
      "\u001b[1;32m~\\Anaconda3\\lib\\site-packages\\pandas\\core\\reshape\\concat.py\u001b[0m in \u001b[0;36m__init__\u001b[1;34m(self, objs, axis, join, keys, levels, names, ignore_index, verify_integrity, copy, sort)\u001b[0m\n\u001b[0;32m    307\u001b[0m     ):\n\u001b[0;32m    308\u001b[0m         \u001b[1;32mif\u001b[0m \u001b[0misinstance\u001b[0m\u001b[1;33m(\u001b[0m\u001b[0mobjs\u001b[0m\u001b[1;33m,\u001b[0m \u001b[1;33m(\u001b[0m\u001b[0mABCSeries\u001b[0m\u001b[1;33m,\u001b[0m \u001b[0mABCDataFrame\u001b[0m\u001b[1;33m,\u001b[0m \u001b[0mstr\u001b[0m\u001b[1;33m)\u001b[0m\u001b[1;33m)\u001b[0m\u001b[1;33m:\u001b[0m\u001b[1;33m\u001b[0m\u001b[1;33m\u001b[0m\u001b[0m\n\u001b[1;32m--> 309\u001b[1;33m             raise TypeError(\n\u001b[0m\u001b[0;32m    310\u001b[0m                 \u001b[1;34m\"first argument must be an iterable of pandas \"\u001b[0m\u001b[1;33m\u001b[0m\u001b[1;33m\u001b[0m\u001b[0m\n\u001b[0;32m    311\u001b[0m                 \u001b[1;34mf'objects, you passed an object of type \"{type(objs).__name__}\"'\u001b[0m\u001b[1;33m\u001b[0m\u001b[1;33m\u001b[0m\u001b[0m\n",
      "\u001b[1;31mTypeError\u001b[0m: first argument must be an iterable of pandas objects, you passed an object of type \"DataFrame\""
     ]
    }
   ],
   "source": [
    "\n",
    "#Reading the AmbulatoryVisits sheet\n",
    "df_AV = pd.read_excel(xls, 'AmbulatoryVisits')\n",
    "sorted_df = df_AV.sort_values(by=['Pulse'], ascending=False)\n",
    "\n",
    "sorted_df.head(1)\n",
    "## perform merge operation\n",
    "#combined_df = pd.concat(sorted_df,df_PA , ignore_index=True)\n",
    "\n",
    "\n"
   ]
  },
  {
   "cell_type": "markdown",
   "metadata": {},
   "source": [
    "### 48. Create a heat map to show the correlation between the column values of Edvisits.\n"
   ]
  },
  {
   "cell_type": "code",
   "execution_count": 23,
   "metadata": {},
   "outputs": [
    {
     "name": "stdout",
     "output_type": "stream",
     "text": [
      "           EDVisitID  PatientID    Acuity\n",
      "EDVisitID   1.000000   0.975477  0.005813\n",
      "PatientID   0.975477   1.000000  0.003545\n",
      "Acuity      0.005813   0.003545  1.000000\n"
     ]
    }
   ],
   "source": [
    "#checking correlation\n",
    "corr=df_EDV.corr()\n",
    "print(corr)"
   ]
  },
  {
   "cell_type": "code",
   "execution_count": 24,
   "metadata": {},
   "outputs": [
    {
     "data": {
      "image/png": "[encoded data removed]",
      "text/plain": [
       "<Figure size 864x144 with 2 Axes>"
      ]
     },
     "metadata": {
      "needs_background": "light"
     },
     "output_type": "display_data"
    }
   ],
   "source": [
    "# Create a correlation heatmap\n",
    "plt.figure(figsize=(12,2))\n",
    "heatmap = sns.heatmap(df_EDV.corr(), vmin=-1, vmax=1, annot=True, cmap=\"afmhot\")\n",
    "heatmap.set_title('Correlation Heatmap', fontdict={'fontsize':10}, pad=15)\n",
    "\n",
    "plt.show()"
   ]
  },
  {
   "cell_type": "markdown",
   "metadata": {},
   "source": [
    "### 49.Plot a graph by counting the no. of patients in each department."
   ]
  },
  {
   "cell_type": "code",
   "execution_count": null,
   "metadata": {
    "scrolled": true
   },
   "outputs": [],
   "source": [
    "# Create a countplot\n",
    "sns.set(style=\"darkgrid\")\n",
    "sns.countplot(data =df_AV, x='VisitDepartmentID', palette=\"mako\")\n",
    "plt.xlabel(\"Department\")\n",
    "plt.ylabel(\"Count\")\n",
    "plt.title(\"Number of Patients in Each Department\")\n",
    "plt.show()"
   ]
  },
  {
   "cell_type": "markdown",
   "metadata": {},
   "source": [
    "### 50.Display patient details where \"ReasonForVisit\" is either 'Migraine' or 'Pneumonia' and Acuity is 2 or more."
   ]
  },
  {
   "cell_type": "code",
   "execution_count": null,
   "metadata": {},
   "outputs": [],
   "source": [
    "#selecting patient details with conditions\n",
    "df_new_EDV=df_EDV.loc[((df_EDV['ReasonForVisit'] == 'Migraine') |  (df_EDV['ReasonForVisit'] == 'Pneumonia')) &  (df_EDV['Acuity']  >=2)]\n",
    "#print(df_new_EDV)\n",
    "## creating new dataframe with patientID and age\n",
    "df_new_EDV= df_new_EDV[['PatientID','ReasonForVisit', 'Acuity' ]]\n",
    "print(df_new_EDV)\n"
   ]
  },
  {
   "cell_type": "markdown",
   "metadata": {},
   "source": [
    "### 51.Take the ReasonForVisit from user, find the number of patients admitted with that ReasonForVisit."
   ]
  },
  {
   "cell_type": "code",
   "execution_count": null,
   "metadata": {},
   "outputs": [],
   "source": [
    "x = input(\"Enter the reason for visit: \")\n",
    "print(x)\n",
    "\n",
    "temp_df = df_EDV.loc[(df_EDV['ReasonForVisit'] == x) ]\n",
    "\n",
    "print(\"%s%s\" % ('Patients admitted with ' + x + ' are : ',  len(temp_df.index)))"
   ]
  },
  {
   "cell_type": "markdown",
   "metadata": {},
   "source": [
    "### 52.Using indexing , loc to retrieve the row with maximum BloodPressureSystolic."
   ]
  },
  {
   "cell_type": "code",
   "execution_count": null,
   "metadata": {},
   "outputs": [],
   "source": [
    "df_AV.loc[df_AV['BloodPressureSystolic'].idxmax()]"
   ]
  },
  {
   "cell_type": "markdown",
   "metadata": {},
   "source": [
    "### 53.Plot a graph by multiplotting on the same canvas  (Take any set of x & y values)."
   ]
  },
  {
   "cell_type": "code",
   "execution_count": null,
   "metadata": {},
   "outputs": [],
   "source": [
    "line_1 = np.random.randint(low = 0, high = 50, size = 50)\n",
    "line_2 = np.random.randint(low = -25, high = 100, size = 50)\n",
    "line_3 =np.random.randint(low = 40, high = 100, size = 50)\n",
    "\n",
    "fig, ax = plt.subplots()\n",
    "\n",
    "ax.plot(line_1, color = 'Purple', label = 'Line 1')\n",
    "ax.plot(line_2, color = 'Indigo', label = 'Line 2')\n",
    "ax.plot(line_3, color = 'red', label = 'Line 2')\n",
    "\n",
    "ax.legend(loc = 'upper left')\n",
    "plt.show()"
   ]
  },
  {
   "cell_type": "markdown",
   "metadata": {},
   "source": [
    "### 54.Retrieve the row with minimum DBP using sorting technique."
   ]
  },
  {
   "cell_type": "code",
   "execution_count": null,
   "metadata": {},
   "outputs": [],
   "source": [
    "sorted_df = df_AV.sort_values(by=['BloodPressureDiastolic'], ascending=True)\n",
    "\n",
    "sorted_df.head(1)"
   ]
  },
  {
   "cell_type": "markdown",
   "metadata": {},
   "source": [
    "### 55.Replace all the null values in ReadmissionFlag with 0."
   ]
  },
  {
   "cell_type": "code",
   "execution_count": null,
   "metadata": {},
   "outputs": [],
   "source": [
    "df_RE['ReadmissionFlag'] = df_RE['ReadmissionFlag'].fillna(0)\n",
    "df_RE['ReadmissionFlag']"
   ]
  },
  {
   "cell_type": "code",
   "execution_count": null,
   "metadata": {},
   "outputs": [],
   "source": [
    "df_AV = pd.read_excel(xls, 'AmbulatoryVisits')\n",
    "sorted_df = df_AV.sort_values(by=['Pulse'], ascending=False)\n",
    "\n",
    "sorted_df.head(1)"
   ]
  },
  {
   "cell_type": "markdown",
   "metadata": {},
   "source": [
    "### 56.Get the list of patient ID's which are not there in ReadmissionRegistry."
   ]
  },
  {
   "cell_type": "code",
   "execution_count": 13,
   "metadata": {},
   "outputs": [
    {
     "data": {
      "text/html": [
       "<div>\n",
       "<style scoped>\n",
       "    .dataframe tbody tr th:only-of-type {\n",
       "        vertical-align: middle;\n",
       "    }\n",
       "\n",
       "    .dataframe tbody tr th {\n",
       "        vertical-align: top;\n",
       "    }\n",
       "\n",
       "    .dataframe thead th {\n",
       "        text-align: right;\n",
       "    }\n",
       "</style>\n",
       "<table border=\"1\" class=\"dataframe\">\n",
       "  <thead>\n",
       "    <tr style=\"text-align: right;\">\n",
       "      <th></th>\n",
       "      <th>PatientID</th>\n",
       "      <th>FirstName</th>\n",
       "      <th>LastName</th>\n",
       "      <th>DateOfBirth</th>\n",
       "      <th>Gender</th>\n",
       "      <th>Race</th>\n",
       "      <th>Language</th>\n",
       "    </tr>\n",
       "  </thead>\n",
       "  <tbody>\n",
       "    <tr>\n",
       "      <th>3</th>\n",
       "      <td>4</td>\n",
       "      <td>Carmine</td>\n",
       "      <td>Texas</td>\n",
       "      <td>1968-10-15 03:32:13.635</td>\n",
       "      <td>Male</td>\n",
       "      <td>White</td>\n",
       "      <td>English</td>\n",
       "    </tr>\n",
       "    <tr>\n",
       "      <th>134</th>\n",
       "      <td>135</td>\n",
       "      <td>Cally</td>\n",
       "      <td>Aylward</td>\n",
       "      <td>1962-01-13 00:11:17.581</td>\n",
       "      <td>Male</td>\n",
       "      <td>Black/African-American</td>\n",
       "      <td>English</td>\n",
       "    </tr>\n",
       "    <tr>\n",
       "      <th>144</th>\n",
       "      <td>145</td>\n",
       "      <td>Sheena</td>\n",
       "      <td>LLC</td>\n",
       "      <td>1966-10-17 13:24:21.621</td>\n",
       "      <td>Male</td>\n",
       "      <td>Black/African-American</td>\n",
       "      <td>English</td>\n",
       "    </tr>\n",
       "    <tr>\n",
       "      <th>188</th>\n",
       "      <td>189</td>\n",
       "      <td>Rempel</td>\n",
       "      <td>Group</td>\n",
       "      <td>1974-07-17 04:55:39.964</td>\n",
       "      <td>Male</td>\n",
       "      <td>Black/African-American</td>\n",
       "      <td>English</td>\n",
       "    </tr>\n",
       "    <tr>\n",
       "      <th>199</th>\n",
       "      <td>200</td>\n",
       "      <td>Fonz</td>\n",
       "      <td>Group</td>\n",
       "      <td>1964-01-15 01:57:57.966</td>\n",
       "      <td>Male</td>\n",
       "      <td>Black/African-American</td>\n",
       "      <td>English</td>\n",
       "    </tr>\n",
       "    <tr>\n",
       "      <th>...</th>\n",
       "      <td>...</td>\n",
       "      <td>...</td>\n",
       "      <td>...</td>\n",
       "      <td>...</td>\n",
       "      <td>...</td>\n",
       "      <td>...</td>\n",
       "      <td>...</td>\n",
       "    </tr>\n",
       "    <tr>\n",
       "      <th>940</th>\n",
       "      <td>941</td>\n",
       "      <td>Wat</td>\n",
       "      <td>Fideler</td>\n",
       "      <td>1986-05-26 00:01:19.761</td>\n",
       "      <td>Male</td>\n",
       "      <td>Black/African-American</td>\n",
       "      <td>English</td>\n",
       "    </tr>\n",
       "    <tr>\n",
       "      <th>941</th>\n",
       "      <td>942</td>\n",
       "      <td>Wandie</td>\n",
       "      <td>Baythrop</td>\n",
       "      <td>1970-06-10 21:41:03.814</td>\n",
       "      <td>Male</td>\n",
       "      <td>Black/African-American</td>\n",
       "      <td>English</td>\n",
       "    </tr>\n",
       "    <tr>\n",
       "      <th>942</th>\n",
       "      <td>943</td>\n",
       "      <td>Diahann</td>\n",
       "      <td>Smeeton</td>\n",
       "      <td>1983-01-08 21:49:27.884</td>\n",
       "      <td>Male</td>\n",
       "      <td>Black/African-American</td>\n",
       "      <td>English</td>\n",
       "    </tr>\n",
       "    <tr>\n",
       "      <th>943</th>\n",
       "      <td>944</td>\n",
       "      <td>Panchito</td>\n",
       "      <td>Sharple</td>\n",
       "      <td>1963-06-05 07:57:05.569</td>\n",
       "      <td>Male</td>\n",
       "      <td>Black/African-American</td>\n",
       "      <td>English</td>\n",
       "    </tr>\n",
       "    <tr>\n",
       "      <th>944</th>\n",
       "      <td>945</td>\n",
       "      <td>Walsh</td>\n",
       "      <td>Calvie</td>\n",
       "      <td>1972-08-06 03:40:03.454</td>\n",
       "      <td>Male</td>\n",
       "      <td>Black/African-American</td>\n",
       "      <td>English</td>\n",
       "    </tr>\n",
       "  </tbody>\n",
       "</table>\n",
       "<p>241 rows × 7 columns</p>\n",
       "</div>"
      ],
      "text/plain": [
       "     PatientID FirstName  LastName             DateOfBirth Gender  \\\n",
       "3            4   Carmine     Texas 1968-10-15 03:32:13.635   Male   \n",
       "134        135     Cally   Aylward 1962-01-13 00:11:17.581   Male   \n",
       "144        145    Sheena       LLC 1966-10-17 13:24:21.621   Male   \n",
       "188        189    Rempel     Group 1974-07-17 04:55:39.964   Male   \n",
       "199        200      Fonz     Group 1964-01-15 01:57:57.966   Male   \n",
       "..         ...       ...       ...                     ...    ...   \n",
       "940        941       Wat   Fideler 1986-05-26 00:01:19.761   Male   \n",
       "941        942    Wandie  Baythrop 1970-06-10 21:41:03.814   Male   \n",
       "942        943   Diahann   Smeeton 1983-01-08 21:49:27.884   Male   \n",
       "943        944  Panchito   Sharple 1963-06-05 07:57:05.569   Male   \n",
       "944        945     Walsh    Calvie 1972-08-06 03:40:03.454   Male   \n",
       "\n",
       "                       Race Language  \n",
       "3                     White  English  \n",
       "134  Black/African-American  English  \n",
       "144  Black/African-American  English  \n",
       "188  Black/African-American  English  \n",
       "199  Black/African-American  English  \n",
       "..                      ...      ...  \n",
       "940  Black/African-American  English  \n",
       "941  Black/African-American  English  \n",
       "942  Black/African-American  English  \n",
       "943  Black/African-American  English  \n",
       "944  Black/African-American  English  \n",
       "\n",
       "[241 rows x 7 columns]"
      ]
     },
     "execution_count": 13,
     "metadata": {},
     "output_type": "execute_result"
    }
   ],
   "source": [
    "#selecting patientID column from ReadmissionRegistry sheet\n",
    "df_new_RE = list(df_RE[\"PatientID\"])\n",
    "#checking list of patientID's which are not there in ReadmissionRegistry\n",
    "df_PA[~df_PA['PatientID'].isin(df_new_RE)]\n",
    "                    \n"
   ]
  },
  {
   "cell_type": "markdown",
   "metadata": {},
   "source": [
    "### 59.Create a bar chart by making list on Acuity & EDDisposition column (with no duplicates) & make the hatchs onto the bar by using set_hatch() method."
   ]
  },
  {
   "cell_type": "code",
   "execution_count": 22,
   "metadata": {},
   "outputs": [
    {
     "data": {
      "image/png": "[encoded data removed]",
      "text/plain": [
       "<Figure size 432x288 with 1 Axes>"
      ]
     },
     "metadata": {
      "needs_background": "light"
     },
     "output_type": "display_data"
    }
   ],
   "source": [
    "df_EDV.drop_duplicates()\n",
    "a = sns.barplot(data=df_EDV, x= 'EDDisposition', y= 'Acuity' )\n",
    "\n",
    "a.patches[0].set_hatch('/')  # Hatching pattern for the first bar\n",
    "a.patches[1].set_hatch('o') # Hatching pattern for the second bar\n",
    "plt.show()\n",
    "\n"
   ]
  },
  {
   "cell_type": "markdown",
   "metadata": {},
   "source": [
    "### 60.Create a heat map on Readmission Registry table to find correlation between columns values."
   ]
  },
  {
   "cell_type": "code",
   "execution_count": 25,
   "metadata": {},
   "outputs": [
    {
     "name": "stdout",
     "output_type": "stream",
     "text": [
      "                           AdmissionID  PatientID  ExpectedLOS  \\\n",
      "AdmissionID                   1.000000   0.302079    -0.070080   \n",
      "PatientID                     0.302079   1.000000    -0.015485   \n",
      "ExpectedLOS                  -0.070080  -0.015485     1.000000   \n",
      "ExpectedMortality             0.034083   0.008014     0.220725   \n",
      "ReadmissionFlag                    NaN        NaN          NaN   \n",
      "DaysToReadmission             0.049632   0.001710     0.010294   \n",
      "EDVisitAfterDischargeFlag          NaN        NaN          NaN   \n",
      "\n",
      "                           ExpectedMortality  ReadmissionFlag  \\\n",
      "AdmissionID                         0.034083              NaN   \n",
      "PatientID                           0.008014              NaN   \n",
      "ExpectedLOS                         0.220725              NaN   \n",
      "ExpectedMortality                   1.000000              NaN   \n",
      "ReadmissionFlag                          NaN              NaN   \n",
      "DaysToReadmission                  -0.052563              NaN   \n",
      "EDVisitAfterDischargeFlag                NaN              NaN   \n",
      "\n",
      "                           DaysToReadmission  EDVisitAfterDischargeFlag  \n",
      "AdmissionID                         0.049632                        NaN  \n",
      "PatientID                           0.001710                        NaN  \n",
      "ExpectedLOS                         0.010294                        NaN  \n",
      "ExpectedMortality                  -0.052563                        NaN  \n",
      "ReadmissionFlag                          NaN                        NaN  \n",
      "DaysToReadmission                   1.000000                        NaN  \n",
      "EDVisitAfterDischargeFlag                NaN                        NaN  \n"
     ]
    }
   ],
   "source": [
    "#checking correlation\n",
    "corr=df_RE.corr()\n",
    "print(corr)"
   ]
  },
  {
   "cell_type": "code",
   "execution_count": 27,
   "metadata": {},
   "outputs": [
    {
     "data": {
      "image/png": "[encoded data removed]",
      "text/plain": [
       "<Figure size 864x144 with 2 Axes>"
      ]
     },
     "metadata": {
      "needs_background": "light"
     },
     "output_type": "display_data"
    }
   ],
   "source": [
    "# Create a correlation heatmap\n",
    "plt.figure(figsize=(12,2))\n",
    "heatmap = sns.heatmap(df_RE.corr(), vmin=-1, vmax=1, annot=True, cmap=\"magma\")\n",
    "heatmap.set_title('Correlation Heatmap', fontdict={'fontsize':10}, pad=12)\n",
    "\n",
    "plt.show()"
   ]
  },
  {
   "cell_type": "code",
   "execution_count": null,
   "metadata": {},
   "outputs": [],
   "source": []
  }
 ],
 "metadata": {
  "kernelspec": {
   "display_name": "Python 3",
   "language": "python",
   "name": "python3"
  },
  "language_info": {
   "codemirror_mode": {
    "name": "ipython",
    "version": 3
   },
   "file_extension": ".py",
   "mimetype": "text/x-python",
   "name": "python",
   "nbconvert_exporter": "python",
   "pygments_lexer": "ipython3",
   "version": "3.8.5"
  }
 },
 "nbformat": 4,
 "nbformat_minor": 4
}
