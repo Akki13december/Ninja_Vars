{
 "cells": [
  {
   "cell_type": "code",
   "execution_count": 17,
   "id": "cc936f94",
   "metadata": {},
   "outputs": [
    {
     "name": "stdout",
     "output_type": "stream",
     "text": [
      "Requirement already satisfied: pandasql in /Users/shanijeet/opt/anaconda3/lib/python3.9/site-packages (0.7.3)\n",
      "Requirement already satisfied: numpy in /Users/shanijeet/opt/anaconda3/lib/python3.9/site-packages (from pandasql) (1.23.5)\n",
      "Requirement already satisfied: pandas in /Users/shanijeet/opt/anaconda3/lib/python3.9/site-packages (from pandasql) (1.4.4)\n",
      "Requirement already satisfied: sqlalchemy in /Users/shanijeet/opt/anaconda3/lib/python3.9/site-packages (from pandasql) (1.4.39)\n",
      "Requirement already satisfied: python-dateutil>=2.8.1 in /Users/shanijeet/opt/anaconda3/lib/python3.9/site-packages (from pandas->pandasql) (2.8.2)\n",
      "Requirement already satisfied: pytz>=2020.1 in /Users/shanijeet/opt/anaconda3/lib/python3.9/site-packages (from pandas->pandasql) (2022.1)\n",
      "Requirement already satisfied: greenlet!=0.4.17 in /Users/shanijeet/opt/anaconda3/lib/python3.9/site-packages (from sqlalchemy->pandasql) (1.1.1)\n",
      "Requirement already satisfied: six>=1.5 in /Users/shanijeet/opt/anaconda3/lib/python3.9/site-packages (from python-dateutil>=2.8.1->pandas->pandasql) (1.16.0)\n",
      "Note: you may need to restart the kernel to use updated packages.\n"
     ]
    }
   ],
   "source": [
    "pip install pandasql"
   ]
  },
  {
   "cell_type": "markdown",
   "id": "499a0c22",
   "metadata": {},
   "source": [
    "## Importing Libraries"
   ]
  },
  {
   "cell_type": "code",
   "execution_count": 30,
   "id": "4165c37f",
   "metadata": {},
   "outputs": [],
   "source": [
    "import pandas as pd\n",
    "import seaborn as sns\n",
    "import matplotlib.pyplot as plt\n",
    "import numpy as np"
   ]
  },
  {
   "cell_type": "markdown",
   "id": "15e532ce",
   "metadata": {},
   "source": [
    "## Load Excel File"
   ]
  },
  {
   "cell_type": "code",
   "execution_count": 19,
   "id": "494bc3a3",
   "metadata": {},
   "outputs": [],
   "source": [
    "#Reading the Dataset\n",
    "xls = pd.ExcelFile(\"HospitalDatabase.xlsx\")\n",
    "\n",
    "#Reading the Patients sheet\n",
    "df_PA = pd.read_excel(xls, 'Patients')\n",
    "\n",
    "#Reading the EDVisits sheet\n",
    "df_EDV= pd.read_excel(xls, 'EDVisits')\n",
    "\n",
    "#Reading the AmbulatoryVisits sheet\n",
    "df_AV = pd.read_excel(xls, 'AmbulatoryVisits')\n",
    "\n",
    "#Reading the ReAdmissionRegistry \n",
    "df_RE = pd.read_excel(xls, 'ReAdmissionRegistry')\n",
    "\n",
    "#Reading the Discharges sheet\n",
    "df_D = pd.read_excel(xls, 'Discharges')\n",
    "\n",
    "#Reading the Providers sheet\n",
    "df_P = pd.read_excel(xls, 'Providers')\n",
    "\n",
    "#Reading the EDUnique sheet\n",
    "df_E = pd.read_excel(xls, 'EDUnique')"
   ]
  },
  {
   "cell_type": "markdown",
   "id": "c58960b6",
   "metadata": {},
   "source": [
    "## Question 1. Calculate the time spent in ED Department for each visit."
   ]
  },
  {
   "cell_type": "code",
   "execution_count": 20,
   "id": "a8ed6ac3",
   "metadata": {},
   "outputs": [
    {
     "data": {
      "text/html": [
       "<div>\n",
       "<style scoped>\n",
       "    .dataframe tbody tr th:only-of-type {\n",
       "        vertical-align: middle;\n",
       "    }\n",
       "\n",
       "    .dataframe tbody tr th {\n",
       "        vertical-align: top;\n",
       "    }\n",
       "\n",
       "    .dataframe thead th {\n",
       "        text-align: right;\n",
       "    }\n",
       "</style>\n",
       "<table border=\"1\" class=\"dataframe\">\n",
       "  <thead>\n",
       "    <tr style=\"text-align: right;\">\n",
       "      <th></th>\n",
       "      <th>PatientID</th>\n",
       "      <th>time spent</th>\n",
       "    </tr>\n",
       "  </thead>\n",
       "  <tbody>\n",
       "    <tr>\n",
       "      <th>0</th>\n",
       "      <td>1</td>\n",
       "      <td>0 days 11:20:22.924000</td>\n",
       "    </tr>\n",
       "    <tr>\n",
       "      <th>1</th>\n",
       "      <td>12</td>\n",
       "      <td>0 days 23:14:20.215000</td>\n",
       "    </tr>\n",
       "    <tr>\n",
       "      <th>2</th>\n",
       "      <td>13</td>\n",
       "      <td>0 days 01:50:56.151000</td>\n",
       "    </tr>\n",
       "    <tr>\n",
       "      <th>3</th>\n",
       "      <td>14</td>\n",
       "      <td>0 days 01:20:09.793000</td>\n",
       "    </tr>\n",
       "    <tr>\n",
       "      <th>4</th>\n",
       "      <td>15</td>\n",
       "      <td>0 days 02:38:20.043000</td>\n",
       "    </tr>\n",
       "    <tr>\n",
       "      <th>...</th>\n",
       "      <td>...</td>\n",
       "      <td>...</td>\n",
       "    </tr>\n",
       "    <tr>\n",
       "      <th>1194</th>\n",
       "      <td>929</td>\n",
       "      <td>0 days 15:53:09.453000</td>\n",
       "    </tr>\n",
       "    <tr>\n",
       "      <th>1195</th>\n",
       "      <td>932</td>\n",
       "      <td>0 days 22:27:04.030000</td>\n",
       "    </tr>\n",
       "    <tr>\n",
       "      <th>1196</th>\n",
       "      <td>933</td>\n",
       "      <td>0 days 04:30:03.545000</td>\n",
       "    </tr>\n",
       "    <tr>\n",
       "      <th>1197</th>\n",
       "      <td>934</td>\n",
       "      <td>0 days 06:10:35.054000</td>\n",
       "    </tr>\n",
       "    <tr>\n",
       "      <th>1198</th>\n",
       "      <td>935</td>\n",
       "      <td>0 days 10:49:26.581000</td>\n",
       "    </tr>\n",
       "  </tbody>\n",
       "</table>\n",
       "<p>1199 rows × 2 columns</p>\n",
       "</div>"
      ],
      "text/plain": [
       "      PatientID             time spent\n",
       "0             1 0 days 11:20:22.924000\n",
       "1            12 0 days 23:14:20.215000\n",
       "2            13 0 days 01:50:56.151000\n",
       "3            14 0 days 01:20:09.793000\n",
       "4            15 0 days 02:38:20.043000\n",
       "...         ...                    ...\n",
       "1194        929 0 days 15:53:09.453000\n",
       "1195        932 0 days 22:27:04.030000\n",
       "1196        933 0 days 04:30:03.545000\n",
       "1197        934 0 days 06:10:35.054000\n",
       "1198        935 0 days 10:49:26.581000\n",
       "\n",
       "[1199 rows x 2 columns]"
      ]
     },
     "execution_count": 20,
     "metadata": {},
     "output_type": "execute_result"
    }
   ],
   "source": [
    "df_EDV['time spent'] = df_EDV['EDDischargeTime'] - df_EDV['VisitDate']\n",
    "# Print the result\n",
    "df_EDV[['PatientID', 'time spent']]"
   ]
  },
  {
   "cell_type": "markdown",
   "id": "b83d9242",
   "metadata": {},
   "source": [
    "## Question 2. Get the  number of patients based on service and primary diagnosis."
   ]
  },
  {
   "cell_type": "code",
   "execution_count": 21,
   "id": "6cd44bf9",
   "metadata": {},
   "outputs": [
    {
     "name": "stdout",
     "output_type": "stream",
     "text": [
      "Service           PrimaryDiagnosis  \n",
      "Cardiology        AMI                   40\n",
      "                  Afib                  10\n",
      "                  Broken Leg             3\n",
      "                  Flu                    2\n",
      "                  Heart Failure         39\n",
      "                  Kidney Failure         1\n",
      "General Medicine  Broken Leg             3\n",
      "                  Diabetes              38\n",
      "                  Fever                 13\n",
      "                  Flu                   54\n",
      "                  Hypertension          35\n",
      "                  Kidney Failure        12\n",
      "                  Laceration            21\n",
      "                  Pneumonia             67\n",
      "                  Stroke                20\n",
      "Hospitalist       AMI                    1\n",
      "                  Broken Leg             3\n",
      "                  Diabetes              26\n",
      "                  Fever                  3\n",
      "                  Flu                   19\n",
      "                  Hypertension           6\n",
      "                  Kidney Failure         6\n",
      "                  Knee Replacement       1\n",
      "                  Laceration             7\n",
      "                  Pneumonia             28\n",
      "                  Stroke                 1\n",
      "ICU               AMI                    5\n",
      "                  Afib                   1\n",
      "                  Fever                  3\n",
      "                  Flu                    3\n",
      "                  Heart Failure         33\n",
      "                  Hypertension           4\n",
      "                  Kidney Failure         1\n",
      "                  Laceration             1\n",
      "                  Pneumonia             77\n",
      "                  Spinal Cord Injury     2\n",
      "                  Stroke                21\n",
      "Neurology         AMI                    2\n",
      "                  Flu                    2\n",
      "                  Heart Failure          6\n",
      "                  Hypertension           5\n",
      "                  Migraine              12\n",
      "                  Pain                   7\n",
      "                  Pneumonia              5\n",
      "                  Stroke                26\n",
      "Orthopeadics      Hip Fracture          23\n",
      "                  Knee Replacement      22\n",
      "Name: AdmissionID, dtype: int64\n"
     ]
    }
   ],
   "source": [
    "#Reading the ReAdmissionRegistry \n",
    "df_RE = pd.read_excel(xls, 'ReAdmissionRegistry')\n",
    "#checking the count of patients based on service and primary diagnosis\n",
    "dfs = df_RE.groupby(['Service','PrimaryDiagnosis'])['AdmissionID'].count()\n",
    "# to show\n",
    "print(dfs)"
   ]
  },
  {
   "cell_type": "markdown",
   "id": "c6d88c7d",
   "metadata": {},
   "source": [
    "## Question 3. Create a pair plot on whole dataframe by taking parameter \"hue\" as EDDisposition."
   ]
  },
  {
   "cell_type": "code",
   "execution_count": 22,
   "id": "3f191120",
   "metadata": {},
   "outputs": [
    {
     "data": {
      "image/png": "[encoded data removed]",
      "text/plain": [
       "<Figure size 882.375x750 with 12 Axes>"
      ]
     },
     "metadata": {},
     "output_type": "display_data"
    }
   ],
   "source": [
    "#Reading the EDVisits sheet\n",
    "df_EDV= pd.read_excel(xls, 'EDVisits')\n",
    "# creating a pairplot\n",
    "sns.pairplot(df_EDV, hue ='EDDisposition')\n",
    "# to show\n",
    "plt.show()"
   ]
  },
  {
   "cell_type": "markdown",
   "id": "d955d4f2",
   "metadata": {},
   "source": [
    "## Question 4. Connect to sql and write a query to get list of Provider names whose Providername is starting with letter T.  (Attach screenshots for this question)"
   ]
  },
  {
   "cell_type": "code",
   "execution_count": 24,
   "id": "8be11efc",
   "metadata": {},
   "outputs": [
    {
     "data": {
      "text/html": [
       "<div>\n",
       "<style scoped>\n",
       "    .dataframe tbody tr th:only-of-type {\n",
       "        vertical-align: middle;\n",
       "    }\n",
       "\n",
       "    .dataframe tbody tr th {\n",
       "        vertical-align: top;\n",
       "    }\n",
       "\n",
       "    .dataframe thead th {\n",
       "        text-align: right;\n",
       "    }\n",
       "</style>\n",
       "<table border=\"1\" class=\"dataframe\">\n",
       "  <thead>\n",
       "    <tr style=\"text-align: right;\">\n",
       "      <th></th>\n",
       "      <th>ProviderName</th>\n",
       "    </tr>\n",
       "  </thead>\n",
       "  <tbody>\n",
       "    <tr>\n",
       "      <th>0</th>\n",
       "      <td>Ted Texas</td>\n",
       "    </tr>\n",
       "    <tr>\n",
       "      <th>1</th>\n",
       "      <td>Ted Green</td>\n",
       "    </tr>\n",
       "    <tr>\n",
       "      <th>2</th>\n",
       "      <td>Ted Black</td>\n",
       "    </tr>\n",
       "    <tr>\n",
       "      <th>3</th>\n",
       "      <td>Tyler Conner</td>\n",
       "    </tr>\n",
       "    <tr>\n",
       "      <th>4</th>\n",
       "      <td>Tony Creed</td>\n",
       "    </tr>\n",
       "    <tr>\n",
       "      <th>5</th>\n",
       "      <td>Trent Tye</td>\n",
       "    </tr>\n",
       "  </tbody>\n",
       "</table>\n",
       "</div>"
      ],
      "text/plain": [
       "   ProviderName\n",
       "0     Ted Texas\n",
       "1     Ted Green\n",
       "2     Ted Black\n",
       "3  Tyler Conner\n",
       "4    Tony Creed\n",
       "5     Trent Tye"
      ]
     },
     "execution_count": 24,
     "metadata": {},
     "output_type": "execute_result"
    }
   ],
   "source": [
    "from pandasql import sqldf \n",
    "import pandasql as ps\n",
    "mysql = lambda q: sqldf(q, globals() )\n",
    "df_Tnames  = ps.sqldf(\"select ProviderName from df_P where ProviderName like 'T%'\")\n",
    "df_Tnames"
   ]
  },
  {
   "cell_type": "markdown",
   "id": "4aa01001",
   "metadata": {},
   "source": [
    "## Question 5. Create a bar chart between expectedLOS & Primary diagnosis."
   ]
  },
  {
   "cell_type": "code",
   "execution_count": 7,
   "id": "c082c84b",
   "metadata": {},
   "outputs": [
    {
     "data": {
      "image/png": "[encoded data removed]",
      "text/plain": [
       "<Figure size 640x480 with 1 Axes>"
      ]
     },
     "metadata": {},
     "output_type": "display_data"
    }
   ],
   "source": [
    "#Reading the ReAdmissionRegistry \n",
    "df_RE = pd.read_excel(xls, 'ReAdmissionRegistry')\n",
    "# creating bar chart\n",
    "sns.barplot(x = 'ExpectedLOS',y = 'PrimaryDiagnosis',data = df_RE)\n",
    "# to show\n",
    "plt.show()"
   ]
  },
  {
   "cell_type": "markdown",
   "id": "312fd99e",
   "metadata": {},
   "source": [
    "## Question 6. Find the last name of the patients, by getting the first name from the user."
   ]
  },
  {
   "cell_type": "code",
   "execution_count": 8,
   "id": "53f5f6f9",
   "metadata": {},
   "outputs": [
    {
     "name": "stdout",
     "output_type": "stream",
     "text": [
      "What is your first name?\n",
      "Ted\n"
     ]
    },
    {
     "data": {
      "text/plain": [
       "['Scott', 'Stanley', 'Hue']"
      ]
     },
     "execution_count": 8,
     "metadata": {},
     "output_type": "execute_result"
    }
   ],
   "source": [
    "#Reading the Patients sheet\n",
    "df_PA = pd.read_excel(xls, 'Patients')\n",
    "# taking the name of the patients as input\n",
    "firstName = input('What is your first name?\\n')\n",
    "# to find the last names from the given first name\n",
    "df_PA[df_PA.FirstName == firstName]['LastName'].tolist()"
   ]
  },
  {
   "cell_type": "markdown",
   "id": "1b098aa9",
   "metadata": {},
   "source": [
    "## Question 7. Find the list of patients whose ExpectedLOS is greater than the value given by the user."
   ]
  },
  {
   "cell_type": "code",
   "execution_count": 68,
   "id": "33e4138c",
   "metadata": {},
   "outputs": [
    {
     "name": "stdout",
     "output_type": "stream",
     "text": [
      "Enter Expected LOS: 10\n",
      "List Of Patients whose ExpectedLOS is greater than 10.0 day(s) is  : 291\n"
     ]
    }
   ],
   "source": [
    "#Reading the Discharges sheet\n",
    "df_D = pd.read_excel(xls, 'Discharges')\n",
    "\n",
    "#Validating the correct input fron user\n",
    "while True:\n",
    "    val = input(\"Enter Expected LOS: \")\n",
    "    try:\n",
    "        val = float(val)\n",
    "    except:\n",
    "        print('Please use the valid numeric numbers.')\n",
    "        continue\n",
    "    if val < 0:\n",
    "        print('Please enter a positive number.')\n",
    "        continue\n",
    "    break\n",
    "\n",
    "\n",
    "temp_df = df_D.loc[(df_D['ExpectedLOS']> float(val))] \n",
    "# printing the output\n",
    "print(\"%s%s\" % ('List Of Patients whose ExpectedLOS is greater than ' +str(val)+' day(s) is  : ',  len(temp_df.index)))"
   ]
  },
  {
   "cell_type": "markdown",
   "id": "0af1abc1",
   "metadata": {},
   "source": [
    "## Question 8. Using Sunburst chart display the providers name by thier provider speciality, considering thier experience."
   ]
  },
  {
   "cell_type": "code",
   "execution_count": 72,
   "id": "7f760417",
   "metadata": {},
   "outputs": [
    {
     "data": {
      "application/vnd.plotly.v1+json": {
       "config": {
        "plotlyServerURL": "https://plot.ly"
       },
       "data": [
        {
         "branchvalues": "total",
         "domain": {
          "x": [
           0,
           1
          ],
          "y": [
           0,
           1
          ]
         },
         "hovertemplate": "labels=%{label}<br>ProviderID=%{value}<br>parent=%{parent}<br>id=%{id}<extra></extra>",
         "ids": [
          "PrimaryCare/Rosie Renter/3504",
          "PrimaryCare/Harry West/3563",
          "PrimaryCare/Kimberly Cone/3615",
          "PrimaryCare/Trent Tye/3746",
          "PrimaryCare/Holly Hue/3948",
          "PrimaryCare/Phyllis Stanley/4364",
          "PrimaryCare/Tony Creed/4736",
          "PrimaryCare/Pamela Ding/4903",
          "PrimaryCare/Michael Halpert/4974",
          "PrimaryCare/Dwight Scott/5111",
          "PrimaryCare/Joesph Ross/5272",
          "PrimaryCare/Chandler Bing/5608",
          "PrimaryCare/Brenda Bing/5628",
          "PrimaryCare/Bridget Brenda/5769",
          "PrimaryCare/Mike Joseph/5952",
          "PrimaryCare/Justin Time/6143",
          "Cardiology/Luke Long/6197",
          "Cardiology/Walter King/6244",
          "Cardiology/Joesph Walter/6645",
          "Cardiology/Megan Bonco/6998",
          "Cardiology/Bailey Barret/7179",
          "Cardiology/Tyler Conner/7221",
          "Cardiology/Ryan Kevin/7397",
          "Cardiology/Kent Kendall/7785",
          "Surgery/Perry Pardon/8097",
          "Surgery/Christian Saint/8267",
          "Surgery/Dave Yu/8695",
          "Surgery/Abigail Marriot/8925",
          "Surgery/Sarah Ab/9007",
          "Surgery/Kim Kimberly/9107",
          "Surgery/Fred Man/9161",
          "Pediatrics/Ted Black/9551",
          "Pediatrics/Ted Green/9817",
          "Pediatrics/Barry Bar/10008",
          "Pediatrics/Harry Kane/10131",
          "Pediatrics/Ala Bama/10323",
          "Pediatrics/Ted Texas/10706",
          "Pediatrics/Jordan Michael/10888",
          "Pediatrics/Mike Myers/10941",
          "Pediatrics/Sally Sue/11062",
          "Surgery/Abigail Marriot",
          "Pediatrics/Ala Bama",
          "Cardiology/Bailey Barret",
          "Pediatrics/Barry Bar",
          "PrimaryCare/Brenda Bing",
          "PrimaryCare/Bridget Brenda",
          "PrimaryCare/Chandler Bing",
          "Surgery/Christian Saint",
          "Surgery/Dave Yu",
          "PrimaryCare/Dwight Scott",
          "Surgery/Fred Man",
          "Pediatrics/Harry Kane",
          "PrimaryCare/Harry West",
          "PrimaryCare/Holly Hue",
          "PrimaryCare/Joesph Ross",
          "Cardiology/Joesph Walter",
          "Pediatrics/Jordan Michael",
          "PrimaryCare/Justin Time",
          "Cardiology/Kent Kendall",
          "Surgery/Kim Kimberly",
          "PrimaryCare/Kimberly Cone",
          "Cardiology/Luke Long",
          "Cardiology/Megan Bonco",
          "PrimaryCare/Michael Halpert",
          "PrimaryCare/Mike Joseph",
          "Pediatrics/Mike Myers",
          "PrimaryCare/Pamela Ding",
          "Surgery/Perry Pardon",
          "PrimaryCare/Phyllis Stanley",
          "PrimaryCare/Rosie Renter",
          "Cardiology/Ryan Kevin",
          "Pediatrics/Sally Sue",
          "Surgery/Sarah Ab",
          "Pediatrics/Ted Black",
          "Pediatrics/Ted Green",
          "Pediatrics/Ted Texas",
          "PrimaryCare/Tony Creed",
          "PrimaryCare/Trent Tye",
          "Cardiology/Tyler Conner",
          "Cardiology/Walter King",
          "Cardiology",
          "Pediatrics",
          "PrimaryCare",
          "Surgery"
         ],
         "labels": [
          "3504",
          "3563",
          "3615",
          "3746",
          "3948",
          "4364",
          "4736",
          "4903",
          "4974",
          "5111",
          "5272",
          "5608",
          "5628",
          "5769",
          "5952",
          "6143",
          "6197",
          "6244",
          "6645",
          "6998",
          "7179",
          "7221",
          "7397",
          "7785",
          "8097",
          "8267",
          "8695",
          "8925",
          "9007",
          "9107",
          "9161",
          "9551",
          "9817",
          "10008",
          "10131",
          "10323",
          "10706",
          "10888",
          "10941",
          "11062",
          "Abigail Marriot",
          "Ala Bama",
          "Bailey Barret",
          "Barry Bar",
          "Brenda Bing",
          "Bridget Brenda",
          "Chandler Bing",
          "Christian Saint",
          "Dave Yu",
          "Dwight Scott",
          "Fred Man",
          "Harry Kane",
          "Harry West",
          "Holly Hue",
          "Joesph Ross",
          "Joesph Walter",
          "Jordan Michael",
          "Justin Time",
          "Kent Kendall",
          "Kim Kimberly",
          "Kimberly Cone",
          "Luke Long",
          "Megan Bonco",
          "Michael Halpert",
          "Mike Joseph",
          "Mike Myers",
          "Pamela Ding",
          "Perry Pardon",
          "Phyllis Stanley",
          "Rosie Renter",
          "Ryan Kevin",
          "Sally Sue",
          "Sarah Ab",
          "Ted Black",
          "Ted Green",
          "Ted Texas",
          "Tony Creed",
          "Trent Tye",
          "Tyler Conner",
          "Walter King",
          "Cardiology",
          "Pediatrics",
          "PrimaryCare",
          "Surgery"
         ],
         "name": "",
         "parents": [
          "PrimaryCare/Rosie Renter",
          "PrimaryCare/Harry West",
          "PrimaryCare/Kimberly Cone",
          "PrimaryCare/Trent Tye",
          "PrimaryCare/Holly Hue",
          "PrimaryCare/Phyllis Stanley",
          "PrimaryCare/Tony Creed",
          "PrimaryCare/Pamela Ding",
          "PrimaryCare/Michael Halpert",
          "PrimaryCare/Dwight Scott",
          "PrimaryCare/Joesph Ross",
          "PrimaryCare/Chandler Bing",
          "PrimaryCare/Brenda Bing",
          "PrimaryCare/Bridget Brenda",
          "PrimaryCare/Mike Joseph",
          "PrimaryCare/Justin Time",
          "Cardiology/Luke Long",
          "Cardiology/Walter King",
          "Cardiology/Joesph Walter",
          "Cardiology/Megan Bonco",
          "Cardiology/Bailey Barret",
          "Cardiology/Tyler Conner",
          "Cardiology/Ryan Kevin",
          "Cardiology/Kent Kendall",
          "Surgery/Perry Pardon",
          "Surgery/Christian Saint",
          "Surgery/Dave Yu",
          "Surgery/Abigail Marriot",
          "Surgery/Sarah Ab",
          "Surgery/Kim Kimberly",
          "Surgery/Fred Man",
          "Pediatrics/Ted Black",
          "Pediatrics/Ted Green",
          "Pediatrics/Barry Bar",
          "Pediatrics/Harry Kane",
          "Pediatrics/Ala Bama",
          "Pediatrics/Ted Texas",
          "Pediatrics/Jordan Michael",
          "Pediatrics/Mike Myers",
          "Pediatrics/Sally Sue",
          "Surgery",
          "Pediatrics",
          "Cardiology",
          "Pediatrics",
          "PrimaryCare",
          "PrimaryCare",
          "PrimaryCare",
          "Surgery",
          "Surgery",
          "PrimaryCare",
          "Surgery",
          "Pediatrics",
          "PrimaryCare",
          "PrimaryCare",
          "PrimaryCare",
          "Cardiology",
          "Pediatrics",
          "PrimaryCare",
          "Cardiology",
          "Surgery",
          "PrimaryCare",
          "Cardiology",
          "Cardiology",
          "PrimaryCare",
          "PrimaryCare",
          "Pediatrics",
          "PrimaryCare",
          "Surgery",
          "PrimaryCare",
          "PrimaryCare",
          "Cardiology",
          "Pediatrics",
          "Surgery",
          "Pediatrics",
          "Pediatrics",
          "Pediatrics",
          "PrimaryCare",
          "PrimaryCare",
          "Cardiology",
          "Cardiology",
          "",
          "",
          "",
          ""
         ],
         "type": "sunburst",
         "values": [
          40,
          39,
          38,
          37,
          36,
          35,
          34,
          33,
          32,
          31,
          30,
          29,
          28,
          27,
          26,
          25,
          24,
          23,
          22,
          21,
          20,
          19,
          18,
          17,
          16,
          15,
          14,
          13,
          12,
          11,
          10,
          9,
          8,
          7,
          6,
          5,
          4,
          3,
          2,
          1,
          13,
          5,
          20,
          7,
          28,
          27,
          29,
          15,
          14,
          31,
          10,
          6,
          39,
          36,
          30,
          22,
          3,
          25,
          17,
          11,
          38,
          24,
          21,
          32,
          26,
          2,
          33,
          16,
          35,
          40,
          18,
          1,
          12,
          9,
          8,
          4,
          34,
          37,
          19,
          23,
          164,
          45,
          520,
          91
         ]
        }
       ],
       "layout": {
        "legend": {
         "tracegroupgap": 0
        },
        "margin": {
         "t": 60
        },
        "template": {
         "data": {
          "bar": [
           {
            "error_x": {
             "color": "#2a3f5f"
            },
            "error_y": {
             "color": "#2a3f5f"
            },
            "marker": {
             "line": {
              "color": "#E5ECF6",
              "width": 0.5
             },
             "pattern": {
              "fillmode": "overlay",
              "size": 10,
              "solidity": 0.2
             }
            },
            "type": "bar"
           }
          ],
          "barpolar": [
           {
            "marker": {
             "line": {
              "color": "#E5ECF6",
              "width": 0.5
             },
             "pattern": {
              "fillmode": "overlay",
              "size": 10,
              "solidity": 0.2
             }
            },
            "type": "barpolar"
           }
          ],
          "carpet": [
           {
            "aaxis": {
             "endlinecolor": "#2a3f5f",
             "gridcolor": "white",
             "linecolor": "white",
             "minorgridcolor": "white",
             "startlinecolor": "#2a3f5f"
            },
            "baxis": {
             "endlinecolor": "#2a3f5f",
             "gridcolor": "white",
             "linecolor": "white",
             "minorgridcolor": "white",
             "startlinecolor": "#2a3f5f"
            },
            "type": "carpet"
           }
          ],
          "choropleth": [
           {
            "colorbar": {
             "outlinewidth": 0,
             "ticks": ""
            },
            "type": "choropleth"
           }
          ],
          "contour": [
           {
            "colorbar": {
             "outlinewidth": 0,
             "ticks": ""
            },
            "colorscale": [
             [
              0,
              "#0d0887"
             ],
             [
              0.1111111111111111,
              "#46039f"
             ],
             [
              0.2222222222222222,
              "#7201a8"
             ],
             [
              0.3333333333333333,
              "#9c179e"
             ],
             [
              0.4444444444444444,
              "#bd3786"
             ],
             [
              0.5555555555555556,
              "#d8576b"
             ],
             [
              0.6666666666666666,
              "#ed7953"
             ],
             [
              0.7777777777777778,
              "#fb9f3a"
             ],
             [
              0.8888888888888888,
              "#fdca26"
             ],
             [
              1,
              "#f0f921"
             ]
            ],
            "type": "contour"
           }
          ],
          "contourcarpet": [
           {
            "colorbar": {
             "outlinewidth": 0,
             "ticks": ""
            },
            "type": "contourcarpet"
           }
          ],
          "heatmap": [
           {
            "colorbar": {
             "outlinewidth": 0,
             "ticks": ""
            },
            "colorscale": [
             [
              0,
              "#0d0887"
             ],
             [
              0.1111111111111111,
              "#46039f"
             ],
             [
              0.2222222222222222,
              "#7201a8"
             ],
             [
              0.3333333333333333,
              "#9c179e"
             ],
             [
              0.4444444444444444,
              "#bd3786"
             ],
             [
              0.5555555555555556,
              "#d8576b"
             ],
             [
              0.6666666666666666,
              "#ed7953"
             ],
             [
              0.7777777777777778,
              "#fb9f3a"
             ],
             [
              0.8888888888888888,
              "#fdca26"
             ],
             [
              1,
              "#f0f921"
             ]
            ],
            "type": "heatmap"
           }
          ],
          "heatmapgl": [
           {
            "colorbar": {
             "outlinewidth": 0,
             "ticks": ""
            },
            "colorscale": [
             [
              0,
              "#0d0887"
             ],
             [
              0.1111111111111111,
              "#46039f"
             ],
             [
              0.2222222222222222,
              "#7201a8"
             ],
             [
              0.3333333333333333,
              "#9c179e"
             ],
             [
              0.4444444444444444,
              "#bd3786"
             ],
             [
              0.5555555555555556,
              "#d8576b"
             ],
             [
              0.6666666666666666,
              "#ed7953"
             ],
             [
              0.7777777777777778,
              "#fb9f3a"
             ],
             [
              0.8888888888888888,
              "#fdca26"
             ],
             [
              1,
              "#f0f921"
             ]
            ],
            "type": "heatmapgl"
           }
          ],
          "histogram": [
           {
            "marker": {
             "pattern": {
              "fillmode": "overlay",
              "size": 10,
              "solidity": 0.2
             }
            },
            "type": "histogram"
           }
          ],
          "histogram2d": [
           {
            "colorbar": {
             "outlinewidth": 0,
             "ticks": ""
            },
            "colorscale": [
             [
              0,
              "#0d0887"
             ],
             [
              0.1111111111111111,
              "#46039f"
             ],
             [
              0.2222222222222222,
              "#7201a8"
             ],
             [
              0.3333333333333333,
              "#9c179e"
             ],
             [
              0.4444444444444444,
              "#bd3786"
             ],
             [
              0.5555555555555556,
              "#d8576b"
             ],
             [
              0.6666666666666666,
              "#ed7953"
             ],
             [
              0.7777777777777778,
              "#fb9f3a"
             ],
             [
              0.8888888888888888,
              "#fdca26"
             ],
             [
              1,
              "#f0f921"
             ]
            ],
            "type": "histogram2d"
           }
          ],
          "histogram2dcontour": [
           {
            "colorbar": {
             "outlinewidth": 0,
             "ticks": ""
            },
            "colorscale": [
             [
              0,
              "#0d0887"
             ],
             [
              0.1111111111111111,
              "#46039f"
             ],
             [
              0.2222222222222222,
              "#7201a8"
             ],
             [
              0.3333333333333333,
              "#9c179e"
             ],
             [
              0.4444444444444444,
              "#bd3786"
             ],
             [
              0.5555555555555556,
              "#d8576b"
             ],
             [
              0.6666666666666666,
              "#ed7953"
             ],
             [
              0.7777777777777778,
              "#fb9f3a"
             ],
             [
              0.8888888888888888,
              "#fdca26"
             ],
             [
              1,
              "#f0f921"
             ]
            ],
            "type": "histogram2dcontour"
           }
          ],
          "mesh3d": [
           {
            "colorbar": {
             "outlinewidth": 0,
             "ticks": ""
            },
            "type": "mesh3d"
           }
          ],
          "parcoords": [
           {
            "line": {
             "colorbar": {
              "outlinewidth": 0,
              "ticks": ""
             }
            },
            "type": "parcoords"
           }
          ],
          "pie": [
           {
            "automargin": true,
            "type": "pie"
           }
          ],
          "scatter": [
           {
            "fillpattern": {
             "fillmode": "overlay",
             "size": 10,
             "solidity": 0.2
            },
            "type": "scatter"
           }
          ],
          "scatter3d": [
           {
            "line": {
             "colorbar": {
              "outlinewidth": 0,
              "ticks": ""
             }
            },
            "marker": {
             "colorbar": {
              "outlinewidth": 0,
              "ticks": ""
             }
            },
            "type": "scatter3d"
           }
          ],
          "scattercarpet": [
           {
            "marker": {
             "colorbar": {
              "outlinewidth": 0,
              "ticks": ""
             }
            },
            "type": "scattercarpet"
           }
          ],
          "scattergeo": [
           {
            "marker": {
             "colorbar": {
              "outlinewidth": 0,
              "ticks": ""
             }
            },
            "type": "scattergeo"
           }
          ],
          "scattergl": [
           {
            "marker": {
             "colorbar": {
              "outlinewidth": 0,
              "ticks": ""
             }
            },
            "type": "scattergl"
           }
          ],
          "scattermapbox": [
           {
            "marker": {
             "colorbar": {
              "outlinewidth": 0,
              "ticks": ""
             }
            },
            "type": "scattermapbox"
           }
          ],
          "scatterpolar": [
           {
            "marker": {
             "colorbar": {
              "outlinewidth": 0,
              "ticks": ""
             }
            },
            "type": "scatterpolar"
           }
          ],
          "scatterpolargl": [
           {
            "marker": {
             "colorbar": {
              "outlinewidth": 0,
              "ticks": ""
             }
            },
            "type": "scatterpolargl"
           }
          ],
          "scatterternary": [
           {
            "marker": {
             "colorbar": {
              "outlinewidth": 0,
              "ticks": ""
             }
            },
            "type": "scatterternary"
           }
          ],
          "surface": [
           {
            "colorbar": {
             "outlinewidth": 0,
             "ticks": ""
            },
            "colorscale": [
             [
              0,
              "#0d0887"
             ],
             [
              0.1111111111111111,
              "#46039f"
             ],
             [
              0.2222222222222222,
              "#7201a8"
             ],
             [
              0.3333333333333333,
              "#9c179e"
             ],
             [
              0.4444444444444444,
              "#bd3786"
             ],
             [
              0.5555555555555556,
              "#d8576b"
             ],
             [
              0.6666666666666666,
              "#ed7953"
             ],
             [
              0.7777777777777778,
              "#fb9f3a"
             ],
             [
              0.8888888888888888,
              "#fdca26"
             ],
             [
              1,
              "#f0f921"
             ]
            ],
            "type": "surface"
           }
          ],
          "table": [
           {
            "cells": {
             "fill": {
              "color": "#EBF0F8"
             },
             "line": {
              "color": "white"
             }
            },
            "header": {
             "fill": {
              "color": "#C8D4E3"
             },
             "line": {
              "color": "white"
             }
            },
            "type": "table"
           }
          ]
         },
         "layout": {
          "annotationdefaults": {
           "arrowcolor": "#2a3f5f",
           "arrowhead": 0,
           "arrowwidth": 1
          },
          "autotypenumbers": "strict",
          "coloraxis": {
           "colorbar": {
            "outlinewidth": 0,
            "ticks": ""
           }
          },
          "colorscale": {
           "diverging": [
            [
             0,
             "#8e0152"
            ],
            [
             0.1,
             "#c51b7d"
            ],
            [
             0.2,
             "#de77ae"
            ],
            [
             0.3,
             "#f1b6da"
            ],
            [
             0.4,
             "#fde0ef"
            ],
            [
             0.5,
             "#f7f7f7"
            ],
            [
             0.6,
             "#e6f5d0"
            ],
            [
             0.7,
             "#b8e186"
            ],
            [
             0.8,
             "#7fbc41"
            ],
            [
             0.9,
             "#4d9221"
            ],
            [
             1,
             "#276419"
            ]
           ],
           "sequential": [
            [
             0,
             "#0d0887"
            ],
            [
             0.1111111111111111,
             "#46039f"
            ],
            [
             0.2222222222222222,
             "#7201a8"
            ],
            [
             0.3333333333333333,
             "#9c179e"
            ],
            [
             0.4444444444444444,
             "#bd3786"
            ],
            [
             0.5555555555555556,
             "#d8576b"
            ],
            [
             0.6666666666666666,
             "#ed7953"
            ],
            [
             0.7777777777777778,
             "#fb9f3a"
            ],
            [
             0.8888888888888888,
             "#fdca26"
            ],
            [
             1,
             "#f0f921"
            ]
           ],
           "sequentialminus": [
            [
             0,
             "#0d0887"
            ],
            [
             0.1111111111111111,
             "#46039f"
            ],
            [
             0.2222222222222222,
             "#7201a8"
            ],
            [
             0.3333333333333333,
             "#9c179e"
            ],
            [
             0.4444444444444444,
             "#bd3786"
            ],
            [
             0.5555555555555556,
             "#d8576b"
            ],
            [
             0.6666666666666666,
             "#ed7953"
            ],
            [
             0.7777777777777778,
             "#fb9f3a"
            ],
            [
             0.8888888888888888,
             "#fdca26"
            ],
            [
             1,
             "#f0f921"
            ]
           ]
          },
          "colorway": [
           "#636efa",
           "#EF553B",
           "#00cc96",
           "#ab63fa",
           "#FFA15A",
           "#19d3f3",
           "#FF6692",
           "#B6E880",
           "#FF97FF",
           "#FECB52"
          ],
          "font": {
           "color": "#2a3f5f"
          },
          "geo": {
           "bgcolor": "white",
           "lakecolor": "white",
           "landcolor": "#E5ECF6",
           "showlakes": true,
           "showland": true,
           "subunitcolor": "white"
          },
          "hoverlabel": {
           "align": "left"
          },
          "hovermode": "closest",
          "mapbox": {
           "style": "light"
          },
          "paper_bgcolor": "white",
          "plot_bgcolor": "#E5ECF6",
          "polar": {
           "angularaxis": {
            "gridcolor": "white",
            "linecolor": "white",
            "ticks": ""
           },
           "bgcolor": "#E5ECF6",
           "radialaxis": {
            "gridcolor": "white",
            "linecolor": "white",
            "ticks": ""
           }
          },
          "scene": {
           "xaxis": {
            "backgroundcolor": "#E5ECF6",
            "gridcolor": "white",
            "gridwidth": 2,
            "linecolor": "white",
            "showbackground": true,
            "ticks": "",
            "zerolinecolor": "white"
           },
           "yaxis": {
            "backgroundcolor": "#E5ECF6",
            "gridcolor": "white",
            "gridwidth": 2,
            "linecolor": "white",
            "showbackground": true,
            "ticks": "",
            "zerolinecolor": "white"
           },
           "zaxis": {
            "backgroundcolor": "#E5ECF6",
            "gridcolor": "white",
            "gridwidth": 2,
            "linecolor": "white",
            "showbackground": true,
            "ticks": "",
            "zerolinecolor": "white"
           }
          },
          "shapedefaults": {
           "line": {
            "color": "#2a3f5f"
           }
          },
          "ternary": {
           "aaxis": {
            "gridcolor": "white",
            "linecolor": "white",
            "ticks": ""
           },
           "baxis": {
            "gridcolor": "white",
            "linecolor": "white",
            "ticks": ""
           },
           "bgcolor": "#E5ECF6",
           "caxis": {
            "gridcolor": "white",
            "linecolor": "white",
            "ticks": ""
           }
          },
          "title": {
           "x": 0.05
          },
          "xaxis": {
           "automargin": true,
           "gridcolor": "white",
           "linecolor": "white",
           "ticks": "",
           "title": {
            "standoff": 15
           },
           "zerolinecolor": "white",
           "zerolinewidth": 2
          },
          "yaxis": {
           "automargin": true,
           "gridcolor": "white",
           "linecolor": "white",
           "ticks": "",
           "title": {
            "standoff": 15
           },
           "zerolinecolor": "white",
           "zerolinewidth": 2
          }
         }
        }
       }
      },
      "text/html": [
       "<div>                            <div id=\"dc7f1c29-7161-42d9-bc4e-d82f0fc5d156\" class=\"plotly-graph-div\" style=\"height:525px; width:100%;\"></div>            <script type=\"text/javascript\">                require([\"plotly\"], function(Plotly) {                    window.PLOTLYENV=window.PLOTLYENV || {};                                    if (document.getElementById(\"dc7f1c29-7161-42d9-bc4e-d82f0fc5d156\")) {                    Plotly.newPlot(                        \"dc7f1c29-7161-42d9-bc4e-d82f0fc5d156\",                        [{\"branchvalues\":\"total\",\"domain\":{\"x\":[0.0,1.0],\"y\":[0.0,1.0]},\"hovertemplate\":\"labels=%{label}<br>ProviderID=%{value}<br>parent=%{parent}<br>id=%{id}<extra></extra>\",\"ids\":[\"PrimaryCare/Rosie Renter/3504\",\"PrimaryCare/Harry West/3563\",\"PrimaryCare/Kimberly Cone/3615\",\"PrimaryCare/Trent Tye/3746\",\"PrimaryCare/Holly Hue/3948\",\"PrimaryCare/Phyllis Stanley/4364\",\"PrimaryCare/Tony Creed/4736\",\"PrimaryCare/Pamela Ding/4903\",\"PrimaryCare/Michael Halpert/4974\",\"PrimaryCare/Dwight Scott/5111\",\"PrimaryCare/Joesph Ross/5272\",\"PrimaryCare/Chandler Bing/5608\",\"PrimaryCare/Brenda Bing/5628\",\"PrimaryCare/Bridget Brenda/5769\",\"PrimaryCare/Mike Joseph/5952\",\"PrimaryCare/Justin Time/6143\",\"Cardiology/Luke Long/6197\",\"Cardiology/Walter King/6244\",\"Cardiology/Joesph Walter/6645\",\"Cardiology/Megan Bonco/6998\",\"Cardiology/Bailey Barret/7179\",\"Cardiology/Tyler Conner/7221\",\"Cardiology/Ryan Kevin/7397\",\"Cardiology/Kent Kendall/7785\",\"Surgery/Perry Pardon/8097\",\"Surgery/Christian Saint/8267\",\"Surgery/Dave Yu/8695\",\"Surgery/Abigail Marriot/8925\",\"Surgery/Sarah Ab/9007\",\"Surgery/Kim Kimberly/9107\",\"Surgery/Fred Man/9161\",\"Pediatrics/Ted Black/9551\",\"Pediatrics/Ted Green/9817\",\"Pediatrics/Barry Bar/10008\",\"Pediatrics/Harry Kane/10131\",\"Pediatrics/Ala Bama/10323\",\"Pediatrics/Ted Texas/10706\",\"Pediatrics/Jordan Michael/10888\",\"Pediatrics/Mike Myers/10941\",\"Pediatrics/Sally Sue/11062\",\"Surgery/Abigail Marriot\",\"Pediatrics/Ala Bama\",\"Cardiology/Bailey Barret\",\"Pediatrics/Barry Bar\",\"PrimaryCare/Brenda Bing\",\"PrimaryCare/Bridget Brenda\",\"PrimaryCare/Chandler Bing\",\"Surgery/Christian Saint\",\"Surgery/Dave Yu\",\"PrimaryCare/Dwight Scott\",\"Surgery/Fred Man\",\"Pediatrics/Harry Kane\",\"PrimaryCare/Harry West\",\"PrimaryCare/Holly Hue\",\"PrimaryCare/Joesph Ross\",\"Cardiology/Joesph Walter\",\"Pediatrics/Jordan Michael\",\"PrimaryCare/Justin Time\",\"Cardiology/Kent Kendall\",\"Surgery/Kim Kimberly\",\"PrimaryCare/Kimberly Cone\",\"Cardiology/Luke Long\",\"Cardiology/Megan Bonco\",\"PrimaryCare/Michael Halpert\",\"PrimaryCare/Mike Joseph\",\"Pediatrics/Mike Myers\",\"PrimaryCare/Pamela Ding\",\"Surgery/Perry Pardon\",\"PrimaryCare/Phyllis Stanley\",\"PrimaryCare/Rosie Renter\",\"Cardiology/Ryan Kevin\",\"Pediatrics/Sally Sue\",\"Surgery/Sarah Ab\",\"Pediatrics/Ted Black\",\"Pediatrics/Ted Green\",\"Pediatrics/Ted Texas\",\"PrimaryCare/Tony Creed\",\"PrimaryCare/Trent Tye\",\"Cardiology/Tyler Conner\",\"Cardiology/Walter King\",\"Cardiology\",\"Pediatrics\",\"PrimaryCare\",\"Surgery\"],\"labels\":[\"3504\",\"3563\",\"3615\",\"3746\",\"3948\",\"4364\",\"4736\",\"4903\",\"4974\",\"5111\",\"5272\",\"5608\",\"5628\",\"5769\",\"5952\",\"6143\",\"6197\",\"6244\",\"6645\",\"6998\",\"7179\",\"7221\",\"7397\",\"7785\",\"8097\",\"8267\",\"8695\",\"8925\",\"9007\",\"9107\",\"9161\",\"9551\",\"9817\",\"10008\",\"10131\",\"10323\",\"10706\",\"10888\",\"10941\",\"11062\",\"Abigail Marriot\",\"Ala Bama\",\"Bailey Barret\",\"Barry Bar\",\"Brenda Bing\",\"Bridget Brenda\",\"Chandler Bing\",\"Christian Saint\",\"Dave Yu\",\"Dwight Scott\",\"Fred Man\",\"Harry Kane\",\"Harry West\",\"Holly Hue\",\"Joesph Ross\",\"Joesph Walter\",\"Jordan Michael\",\"Justin Time\",\"Kent Kendall\",\"Kim Kimberly\",\"Kimberly Cone\",\"Luke Long\",\"Megan Bonco\",\"Michael Halpert\",\"Mike Joseph\",\"Mike Myers\",\"Pamela Ding\",\"Perry Pardon\",\"Phyllis Stanley\",\"Rosie Renter\",\"Ryan Kevin\",\"Sally Sue\",\"Sarah Ab\",\"Ted Black\",\"Ted Green\",\"Ted Texas\",\"Tony Creed\",\"Trent Tye\",\"Tyler Conner\",\"Walter King\",\"Cardiology\",\"Pediatrics\",\"PrimaryCare\",\"Surgery\"],\"name\":\"\",\"parents\":[\"PrimaryCare/Rosie Renter\",\"PrimaryCare/Harry West\",\"PrimaryCare/Kimberly Cone\",\"PrimaryCare/Trent Tye\",\"PrimaryCare/Holly Hue\",\"PrimaryCare/Phyllis Stanley\",\"PrimaryCare/Tony Creed\",\"PrimaryCare/Pamela Ding\",\"PrimaryCare/Michael Halpert\",\"PrimaryCare/Dwight Scott\",\"PrimaryCare/Joesph Ross\",\"PrimaryCare/Chandler Bing\",\"PrimaryCare/Brenda Bing\",\"PrimaryCare/Bridget Brenda\",\"PrimaryCare/Mike Joseph\",\"PrimaryCare/Justin Time\",\"Cardiology/Luke Long\",\"Cardiology/Walter King\",\"Cardiology/Joesph Walter\",\"Cardiology/Megan Bonco\",\"Cardiology/Bailey Barret\",\"Cardiology/Tyler Conner\",\"Cardiology/Ryan Kevin\",\"Cardiology/Kent Kendall\",\"Surgery/Perry Pardon\",\"Surgery/Christian Saint\",\"Surgery/Dave Yu\",\"Surgery/Abigail Marriot\",\"Surgery/Sarah Ab\",\"Surgery/Kim Kimberly\",\"Surgery/Fred Man\",\"Pediatrics/Ted Black\",\"Pediatrics/Ted Green\",\"Pediatrics/Barry Bar\",\"Pediatrics/Harry Kane\",\"Pediatrics/Ala Bama\",\"Pediatrics/Ted Texas\",\"Pediatrics/Jordan Michael\",\"Pediatrics/Mike Myers\",\"Pediatrics/Sally Sue\",\"Surgery\",\"Pediatrics\",\"Cardiology\",\"Pediatrics\",\"PrimaryCare\",\"PrimaryCare\",\"PrimaryCare\",\"Surgery\",\"Surgery\",\"PrimaryCare\",\"Surgery\",\"Pediatrics\",\"PrimaryCare\",\"PrimaryCare\",\"PrimaryCare\",\"Cardiology\",\"Pediatrics\",\"PrimaryCare\",\"Cardiology\",\"Surgery\",\"PrimaryCare\",\"Cardiology\",\"Cardiology\",\"PrimaryCare\",\"PrimaryCare\",\"Pediatrics\",\"PrimaryCare\",\"Surgery\",\"PrimaryCare\",\"PrimaryCare\",\"Cardiology\",\"Pediatrics\",\"Surgery\",\"Pediatrics\",\"Pediatrics\",\"Pediatrics\",\"PrimaryCare\",\"PrimaryCare\",\"Cardiology\",\"Cardiology\",\"\",\"\",\"\",\"\"],\"values\":[40,39,38,37,36,35,34,33,32,31,30,29,28,27,26,25,24,23,22,21,20,19,18,17,16,15,14,13,12,11,10,9,8,7,6,5,4,3,2,1,13,5,20,7,28,27,29,15,14,31,10,6,39,36,30,22,3,25,17,11,38,24,21,32,26,2,33,16,35,40,18,1,12,9,8,4,34,37,19,23,164,45,520,91],\"type\":\"sunburst\"}],                        {\"template\":{\"data\":{\"histogram2dcontour\":[{\"type\":\"histogram2dcontour\",\"colorbar\":{\"outlinewidth\":0,\"ticks\":\"\"},\"colorscale\":[[0.0,\"#0d0887\"],[0.1111111111111111,\"#46039f\"],[0.2222222222222222,\"#7201a8\"],[0.3333333333333333,\"#9c179e\"],[0.4444444444444444,\"#bd3786\"],[0.5555555555555556,\"#d8576b\"],[0.6666666666666666,\"#ed7953\"],[0.7777777777777778,\"#fb9f3a\"],[0.8888888888888888,\"#fdca26\"],[1.0,\"#f0f921\"]]}],\"choropleth\":[{\"type\":\"choropleth\",\"colorbar\":{\"outlinewidth\":0,\"ticks\":\"\"}}],\"histogram2d\":[{\"type\":\"histogram2d\",\"colorbar\":{\"outlinewidth\":0,\"ticks\":\"\"},\"colorscale\":[[0.0,\"#0d0887\"],[0.1111111111111111,\"#46039f\"],[0.2222222222222222,\"#7201a8\"],[0.3333333333333333,\"#9c179e\"],[0.4444444444444444,\"#bd3786\"],[0.5555555555555556,\"#d8576b\"],[0.6666666666666666,\"#ed7953\"],[0.7777777777777778,\"#fb9f3a\"],[0.8888888888888888,\"#fdca26\"],[1.0,\"#f0f921\"]]}],\"heatmap\":[{\"type\":\"heatmap\",\"colorbar\":{\"outlinewidth\":0,\"ticks\":\"\"},\"colorscale\":[[0.0,\"#0d0887\"],[0.1111111111111111,\"#46039f\"],[0.2222222222222222,\"#7201a8\"],[0.3333333333333333,\"#9c179e\"],[0.4444444444444444,\"#bd3786\"],[0.5555555555555556,\"#d8576b\"],[0.6666666666666666,\"#ed7953\"],[0.7777777777777778,\"#fb9f3a\"],[0.8888888888888888,\"#fdca26\"],[1.0,\"#f0f921\"]]}],\"heatmapgl\":[{\"type\":\"heatmapgl\",\"colorbar\":{\"outlinewidth\":0,\"ticks\":\"\"},\"colorscale\":[[0.0,\"#0d0887\"],[0.1111111111111111,\"#46039f\"],[0.2222222222222222,\"#7201a8\"],[0.3333333333333333,\"#9c179e\"],[0.4444444444444444,\"#bd3786\"],[0.5555555555555556,\"#d8576b\"],[0.6666666666666666,\"#ed7953\"],[0.7777777777777778,\"#fb9f3a\"],[0.8888888888888888,\"#fdca26\"],[1.0,\"#f0f921\"]]}],\"contourcarpet\":[{\"type\":\"contourcarpet\",\"colorbar\":{\"outlinewidth\":0,\"ticks\":\"\"}}],\"contour\":[{\"type\":\"contour\",\"colorbar\":{\"outlinewidth\":0,\"ticks\":\"\"},\"colorscale\":[[0.0,\"#0d0887\"],[0.1111111111111111,\"#46039f\"],[0.2222222222222222,\"#7201a8\"],[0.3333333333333333,\"#9c179e\"],[0.4444444444444444,\"#bd3786\"],[0.5555555555555556,\"#d8576b\"],[0.6666666666666666,\"#ed7953\"],[0.7777777777777778,\"#fb9f3a\"],[0.8888888888888888,\"#fdca26\"],[1.0,\"#f0f921\"]]}],\"surface\":[{\"type\":\"surface\",\"colorbar\":{\"outlinewidth\":0,\"ticks\":\"\"},\"colorscale\":[[0.0,\"#0d0887\"],[0.1111111111111111,\"#46039f\"],[0.2222222222222222,\"#7201a8\"],[0.3333333333333333,\"#9c179e\"],[0.4444444444444444,\"#bd3786\"],[0.5555555555555556,\"#d8576b\"],[0.6666666666666666,\"#ed7953\"],[0.7777777777777778,\"#fb9f3a\"],[0.8888888888888888,\"#fdca26\"],[1.0,\"#f0f921\"]]}],\"mesh3d\":[{\"type\":\"mesh3d\",\"colorbar\":{\"outlinewidth\":0,\"ticks\":\"\"}}],\"scatter\":[{\"fillpattern\":{\"fillmode\":\"overlay\",\"size\":10,\"solidity\":0.2},\"type\":\"scatter\"}],\"parcoords\":[{\"type\":\"parcoords\",\"line\":{\"colorbar\":{\"outlinewidth\":0,\"ticks\":\"\"}}}],\"scatterpolargl\":[{\"type\":\"scatterpolargl\",\"marker\":{\"colorbar\":{\"outlinewidth\":0,\"ticks\":\"\"}}}],\"bar\":[{\"error_x\":{\"color\":\"#2a3f5f\"},\"error_y\":{\"color\":\"#2a3f5f\"},\"marker\":{\"line\":{\"color\":\"#E5ECF6\",\"width\":0.5},\"pattern\":{\"fillmode\":\"overlay\",\"size\":10,\"solidity\":0.2}},\"type\":\"bar\"}],\"scattergeo\":[{\"type\":\"scattergeo\",\"marker\":{\"colorbar\":{\"outlinewidth\":0,\"ticks\":\"\"}}}],\"scatterpolar\":[{\"type\":\"scatterpolar\",\"marker\":{\"colorbar\":{\"outlinewidth\":0,\"ticks\":\"\"}}}],\"histogram\":[{\"marker\":{\"pattern\":{\"fillmode\":\"overlay\",\"size\":10,\"solidity\":0.2}},\"type\":\"histogram\"}],\"scattergl\":[{\"type\":\"scattergl\",\"marker\":{\"colorbar\":{\"outlinewidth\":0,\"ticks\":\"\"}}}],\"scatter3d\":[{\"type\":\"scatter3d\",\"line\":{\"colorbar\":{\"outlinewidth\":0,\"ticks\":\"\"}},\"marker\":{\"colorbar\":{\"outlinewidth\":0,\"ticks\":\"\"}}}],\"scattermapbox\":[{\"type\":\"scattermapbox\",\"marker\":{\"colorbar\":{\"outlinewidth\":0,\"ticks\":\"\"}}}],\"scatterternary\":[{\"type\":\"scatterternary\",\"marker\":{\"colorbar\":{\"outlinewidth\":0,\"ticks\":\"\"}}}],\"scattercarpet\":[{\"type\":\"scattercarpet\",\"marker\":{\"colorbar\":{\"outlinewidth\":0,\"ticks\":\"\"}}}],\"carpet\":[{\"aaxis\":{\"endlinecolor\":\"#2a3f5f\",\"gridcolor\":\"white\",\"linecolor\":\"white\",\"minorgridcolor\":\"white\",\"startlinecolor\":\"#2a3f5f\"},\"baxis\":{\"endlinecolor\":\"#2a3f5f\",\"gridcolor\":\"white\",\"linecolor\":\"white\",\"minorgridcolor\":\"white\",\"startlinecolor\":\"#2a3f5f\"},\"type\":\"carpet\"}],\"table\":[{\"cells\":{\"fill\":{\"color\":\"#EBF0F8\"},\"line\":{\"color\":\"white\"}},\"header\":{\"fill\":{\"color\":\"#C8D4E3\"},\"line\":{\"color\":\"white\"}},\"type\":\"table\"}],\"barpolar\":[{\"marker\":{\"line\":{\"color\":\"#E5ECF6\",\"width\":0.5},\"pattern\":{\"fillmode\":\"overlay\",\"size\":10,\"solidity\":0.2}},\"type\":\"barpolar\"}],\"pie\":[{\"automargin\":true,\"type\":\"pie\"}]},\"layout\":{\"autotypenumbers\":\"strict\",\"colorway\":[\"#636efa\",\"#EF553B\",\"#00cc96\",\"#ab63fa\",\"#FFA15A\",\"#19d3f3\",\"#FF6692\",\"#B6E880\",\"#FF97FF\",\"#FECB52\"],\"font\":{\"color\":\"#2a3f5f\"},\"hovermode\":\"closest\",\"hoverlabel\":{\"align\":\"left\"},\"paper_bgcolor\":\"white\",\"plot_bgcolor\":\"#E5ECF6\",\"polar\":{\"bgcolor\":\"#E5ECF6\",\"angularaxis\":{\"gridcolor\":\"white\",\"linecolor\":\"white\",\"ticks\":\"\"},\"radialaxis\":{\"gridcolor\":\"white\",\"linecolor\":\"white\",\"ticks\":\"\"}},\"ternary\":{\"bgcolor\":\"#E5ECF6\",\"aaxis\":{\"gridcolor\":\"white\",\"linecolor\":\"white\",\"ticks\":\"\"},\"baxis\":{\"gridcolor\":\"white\",\"linecolor\":\"white\",\"ticks\":\"\"},\"caxis\":{\"gridcolor\":\"white\",\"linecolor\":\"white\",\"ticks\":\"\"}},\"coloraxis\":{\"colorbar\":{\"outlinewidth\":0,\"ticks\":\"\"}},\"colorscale\":{\"sequential\":[[0.0,\"#0d0887\"],[0.1111111111111111,\"#46039f\"],[0.2222222222222222,\"#7201a8\"],[0.3333333333333333,\"#9c179e\"],[0.4444444444444444,\"#bd3786\"],[0.5555555555555556,\"#d8576b\"],[0.6666666666666666,\"#ed7953\"],[0.7777777777777778,\"#fb9f3a\"],[0.8888888888888888,\"#fdca26\"],[1.0,\"#f0f921\"]],\"sequentialminus\":[[0.0,\"#0d0887\"],[0.1111111111111111,\"#46039f\"],[0.2222222222222222,\"#7201a8\"],[0.3333333333333333,\"#9c179e\"],[0.4444444444444444,\"#bd3786\"],[0.5555555555555556,\"#d8576b\"],[0.6666666666666666,\"#ed7953\"],[0.7777777777777778,\"#fb9f3a\"],[0.8888888888888888,\"#fdca26\"],[1.0,\"#f0f921\"]],\"diverging\":[[0,\"#8e0152\"],[0.1,\"#c51b7d\"],[0.2,\"#de77ae\"],[0.3,\"#f1b6da\"],[0.4,\"#fde0ef\"],[0.5,\"#f7f7f7\"],[0.6,\"#e6f5d0\"],[0.7,\"#b8e186\"],[0.8,\"#7fbc41\"],[0.9,\"#4d9221\"],[1,\"#276419\"]]},\"xaxis\":{\"gridcolor\":\"white\",\"linecolor\":\"white\",\"ticks\":\"\",\"title\":{\"standoff\":15},\"zerolinecolor\":\"white\",\"automargin\":true,\"zerolinewidth\":2},\"yaxis\":{\"gridcolor\":\"white\",\"linecolor\":\"white\",\"ticks\":\"\",\"title\":{\"standoff\":15},\"zerolinecolor\":\"white\",\"automargin\":true,\"zerolinewidth\":2},\"scene\":{\"xaxis\":{\"backgroundcolor\":\"#E5ECF6\",\"gridcolor\":\"white\",\"linecolor\":\"white\",\"showbackground\":true,\"ticks\":\"\",\"zerolinecolor\":\"white\",\"gridwidth\":2},\"yaxis\":{\"backgroundcolor\":\"#E5ECF6\",\"gridcolor\":\"white\",\"linecolor\":\"white\",\"showbackground\":true,\"ticks\":\"\",\"zerolinecolor\":\"white\",\"gridwidth\":2},\"zaxis\":{\"backgroundcolor\":\"#E5ECF6\",\"gridcolor\":\"white\",\"linecolor\":\"white\",\"showbackground\":true,\"ticks\":\"\",\"zerolinecolor\":\"white\",\"gridwidth\":2}},\"shapedefaults\":{\"line\":{\"color\":\"#2a3f5f\"}},\"annotationdefaults\":{\"arrowcolor\":\"#2a3f5f\",\"arrowhead\":0,\"arrowwidth\":1},\"geo\":{\"bgcolor\":\"white\",\"landcolor\":\"#E5ECF6\",\"subunitcolor\":\"white\",\"showland\":true,\"showlakes\":true,\"lakecolor\":\"white\"},\"title\":{\"x\":0.05},\"mapbox\":{\"style\":\"light\"}}},\"legend\":{\"tracegroupgap\":0},\"margin\":{\"t\":60}},                        {\"responsive\": true}                    ).then(function(){\n",
       "                            \n",
       "var gd = document.getElementById('dc7f1c29-7161-42d9-bc4e-d82f0fc5d156');\n",
       "var x = new MutationObserver(function (mutations, observer) {{\n",
       "        var display = window.getComputedStyle(gd).display;\n",
       "        if (!display || display === 'none') {{\n",
       "            console.log([gd, 'removed!']);\n",
       "            Plotly.purge(gd);\n",
       "            observer.disconnect();\n",
       "        }}\n",
       "}});\n",
       "\n",
       "// Listen for the removal of the full notebook cells\n",
       "var notebookContainer = gd.closest('#notebook-container');\n",
       "if (notebookContainer) {{\n",
       "    x.observe(notebookContainer, {childList: true});\n",
       "}}\n",
       "\n",
       "// Listen for the clearing of the current output cell\n",
       "var outputEl = gd.closest('.output');\n",
       "if (outputEl) {{\n",
       "    x.observe(outputEl, {childList: true});\n",
       "}}\n",
       "\n",
       "                        })                };                });            </script>        </div>"
      ]
     },
     "metadata": {},
     "output_type": "display_data"
    }
   ],
   "source": [
    "import pandas as pd\n",
    "import datetime\n",
    "import plotly.express as px\n",
    "\n",
    "#Reading the Providers sheet\n",
    "df_P = pd.read_excel(xls, 'Providers')\n",
    "\n",
    "# Convert the ProviderDateOnStaff column to datetime format\n",
    "df_P['ProviderDateOnStaff'] = pd.to_datetime(df_P['ProviderDateOnStaff'], format='%m/%d/%Y')\n",
    "\n",
    "# Calculate the providers' experience in days\n",
    "df_P['Experience'] = (datetime.datetime.now() - df_P['ProviderDateOnStaff']).dt.days\n",
    "\n",
    "# Create a sunburst chart with providers' names by their provider specialty and experience\n",
    "fig = px.sunburst(df_P, path=['ProviderSpecialty', 'ProviderName', 'Experience'], values='ProviderID')\n",
    "\n",
    "# Show the chart\n",
    "fig.show()\n"
   ]
  },
  {
   "cell_type": "code",
   "execution_count": 74,
   "id": "88839921",
   "metadata": {},
   "outputs": [
    {
     "data": {
      "text/html": [
       "<div>\n",
       "<style scoped>\n",
       "    .dataframe tbody tr th:only-of-type {\n",
       "        vertical-align: middle;\n",
       "    }\n",
       "\n",
       "    .dataframe tbody tr th {\n",
       "        vertical-align: top;\n",
       "    }\n",
       "\n",
       "    .dataframe thead th {\n",
       "        text-align: right;\n",
       "    }\n",
       "</style>\n",
       "<table border=\"1\" class=\"dataframe\">\n",
       "  <thead>\n",
       "    <tr style=\"text-align: right;\">\n",
       "      <th></th>\n",
       "      <th>ProviderID</th>\n",
       "      <th>ProviderName</th>\n",
       "      <th>ProviderSpecialty</th>\n",
       "      <th>ProviderDateOnStaff</th>\n",
       "      <th>Experience</th>\n",
       "    </tr>\n",
       "  </thead>\n",
       "  <tbody>\n",
       "    <tr>\n",
       "      <th>0</th>\n",
       "      <td>1</td>\n",
       "      <td>Sally Sue</td>\n",
       "      <td>Pediatrics</td>\n",
       "      <td>1993-01-01 00:00:00.000</td>\n",
       "      <td>11062</td>\n",
       "    </tr>\n",
       "    <tr>\n",
       "      <th>1</th>\n",
       "      <td>2</td>\n",
       "      <td>Mike Myers</td>\n",
       "      <td>Pediatrics</td>\n",
       "      <td>1993-05-02 00:00:17.695</td>\n",
       "      <td>10941</td>\n",
       "    </tr>\n",
       "    <tr>\n",
       "      <th>2</th>\n",
       "      <td>3</td>\n",
       "      <td>Jordan Michael</td>\n",
       "      <td>Pediatrics</td>\n",
       "      <td>1993-06-24 21:31:46.687</td>\n",
       "      <td>10888</td>\n",
       "    </tr>\n",
       "    <tr>\n",
       "      <th>3</th>\n",
       "      <td>4</td>\n",
       "      <td>Ted Texas</td>\n",
       "      <td>Pediatrics</td>\n",
       "      <td>1993-12-23 21:33:52.299</td>\n",
       "      <td>10706</td>\n",
       "    </tr>\n",
       "    <tr>\n",
       "      <th>4</th>\n",
       "      <td>5</td>\n",
       "      <td>Ala Bama</td>\n",
       "      <td>Pediatrics</td>\n",
       "      <td>1995-01-10 02:53:47.838</td>\n",
       "      <td>10323</td>\n",
       "    </tr>\n",
       "    <tr>\n",
       "      <th>5</th>\n",
       "      <td>6</td>\n",
       "      <td>Harry Kane</td>\n",
       "      <td>Pediatrics</td>\n",
       "      <td>1995-07-21 03:49:03.310</td>\n",
       "      <td>10131</td>\n",
       "    </tr>\n",
       "    <tr>\n",
       "      <th>6</th>\n",
       "      <td>7</td>\n",
       "      <td>Barry Bar</td>\n",
       "      <td>Pediatrics</td>\n",
       "      <td>1995-11-21 19:30:38.759</td>\n",
       "      <td>10008</td>\n",
       "    </tr>\n",
       "    <tr>\n",
       "      <th>7</th>\n",
       "      <td>8</td>\n",
       "      <td>Ted Green</td>\n",
       "      <td>Pediatrics</td>\n",
       "      <td>1996-05-30 06:14:52.539</td>\n",
       "      <td>9817</td>\n",
       "    </tr>\n",
       "    <tr>\n",
       "      <th>8</th>\n",
       "      <td>9</td>\n",
       "      <td>Ted Black</td>\n",
       "      <td>Pediatrics</td>\n",
       "      <td>1997-02-20 08:01:10.211</td>\n",
       "      <td>9551</td>\n",
       "    </tr>\n",
       "    <tr>\n",
       "      <th>9</th>\n",
       "      <td>10</td>\n",
       "      <td>Fred Man</td>\n",
       "      <td>Surgery</td>\n",
       "      <td>1998-03-17 01:47:18.794</td>\n",
       "      <td>9161</td>\n",
       "    </tr>\n",
       "    <tr>\n",
       "      <th>10</th>\n",
       "      <td>11</td>\n",
       "      <td>Kim Kimberly</td>\n",
       "      <td>Surgery</td>\n",
       "      <td>1998-05-10 14:47:29.468</td>\n",
       "      <td>9107</td>\n",
       "    </tr>\n",
       "    <tr>\n",
       "      <th>11</th>\n",
       "      <td>12</td>\n",
       "      <td>Sarah Ab</td>\n",
       "      <td>Surgery</td>\n",
       "      <td>1998-08-18 05:22:40.762</td>\n",
       "      <td>9007</td>\n",
       "    </tr>\n",
       "    <tr>\n",
       "      <th>12</th>\n",
       "      <td>13</td>\n",
       "      <td>Abigail Marriot</td>\n",
       "      <td>Surgery</td>\n",
       "      <td>1998-11-08 12:25:45.705</td>\n",
       "      <td>8925</td>\n",
       "    </tr>\n",
       "    <tr>\n",
       "      <th>13</th>\n",
       "      <td>14</td>\n",
       "      <td>Dave Yu</td>\n",
       "      <td>Surgery</td>\n",
       "      <td>1999-06-26 16:18:57.436</td>\n",
       "      <td>8695</td>\n",
       "    </tr>\n",
       "    <tr>\n",
       "      <th>14</th>\n",
       "      <td>15</td>\n",
       "      <td>Christian Saint</td>\n",
       "      <td>Surgery</td>\n",
       "      <td>2000-08-27 00:12:40.326</td>\n",
       "      <td>8267</td>\n",
       "    </tr>\n",
       "    <tr>\n",
       "      <th>15</th>\n",
       "      <td>16</td>\n",
       "      <td>Perry Pardon</td>\n",
       "      <td>Surgery</td>\n",
       "      <td>2001-02-13 11:49:17.862</td>\n",
       "      <td>8097</td>\n",
       "    </tr>\n",
       "    <tr>\n",
       "      <th>16</th>\n",
       "      <td>17</td>\n",
       "      <td>Kent Kendall</td>\n",
       "      <td>Cardiology</td>\n",
       "      <td>2001-12-22 11:18:32.919</td>\n",
       "      <td>7785</td>\n",
       "    </tr>\n",
       "    <tr>\n",
       "      <th>17</th>\n",
       "      <td>18</td>\n",
       "      <td>Ryan Kevin</td>\n",
       "      <td>Cardiology</td>\n",
       "      <td>2003-01-14 21:16:34.778</td>\n",
       "      <td>7397</td>\n",
       "    </tr>\n",
       "    <tr>\n",
       "      <th>18</th>\n",
       "      <td>19</td>\n",
       "      <td>Tyler Conner</td>\n",
       "      <td>Cardiology</td>\n",
       "      <td>2003-07-09 02:41:40.410</td>\n",
       "      <td>7221</td>\n",
       "    </tr>\n",
       "    <tr>\n",
       "      <th>19</th>\n",
       "      <td>20</td>\n",
       "      <td>Bailey Barret</td>\n",
       "      <td>Cardiology</td>\n",
       "      <td>2003-08-20 16:05:50.179</td>\n",
       "      <td>7179</td>\n",
       "    </tr>\n",
       "    <tr>\n",
       "      <th>20</th>\n",
       "      <td>21</td>\n",
       "      <td>Megan Bonco</td>\n",
       "      <td>Cardiology</td>\n",
       "      <td>2004-02-17 21:22:30.546</td>\n",
       "      <td>6998</td>\n",
       "    </tr>\n",
       "    <tr>\n",
       "      <th>21</th>\n",
       "      <td>22</td>\n",
       "      <td>Joesph Walter</td>\n",
       "      <td>Cardiology</td>\n",
       "      <td>2005-02-04 11:40:44.121</td>\n",
       "      <td>6645</td>\n",
       "    </tr>\n",
       "    <tr>\n",
       "      <th>22</th>\n",
       "      <td>23</td>\n",
       "      <td>Walter King</td>\n",
       "      <td>Cardiology</td>\n",
       "      <td>2006-03-12 22:11:58.070</td>\n",
       "      <td>6244</td>\n",
       "    </tr>\n",
       "    <tr>\n",
       "      <th>23</th>\n",
       "      <td>24</td>\n",
       "      <td>Luke Long</td>\n",
       "      <td>Cardiology</td>\n",
       "      <td>2006-04-28 00:16:36.762</td>\n",
       "      <td>6197</td>\n",
       "    </tr>\n",
       "    <tr>\n",
       "      <th>24</th>\n",
       "      <td>25</td>\n",
       "      <td>Justin Time</td>\n",
       "      <td>PrimaryCare</td>\n",
       "      <td>2006-06-21 04:46:36.838</td>\n",
       "      <td>6143</td>\n",
       "    </tr>\n",
       "    <tr>\n",
       "      <th>25</th>\n",
       "      <td>26</td>\n",
       "      <td>Mike Joseph</td>\n",
       "      <td>PrimaryCare</td>\n",
       "      <td>2006-12-29 16:26:41.085</td>\n",
       "      <td>5952</td>\n",
       "    </tr>\n",
       "    <tr>\n",
       "      <th>26</th>\n",
       "      <td>27</td>\n",
       "      <td>Bridget Brenda</td>\n",
       "      <td>PrimaryCare</td>\n",
       "      <td>2007-06-30 05:53:46.143</td>\n",
       "      <td>5769</td>\n",
       "    </tr>\n",
       "    <tr>\n",
       "      <th>27</th>\n",
       "      <td>28</td>\n",
       "      <td>Brenda Bing</td>\n",
       "      <td>PrimaryCare</td>\n",
       "      <td>2007-11-18 22:33:55.792</td>\n",
       "      <td>5628</td>\n",
       "    </tr>\n",
       "    <tr>\n",
       "      <th>28</th>\n",
       "      <td>29</td>\n",
       "      <td>Chandler Bing</td>\n",
       "      <td>PrimaryCare</td>\n",
       "      <td>2007-12-07 23:50:10.442</td>\n",
       "      <td>5608</td>\n",
       "    </tr>\n",
       "    <tr>\n",
       "      <th>29</th>\n",
       "      <td>30</td>\n",
       "      <td>Joesph Ross</td>\n",
       "      <td>PrimaryCare</td>\n",
       "      <td>2008-11-08 18:06:32.983</td>\n",
       "      <td>5272</td>\n",
       "    </tr>\n",
       "    <tr>\n",
       "      <th>30</th>\n",
       "      <td>31</td>\n",
       "      <td>Dwight Scott</td>\n",
       "      <td>PrimaryCare</td>\n",
       "      <td>2009-04-18 19:15:44.587</td>\n",
       "      <td>5111</td>\n",
       "    </tr>\n",
       "    <tr>\n",
       "      <th>31</th>\n",
       "      <td>32</td>\n",
       "      <td>Michael Halpert</td>\n",
       "      <td>PrimaryCare</td>\n",
       "      <td>2009-09-02 00:14:41.441</td>\n",
       "      <td>4974</td>\n",
       "    </tr>\n",
       "    <tr>\n",
       "      <th>32</th>\n",
       "      <td>33</td>\n",
       "      <td>Pamela Ding</td>\n",
       "      <td>PrimaryCare</td>\n",
       "      <td>2009-11-12 03:59:49.655</td>\n",
       "      <td>4903</td>\n",
       "    </tr>\n",
       "    <tr>\n",
       "      <th>33</th>\n",
       "      <td>34</td>\n",
       "      <td>Tony Creed</td>\n",
       "      <td>PrimaryCare</td>\n",
       "      <td>2010-04-28 14:11:26.802</td>\n",
       "      <td>4736</td>\n",
       "    </tr>\n",
       "    <tr>\n",
       "      <th>34</th>\n",
       "      <td>35</td>\n",
       "      <td>Phyllis Stanley</td>\n",
       "      <td>PrimaryCare</td>\n",
       "      <td>2011-05-05 16:06:03.222</td>\n",
       "      <td>4364</td>\n",
       "    </tr>\n",
       "    <tr>\n",
       "      <th>35</th>\n",
       "      <td>36</td>\n",
       "      <td>Holly Hue</td>\n",
       "      <td>PrimaryCare</td>\n",
       "      <td>2012-06-24 06:55:22.021</td>\n",
       "      <td>3948</td>\n",
       "    </tr>\n",
       "    <tr>\n",
       "      <th>36</th>\n",
       "      <td>37</td>\n",
       "      <td>Trent Tye</td>\n",
       "      <td>PrimaryCare</td>\n",
       "      <td>2013-01-12 15:32:21.137</td>\n",
       "      <td>3746</td>\n",
       "    </tr>\n",
       "    <tr>\n",
       "      <th>37</th>\n",
       "      <td>38</td>\n",
       "      <td>Kimberly Cone</td>\n",
       "      <td>PrimaryCare</td>\n",
       "      <td>2013-05-23 05:17:19.360</td>\n",
       "      <td>3615</td>\n",
       "    </tr>\n",
       "    <tr>\n",
       "      <th>38</th>\n",
       "      <td>39</td>\n",
       "      <td>Harry West</td>\n",
       "      <td>PrimaryCare</td>\n",
       "      <td>2013-07-14 00:22:03.151</td>\n",
       "      <td>3563</td>\n",
       "    </tr>\n",
       "    <tr>\n",
       "      <th>39</th>\n",
       "      <td>40</td>\n",
       "      <td>Rosie Renter</td>\n",
       "      <td>PrimaryCare</td>\n",
       "      <td>2013-09-11 12:07:55.584</td>\n",
       "      <td>3504</td>\n",
       "    </tr>\n",
       "  </tbody>\n",
       "</table>\n",
       "</div>"
      ],
      "text/plain": [
       "    ProviderID     ProviderName ProviderSpecialty     ProviderDateOnStaff  \\\n",
       "0            1        Sally Sue        Pediatrics 1993-01-01 00:00:00.000   \n",
       "1            2       Mike Myers        Pediatrics 1993-05-02 00:00:17.695   \n",
       "2            3   Jordan Michael        Pediatrics 1993-06-24 21:31:46.687   \n",
       "3            4        Ted Texas        Pediatrics 1993-12-23 21:33:52.299   \n",
       "4            5         Ala Bama        Pediatrics 1995-01-10 02:53:47.838   \n",
       "5            6       Harry Kane        Pediatrics 1995-07-21 03:49:03.310   \n",
       "6            7        Barry Bar        Pediatrics 1995-11-21 19:30:38.759   \n",
       "7            8        Ted Green        Pediatrics 1996-05-30 06:14:52.539   \n",
       "8            9        Ted Black        Pediatrics 1997-02-20 08:01:10.211   \n",
       "9           10         Fred Man           Surgery 1998-03-17 01:47:18.794   \n",
       "10          11     Kim Kimberly           Surgery 1998-05-10 14:47:29.468   \n",
       "11          12         Sarah Ab           Surgery 1998-08-18 05:22:40.762   \n",
       "12          13  Abigail Marriot           Surgery 1998-11-08 12:25:45.705   \n",
       "13          14          Dave Yu           Surgery 1999-06-26 16:18:57.436   \n",
       "14          15  Christian Saint           Surgery 2000-08-27 00:12:40.326   \n",
       "15          16     Perry Pardon           Surgery 2001-02-13 11:49:17.862   \n",
       "16          17     Kent Kendall        Cardiology 2001-12-22 11:18:32.919   \n",
       "17          18       Ryan Kevin        Cardiology 2003-01-14 21:16:34.778   \n",
       "18          19     Tyler Conner        Cardiology 2003-07-09 02:41:40.410   \n",
       "19          20    Bailey Barret        Cardiology 2003-08-20 16:05:50.179   \n",
       "20          21      Megan Bonco        Cardiology 2004-02-17 21:22:30.546   \n",
       "21          22    Joesph Walter        Cardiology 2005-02-04 11:40:44.121   \n",
       "22          23      Walter King        Cardiology 2006-03-12 22:11:58.070   \n",
       "23          24        Luke Long        Cardiology 2006-04-28 00:16:36.762   \n",
       "24          25      Justin Time       PrimaryCare 2006-06-21 04:46:36.838   \n",
       "25          26      Mike Joseph       PrimaryCare 2006-12-29 16:26:41.085   \n",
       "26          27   Bridget Brenda       PrimaryCare 2007-06-30 05:53:46.143   \n",
       "27          28      Brenda Bing       PrimaryCare 2007-11-18 22:33:55.792   \n",
       "28          29    Chandler Bing       PrimaryCare 2007-12-07 23:50:10.442   \n",
       "29          30      Joesph Ross       PrimaryCare 2008-11-08 18:06:32.983   \n",
       "30          31     Dwight Scott       PrimaryCare 2009-04-18 19:15:44.587   \n",
       "31          32  Michael Halpert       PrimaryCare 2009-09-02 00:14:41.441   \n",
       "32          33      Pamela Ding       PrimaryCare 2009-11-12 03:59:49.655   \n",
       "33          34       Tony Creed       PrimaryCare 2010-04-28 14:11:26.802   \n",
       "34          35  Phyllis Stanley       PrimaryCare 2011-05-05 16:06:03.222   \n",
       "35          36        Holly Hue       PrimaryCare 2012-06-24 06:55:22.021   \n",
       "36          37        Trent Tye       PrimaryCare 2013-01-12 15:32:21.137   \n",
       "37          38    Kimberly Cone       PrimaryCare 2013-05-23 05:17:19.360   \n",
       "38          39       Harry West       PrimaryCare 2013-07-14 00:22:03.151   \n",
       "39          40     Rosie Renter       PrimaryCare 2013-09-11 12:07:55.584   \n",
       "\n",
       "    Experience  \n",
       "0        11062  \n",
       "1        10941  \n",
       "2        10888  \n",
       "3        10706  \n",
       "4        10323  \n",
       "5        10131  \n",
       "6        10008  \n",
       "7         9817  \n",
       "8         9551  \n",
       "9         9161  \n",
       "10        9107  \n",
       "11        9007  \n",
       "12        8925  \n",
       "13        8695  \n",
       "14        8267  \n",
       "15        8097  \n",
       "16        7785  \n",
       "17        7397  \n",
       "18        7221  \n",
       "19        7179  \n",
       "20        6998  \n",
       "21        6645  \n",
       "22        6244  \n",
       "23        6197  \n",
       "24        6143  \n",
       "25        5952  \n",
       "26        5769  \n",
       "27        5628  \n",
       "28        5608  \n",
       "29        5272  \n",
       "30        5111  \n",
       "31        4974  \n",
       "32        4903  \n",
       "33        4736  \n",
       "34        4364  \n",
       "35        3948  \n",
       "36        3746  \n",
       "37        3615  \n",
       "38        3563  \n",
       "39        3504  "
      ]
     },
     "execution_count": 74,
     "metadata": {},
     "output_type": "execute_result"
    }
   ],
   "source": [
    "# we can see the new Experience column in the dataframe\n",
    "df_P"
   ]
  },
  {
   "cell_type": "markdown",
   "id": "6fb1bb72",
   "metadata": {},
   "source": [
    "## Question 9. Create a subplot on x = np.arange(0, 10, 0.1) , y = np.sin(np.pi * x) + x with 2 rows & 2 columns with object oriented approach."
   ]
  },
  {
   "cell_type": "code",
   "execution_count": 42,
   "id": "19bf40e1",
   "metadata": {},
   "outputs": [
    {
     "data": {
      "image/png": "[encoded data removed]",
      "text/plain": [
       "<Figure size 1000x800 with 4 Axes>"
      ]
     },
     "metadata": {},
     "output_type": "display_data"
    }
   ],
   "source": [
    "import matplotlib.pyplot as plt\n",
    "import numpy as np\n",
    "\n",
    "# Define x and y values\n",
    "x = np.arange(0, 10, 0.1)\n",
    "y = np.sin(np.pi * x) + x\n",
    "\n",
    "# Create figure and subplots\n",
    "fig, axs = plt.subplots(nrows=2, ncols=2, figsize=(10, 8))\n",
    "\n",
    "# Plot data in each subplot\n",
    "axs[0, 0].plot(x, y)\n",
    "axs[0, 0].set_title('Subplot 1')\n",
    "axs[0, 1].plot(x, y)\n",
    "axs[0, 1].set_title('Subplot 2')\n",
    "axs[1, 0].plot(x, y)\n",
    "axs[1, 0].set_title('Subplot 3')\n",
    "axs[1, 1].plot(x, y)\n",
    "axs[1, 1].set_title('Subplot 4')\n",
    "\n",
    "# Add overall title to the figure\n",
    "fig.suptitle('Subplots with x and y')\n",
    "\n",
    "# Display the plot\n",
    "plt.show()\n",
    "\n"
   ]
  },
  {
   "cell_type": "markdown",
   "id": "d4a413ef",
   "metadata": {},
   "source": [
    "## Question 10. Get the number of patients based on ReasonForVisit and EDDisposition (use stack/unstack functions)."
   ]
  },
  {
   "cell_type": "code",
   "execution_count": 51,
   "id": "4602ce26",
   "metadata": {},
   "outputs": [
    {
     "name": "stdout",
     "output_type": "stream",
     "text": [
      "         ReasonForVisit EDDisposition  Total_Num_Patients\n",
      "0              Accident      Admitted                  39\n",
      "1              Bleeding      Admitted                  16\n",
      "2              Bleeding    Discharged                  15\n",
      "3          Car Accident      Admitted                  17\n",
      "4            Chest Pain      Admitted                  94\n",
      "5            Chest Pain    Discharged                  15\n",
      "6                 Cough    Discharged                   1\n",
      "7                 Fever      Admitted                  46\n",
      "8                 Fever    Discharged                 188\n",
      "9              Gun Shot      Admitted                  16\n",
      "10         Intoxication    Discharged                  30\n",
      "11           Laceration    Discharged                  30\n",
      "12             Migraine      Admitted                  47\n",
      "13             Migraine    Discharged                 109\n",
      "14            Pneumonia      Admitted                 136\n",
      "15            Pneumonia    Discharged                  65\n",
      "16  Shortness of Breath      Admitted                  72\n",
      "17  Shortness of Breath    Discharged                  77\n",
      "18         Stomach Ache      Admitted                  32\n",
      "19         Stomach Ache    Discharged                 154\n",
      "STACKED OUTPUT IS\n",
      "0   ReasonForVisit                   Accident\n",
      "    EDDisposition                    Admitted\n",
      "    Total_Num_Patients                     39\n",
      "1   ReasonForVisit                   Bleeding\n",
      "    EDDisposition                    Admitted\n",
      "    Total_Num_Patients                     16\n",
      "2   ReasonForVisit                   Bleeding\n",
      "    EDDisposition                  Discharged\n",
      "    Total_Num_Patients                     15\n",
      "3   ReasonForVisit               Car Accident\n",
      "    EDDisposition                    Admitted\n",
      "    Total_Num_Patients                     17\n",
      "4   ReasonForVisit                 Chest Pain\n",
      "    EDDisposition                    Admitted\n",
      "    Total_Num_Patients                     94\n",
      "5   ReasonForVisit                 Chest Pain\n",
      "    EDDisposition                  Discharged\n",
      "    Total_Num_Patients                     15\n",
      "6   ReasonForVisit                      Cough\n",
      "    EDDisposition                  Discharged\n",
      "    Total_Num_Patients                      1\n",
      "7   ReasonForVisit                      Fever\n",
      "    EDDisposition                    Admitted\n",
      "    Total_Num_Patients                     46\n",
      "8   ReasonForVisit                      Fever\n",
      "    EDDisposition                  Discharged\n",
      "    Total_Num_Patients                    188\n",
      "9   ReasonForVisit                   Gun Shot\n",
      "    EDDisposition                    Admitted\n",
      "    Total_Num_Patients                     16\n",
      "10  ReasonForVisit               Intoxication\n",
      "    EDDisposition                  Discharged\n",
      "    Total_Num_Patients                     30\n",
      "11  ReasonForVisit                 Laceration\n",
      "    EDDisposition                  Discharged\n",
      "    Total_Num_Patients                     30\n",
      "12  ReasonForVisit                   Migraine\n",
      "    EDDisposition                    Admitted\n",
      "    Total_Num_Patients                     47\n",
      "13  ReasonForVisit                   Migraine\n",
      "    EDDisposition                  Discharged\n",
      "    Total_Num_Patients                    109\n",
      "14  ReasonForVisit                  Pneumonia\n",
      "    EDDisposition                    Admitted\n",
      "    Total_Num_Patients                    136\n",
      "15  ReasonForVisit                  Pneumonia\n",
      "    EDDisposition                  Discharged\n",
      "    Total_Num_Patients                     65\n",
      "16  ReasonForVisit        Shortness of Breath\n",
      "    EDDisposition                    Admitted\n",
      "    Total_Num_Patients                     72\n",
      "17  ReasonForVisit        Shortness of Breath\n",
      "    EDDisposition                  Discharged\n",
      "    Total_Num_Patients                     77\n",
      "18  ReasonForVisit               Stomach Ache\n",
      "    EDDisposition                    Admitted\n",
      "    Total_Num_Patients                     32\n",
      "19  ReasonForVisit               Stomach Ache\n",
      "    EDDisposition                  Discharged\n",
      "    Total_Num_Patients                    154\n",
      "dtype: object\n",
      "UNSTACKED OUTPUT IS\n",
      "                          0         1           2             3           4   \\\n",
      "ReasonForVisit      Accident  Bleeding    Bleeding  Car Accident  Chest Pain   \n",
      "EDDisposition       Admitted  Admitted  Discharged      Admitted    Admitted   \n",
      "Total_Num_Patients        39        16          15            17          94   \n",
      "\n",
      "                            5           6         7           8         9   \\\n",
      "ReasonForVisit      Chest Pain       Cough     Fever       Fever  Gun Shot   \n",
      "EDDisposition       Discharged  Discharged  Admitted  Discharged  Admitted   \n",
      "Total_Num_Patients          15           1        46         188        16   \n",
      "\n",
      "                              10          11        12          13         14  \\\n",
      "ReasonForVisit      Intoxication  Laceration  Migraine    Migraine  Pneumonia   \n",
      "EDDisposition         Discharged  Discharged  Admitted  Discharged   Admitted   \n",
      "Total_Num_Patients            30          30        47         109        136   \n",
      "\n",
      "                            15                   16                   17  \\\n",
      "ReasonForVisit       Pneumonia  Shortness of Breath  Shortness of Breath   \n",
      "EDDisposition       Discharged             Admitted           Discharged   \n",
      "Total_Num_Patients          65                   72                   77   \n",
      "\n",
      "                              18            19  \n",
      "ReasonForVisit      Stomach Ache  Stomach Ache  \n",
      "EDDisposition           Admitted    Discharged  \n",
      "Total_Num_Patients            32           154  \n"
     ]
    }
   ],
   "source": [
    "#Reading the EDVisits sheet\n",
    "df = pd.read_excel(xls, 'EDVisits')\n",
    "\n",
    "df = df.groupby([\"ReasonForVisit\",\"EDDisposition\"]).size().reset_index(name='Total_Num_Patients')\n",
    "print(df)\n",
    "\n",
    "stack_df=df.stack(level=0)\n",
    "print('STACKED OUTPUT IS')\n",
    "print(stack_df)\n",
    "\n",
    "unstack_df = stack_df.unstack().unstack().unstack()\n",
    "print('UNSTACKED OUTPUT IS')\n",
    "print(unstack_df)"
   ]
  },
  {
   "cell_type": "markdown",
   "id": "11014660",
   "metadata": {},
   "source": [
    "## Question 11. Create a dataframe with date and time as columns, where the values are the discharge time from readmissionregistry sheet."
   ]
  },
  {
   "cell_type": "code",
   "execution_count": 10,
   "id": "72850c89",
   "metadata": {},
   "outputs": [
    {
     "name": "stdout",
     "output_type": "stream",
     "text": [
      "           Date             Time\n",
      "0    2018-01-04  19:59:31.391000\n",
      "1    2018-01-04  21:28:51.898000\n",
      "2    2018-01-04  22:28:23.672000\n",
      "3    2018-01-05  05:47:04.933000\n",
      "4    2018-01-05  14:18:30.029000\n",
      "..          ...              ...\n",
      "715  2018-03-07  21:22:10.061000\n",
      "716  2018-03-08  02:43:18.749000\n",
      "717  2018-03-08  09:27:18.377000\n",
      "718  2018-03-10  06:06:12.068000\n",
      "719  2018-03-10  20:38:30.568000\n",
      "\n",
      "[720 rows x 2 columns]\n"
     ]
    }
   ],
   "source": [
    "#Reading the ReAdmissionRegistry \n",
    "df_RE = pd.read_excel(xls, 'ReAdmissionRegistry')\n",
    "\n",
    "# Create a new dataframe with the discharge time as values\n",
    "discharge_data = pd.DataFrame(df_RE['DischargeDate'])\n",
    "\n",
    "# Extract the date and time from the discharge time and create separate columns for them\n",
    "discharge_data['Date'] = discharge_data['DischargeDate'].dt.date\n",
    "discharge_data['Time'] = discharge_data['DischargeDate'].dt.time\n",
    "\n",
    "# Print the result\n",
    "print(discharge_data[['Date', 'Time']])\n"
   ]
  },
  {
   "cell_type": "markdown",
   "id": "0bebd1e2",
   "metadata": {},
   "source": [
    "## Question 12. Create a visualization on the count of patients based on primary diagnosis."
   ]
  },
  {
   "cell_type": "code",
   "execution_count": 11,
   "id": "2cf865c1",
   "metadata": {},
   "outputs": [
    {
     "data": {
      "image/png": "[encoded data removed]",
      "text/plain": [
       "<Figure size 1000x600 with 1 Axes>"
      ]
     },
     "metadata": {},
     "output_type": "display_data"
    }
   ],
   "source": [
    "diagnosis_counts = df_RE.groupby('PrimaryDiagnosis')['PatientID'].count()\n",
    "\n",
    "# Create a bar plot of the diagnosis counts\n",
    "plt.figure(figsize=(10, 6))\n",
    "plt.bar(diagnosis_counts.index, diagnosis_counts.values)\n",
    "plt.xticks(rotation=90)\n",
    "plt.xlabel('Primary Diagnosis')\n",
    "plt.ylabel('Number of Patients')\n",
    "plt.title('Count of Patients by Primary Diagnosis')\n",
    "plt.show()"
   ]
  },
  {
   "cell_type": "markdown",
   "id": "ee172af3",
   "metadata": {},
   "source": [
    "## Question 13. Create a bar chart on service & expected length of stay."
   ]
  },
  {
   "cell_type": "code",
   "execution_count": 12,
   "id": "7b3665ac",
   "metadata": {},
   "outputs": [
    {
     "data": {
      "image/png": "[encoded data removed]",
      "text/plain": [
       "<Figure size 640x480 with 1 Axes>"
      ]
     },
     "metadata": {},
     "output_type": "display_data"
    }
   ],
   "source": [
    "#Reading the Discharges sheet\n",
    "df_D = pd.read_excel(xls, 'Discharges')\n",
    "\n",
    "\n",
    "plt.bar(df_D['Service'], df_D['ExpectedLOS'])\n",
    "plt.title('Service Vs Expected Length Of Stay')\n",
    "plt.xlabel('Service')\n",
    "plt.xticks(rotation=90)\n",
    "plt.ylabel('Expected LOS(In Days)')\n",
    "\n",
    "plt.show()"
   ]
  },
  {
   "cell_type": "markdown",
   "id": "8d795d7e",
   "metadata": {},
   "source": [
    "## Question 14. Find the count of Spanish Speaking patients."
   ]
  },
  {
   "cell_type": "code",
   "execution_count": 13,
   "id": "d3161241",
   "metadata": {},
   "outputs": [
    {
     "name": "stdout",
     "output_type": "stream",
     "text": [
      "Number of Spanish speaking patients: 110\n"
     ]
    }
   ],
   "source": [
    "#Reading the Patients sheet\n",
    "df_PA = pd.read_excel(xls, 'Patients')\n",
    "\n",
    "# Filter the data to include only Spanish speaking patients\n",
    "spanish_speaking = df_PA.loc[df_PA['Language'] == 'Spanish']\n",
    "\n",
    "# Get the count of Spanish speaking patients\n",
    "count_spanish_speaking = spanish_speaking['PatientID'].nunique()\n",
    "\n",
    "# Print the result\n",
    "print('Number of Spanish speaking patients:', count_spanish_speaking)\n"
   ]
  },
  {
   "cell_type": "markdown",
   "id": "50c26713",
   "metadata": {},
   "source": [
    "## Question 15. Create a boxplot on ExpectedLOS by taking service into account."
   ]
  },
  {
   "cell_type": "code",
   "execution_count": 14,
   "id": "ecb321c5",
   "metadata": {
    "scrolled": true
   },
   "outputs": [
    {
     "data": {
      "image/png": "[encoded data removed]",
      "text/plain": [
       "<Figure size 640x480 with 1 Axes>"
      ]
     },
     "metadata": {},
     "output_type": "display_data"
    }
   ],
   "source": [
    "#Reading the ReAdmissionRegistry \n",
    "df_RE = pd.read_excel(xls, 'ReAdmissionRegistry')\n",
    "\n",
    "# Create a boxplot of ExpectedLOS by Service\n",
    "sns.boxplot(x='Service', y='ExpectedLOS', data=df_RE)\n",
    "sns.set(rc={'figure.figsize':(8,8)})\n",
    "plt.title('Expected Length of Stay by Service')\n",
    "plt.xlabel('Service')\n",
    "plt.ylabel('Expected Length of Stay')\n",
    "plt.show()"
   ]
  },
  {
   "cell_type": "markdown",
   "id": "8fdfc7bd",
   "metadata": {},
   "source": [
    "## Question 16. Write a code snippet to print different ProviderSpecialty ( use groupby and get the list of the groups)."
   ]
  },
  {
   "cell_type": "code",
   "execution_count": 52,
   "id": "c8acb354",
   "metadata": {},
   "outputs": [
    {
     "data": {
      "text/html": [
       "<div>\n",
       "<style scoped>\n",
       "    .dataframe tbody tr th:only-of-type {\n",
       "        vertical-align: middle;\n",
       "    }\n",
       "\n",
       "    .dataframe tbody tr th {\n",
       "        vertical-align: top;\n",
       "    }\n",
       "\n",
       "    .dataframe thead th {\n",
       "        text-align: right;\n",
       "    }\n",
       "</style>\n",
       "<table border=\"1\" class=\"dataframe\">\n",
       "  <thead>\n",
       "    <tr style=\"text-align: right;\">\n",
       "      <th></th>\n",
       "      <th>ProviderSpecialty</th>\n",
       "      <th>Number of Specialty</th>\n",
       "    </tr>\n",
       "  </thead>\n",
       "  <tbody>\n",
       "    <tr>\n",
       "      <th>0</th>\n",
       "      <td>Cardiology</td>\n",
       "      <td>8</td>\n",
       "    </tr>\n",
       "    <tr>\n",
       "      <th>1</th>\n",
       "      <td>Pediatrics</td>\n",
       "      <td>9</td>\n",
       "    </tr>\n",
       "    <tr>\n",
       "      <th>2</th>\n",
       "      <td>PrimaryCare</td>\n",
       "      <td>16</td>\n",
       "    </tr>\n",
       "    <tr>\n",
       "      <th>3</th>\n",
       "      <td>Surgery</td>\n",
       "      <td>7</td>\n",
       "    </tr>\n",
       "  </tbody>\n",
       "</table>\n",
       "</div>"
      ],
      "text/plain": [
       "  ProviderSpecialty  Number of Specialty\n",
       "0        Cardiology                    8\n",
       "1        Pediatrics                    9\n",
       "2       PrimaryCare                   16\n",
       "3           Surgery                    7"
      ]
     },
     "execution_count": 52,
     "metadata": {},
     "output_type": "execute_result"
    }
   ],
   "source": [
    "df_P['Number of Specialty']=1\n",
    "df_P.groupby([ 'ProviderSpecialty'])['Number of Specialty'].count().reset_index()"
   ]
  },
  {
   "cell_type": "markdown",
   "id": "a6edd7fa",
   "metadata": {},
   "source": [
    "## Question 17. Connect to sql and write a query to get Ambulatory visit record's year. (Attach screenshots for this question)"
   ]
  },
  {
   "cell_type": "code",
   "execution_count": 50,
   "id": "3ec60c55",
   "metadata": {},
   "outputs": [
    {
     "data": {
      "text/html": [
       "<div>\n",
       "<style scoped>\n",
       "    .dataframe tbody tr th:only-of-type {\n",
       "        vertical-align: middle;\n",
       "    }\n",
       "\n",
       "    .dataframe tbody tr th {\n",
       "        vertical-align: top;\n",
       "    }\n",
       "\n",
       "    .dataframe thead th {\n",
       "        text-align: right;\n",
       "    }\n",
       "</style>\n",
       "<table border=\"1\" class=\"dataframe\">\n",
       "  <thead>\n",
       "    <tr style=\"text-align: right;\">\n",
       "      <th></th>\n",
       "      <th>VisitRecordsYear</th>\n",
       "    </tr>\n",
       "  </thead>\n",
       "  <tbody>\n",
       "    <tr>\n",
       "      <th>0</th>\n",
       "      <td>2019</td>\n",
       "    </tr>\n",
       "    <tr>\n",
       "      <th>1</th>\n",
       "      <td>2019</td>\n",
       "    </tr>\n",
       "    <tr>\n",
       "      <th>2</th>\n",
       "      <td>2019</td>\n",
       "    </tr>\n",
       "    <tr>\n",
       "      <th>3</th>\n",
       "      <td>2019</td>\n",
       "    </tr>\n",
       "    <tr>\n",
       "      <th>4</th>\n",
       "      <td>2019</td>\n",
       "    </tr>\n",
       "    <tr>\n",
       "      <th>...</th>\n",
       "      <td>...</td>\n",
       "    </tr>\n",
       "    <tr>\n",
       "      <th>945</th>\n",
       "      <td>2019</td>\n",
       "    </tr>\n",
       "    <tr>\n",
       "      <th>946</th>\n",
       "      <td>2019</td>\n",
       "    </tr>\n",
       "    <tr>\n",
       "      <th>947</th>\n",
       "      <td>2019</td>\n",
       "    </tr>\n",
       "    <tr>\n",
       "      <th>948</th>\n",
       "      <td>2019</td>\n",
       "    </tr>\n",
       "    <tr>\n",
       "      <th>949</th>\n",
       "      <td>2019</td>\n",
       "    </tr>\n",
       "  </tbody>\n",
       "</table>\n",
       "<p>950 rows × 1 columns</p>\n",
       "</div>"
      ],
      "text/plain": [
       "    VisitRecordsYear\n",
       "0               2019\n",
       "1               2019\n",
       "2               2019\n",
       "3               2019\n",
       "4               2019\n",
       "..               ...\n",
       "945             2019\n",
       "946             2019\n",
       "947             2019\n",
       "948             2019\n",
       "949             2019\n",
       "\n",
       "[950 rows x 1 columns]"
      ]
     },
     "execution_count": 50,
     "metadata": {},
     "output_type": "execute_result"
    }
   ],
   "source": [
    "ps.sqldf(\"select strftime('%Y', DateofVisit) As VisitRecordsYear from df_AV\")"
   ]
  },
  {
   "cell_type": "markdown",
   "id": "49e9738e",
   "metadata": {},
   "source": [
    "## Question 18. Display using a donut chart the patient count in the ReAdmissionRegistry."
   ]
  },
  {
   "cell_type": "code",
   "execution_count": null,
   "id": "71da0cab",
   "metadata": {},
   "outputs": [],
   "source": [
    "\n",
    "\n"
   ]
  },
  {
   "cell_type": "markdown",
   "id": "2e2f4116",
   "metadata": {},
   "source": [
    "## Question 19. Show the records where the ExpectedLos is greater than the difference between the max and min ExpectedLos."
   ]
  },
  {
   "cell_type": "code",
   "execution_count": 85,
   "id": "fc75cea3",
   "metadata": {},
   "outputs": [
    {
     "name": "stdout",
     "output_type": "stream",
     "text": [
      "     AdmissionID  PatientID AdmissionDate           DischargeDate  \\\n",
      "6            549          8    2018-01-01 2018-01-07 15:39:25.987   \n",
      "18           252         19    2018-01-01 2018-01-17 14:13:23.627   \n",
      "31           550         27    2018-01-02 2018-01-13 07:34:46.603   \n",
      "46           391         41    2018-01-03 2018-01-10 00:57:05.440   \n",
      "64           609         59    2018-01-04 2018-01-09 01:18:34.182   \n",
      "88           144         83    2018-01-05 2018-01-17 11:00:10.366   \n",
      "95           145         90    2018-01-06 2018-01-15 03:16:35.614   \n",
      "100          444         95    2018-01-06 2018-01-19 02:57:34.514   \n",
      "113          445        108    2018-01-07 2018-01-22 06:49:20.132   \n",
      "118          114        113    2018-01-08 2018-01-14 22:04:11.532   \n",
      "140          398        134    2018-01-10 2018-01-15 16:43:47.026   \n",
      "144           10        139    2018-01-10 2018-01-23 02:52:59.927   \n",
      "182          368        178    2018-01-14 2018-01-18 13:44:53.072   \n",
      "197           68        194    2018-01-15 2018-01-24 13:02:54.142   \n",
      "201          369        198    2018-01-15 2018-01-31 14:28:07.437   \n",
      "210          161        208    2018-01-16 2018-01-31 13:52:54.519   \n",
      "217           70        215    2018-01-17 2018-01-26 11:36:41.083   \n",
      "224          372        221    2018-01-18 2018-01-21 01:21:00.624   \n",
      "233          406        230    2018-01-18 2018-02-01 20:55:30.903   \n",
      "263          459        259    2018-01-21 2018-01-25 10:56:22.658   \n",
      "266          325        262    2018-01-21 2018-01-28 07:42:51.034   \n",
      "268          219        264    2018-01-21 2018-02-03 13:01:46.214   \n",
      "288          221        284    2018-01-23 2018-02-02 15:16:54.688   \n",
      "308          413        302    2018-01-25 2018-01-29 15:37:42.226   \n",
      "313          131        307    2018-01-25 2018-02-06 07:32:54.294   \n",
      "335          616        329    2018-01-27 2018-02-08 12:48:19.071   \n",
      "344          173        338    2018-01-28 2018-01-31 09:33:18.479   \n",
      "357          383        351    2018-01-29 2018-02-01 13:51:43.552   \n",
      "358          174        352    2018-01-29 2018-02-02 21:21:45.388   \n",
      "361          280        355    2018-01-29 2018-02-04 06:00:18.953   \n",
      "371          384        365    2018-01-30 2018-02-03 21:40:45.505   \n",
      "389          670        406    2018-01-31 2018-02-16 14:33:25.110   \n",
      "421          623        438    2018-02-03 2018-02-15 19:59:54.262   \n",
      "431          473        448    2018-02-04 2018-02-16 12:02:18.116   \n",
      "441          474        458    2018-02-05 2018-02-15 23:58:18.113   \n",
      "445          626        462    2018-02-06 2018-02-12 07:25:43.824   \n",
      "453          676        470    2018-02-06 2018-02-21 08:09:43.432   \n",
      "469          477        486    2018-02-08 2018-02-16 08:36:20.182   \n",
      "473           39        490    2018-02-08 2018-02-22 10:01:24.704   \n",
      "479          535        496    2018-02-09 2018-02-12 14:44:45.232   \n",
      "515           42        533    2018-02-11 2018-02-24 12:10:12.347   \n",
      "525          431        543    2018-02-12 2018-02-19 11:04:49.046   \n",
      "542          295        560    2018-02-13 2018-02-26 18:17:22.826   \n",
      "568           99        587    2018-02-15 2018-02-24 06:57:25.143   \n",
      "569          297        588    2018-02-15 2018-02-26 14:46:54.780   \n",
      "578          100        597    2018-02-16 2018-02-25 00:37:27.040   \n",
      "626          505        646    2018-02-18 2018-03-04 04:54:33.917   \n",
      "632          488        652    2018-02-19 2018-02-22 23:14:27.662   \n",
      "643          248        663    2018-02-19 2018-02-28 15:33:40.216   \n",
      "646          518        666    2018-02-19 2018-03-02 10:50:39.029   \n",
      "647          564        667    2018-02-19 2018-03-02 15:41:36.457   \n",
      "667          565        687    2018-02-20 2018-03-04 05:12:27.379   \n",
      "687          691        709    2018-02-21 2018-03-01 08:44:33.655   \n",
      "708          586        731    2018-02-22 2018-03-03 21:51:47.920   \n",
      "\n",
      "    DischargeDisposition      Service    PrimaryDiagnosis  ExpectedLOS  \\\n",
      "6                   Home  Hospitalist           Pneumonia    16.472257   \n",
      "18                  Home  Hospitalist              Stroke    15.349671   \n",
      "31                  Home          ICU           Pneumonia    15.415514   \n",
      "46                  Home   Cardiology                Afib    14.995421   \n",
      "64                  Home          ICU           Pneumonia    15.118850   \n",
      "88                  Home          ICU           Pneumonia    15.622700   \n",
      "95                  Home          ICU           Pneumonia    16.161806   \n",
      "100                 Home          ICU              Stroke    16.838918   \n",
      "113                 Home          ICU              Stroke    15.660602   \n",
      "118                 Home          ICU           Pneumonia    15.895307   \n",
      "140              Expired          ICU           Pneumonia    16.225126   \n",
      "144                 Home          ICU              Stroke    15.422103   \n",
      "182              Expired          ICU  Spinal Cord Injury    15.183750   \n",
      "197                 Home          ICU           Pneumonia    15.442762   \n",
      "201              Expired          ICU  Spinal Cord Injury    15.369330   \n",
      "210                 Home   Cardiology                 AMI    15.516297   \n",
      "217                 Home          ICU           Pneumonia    16.998213   \n",
      "224                 Home    Neurology              Stroke    15.573663   \n",
      "233              Expired   Cardiology                Afib    15.212173   \n",
      "263                 Home          ICU           Pneumonia    16.306983   \n",
      "266                 Home          ICU           Pneumonia    15.883172   \n",
      "268                 Home          ICU       Heart Failure    15.142298   \n",
      "288                 Home   Cardiology       Heart Failure    15.440714   \n",
      "308                 Home          ICU              Stroke    16.189186   \n",
      "313                 Home   Cardiology                 AMI    15.156452   \n",
      "335                 Home   Cardiology       Heart Failure    15.462210   \n",
      "344                 Home          ICU           Pneumonia    16.753521   \n",
      "357                 Home          ICU           Pneumonia    16.784042   \n",
      "358              Expired          ICU           Pneumonia    16.989907   \n",
      "361                 Home          ICU       Heart Failure    16.154370   \n",
      "371                 Home          ICU           Pneumonia    16.032985   \n",
      "389                 Home          ICU       Heart Failure    15.074307   \n",
      "421                 Home          ICU                 AMI    16.974824   \n",
      "431                 Home          ICU           Pneumonia    15.116540   \n",
      "441                 Home          ICU           Pneumonia    15.287647   \n",
      "445                 Home   Cardiology       Heart Failure    15.273152   \n",
      "453                 Home   Cardiology       Heart Failure    15.627740   \n",
      "469                 Home    Neurology            Migraine    15.041549   \n",
      "473                 Home          ICU           Pneumonia    16.851937   \n",
      "479                 Home          ICU           Pneumonia    16.655430   \n",
      "515                 Home    Neurology              Stroke    15.712913   \n",
      "525                 Home   Cardiology                 AMI    15.811000   \n",
      "542              Expired    Neurology       Heart Failure    16.785926   \n",
      "568                 Home          ICU           Pneumonia    16.122515   \n",
      "569              Expired    Neurology              Stroke    15.958583   \n",
      "578                 Home          ICU           Pneumonia    16.456266   \n",
      "626                 Home          ICU           Pneumonia    16.272193   \n",
      "632                 Home          ICU           Pneumonia    16.627521   \n",
      "643                 Home          ICU       Heart Failure    16.867883   \n",
      "646                 Home          ICU           Pneumonia    15.366281   \n",
      "647                 Home          ICU           Pneumonia    15.503041   \n",
      "667                 Home          ICU           Pneumonia    15.745479   \n",
      "687              Expired   Cardiology       Heart Failure    15.471412   \n",
      "708                 Home   Cardiology       Heart Failure    15.435455   \n",
      "\n",
      "     ExpectedMortality  ReadmissionFlag  DaysToReadmission  \\\n",
      "6             0.526198              1.0                5.0   \n",
      "18            0.478003              NaN                NaN   \n",
      "31            0.774480              1.0                5.0   \n",
      "46            0.385435              NaN                NaN   \n",
      "64            0.967396              1.0                2.0   \n",
      "88            0.395238              1.0                1.0   \n",
      "95            0.824220              1.0                3.0   \n",
      "100           0.958035              1.0               14.0   \n",
      "113           0.639241              1.0                2.0   \n",
      "118           0.629358              1.0                5.0   \n",
      "140           0.460186              NaN                NaN   \n",
      "144           0.568847              1.0                5.0   \n",
      "182           0.318426              NaN                NaN   \n",
      "197           0.320295              1.0                1.0   \n",
      "201           0.082132              NaN                NaN   \n",
      "210           0.419545              NaN                NaN   \n",
      "217           0.394041              1.0                4.0   \n",
      "224           0.624283              1.0                5.0   \n",
      "233           0.487404              NaN                NaN   \n",
      "263           0.264117              1.0                5.0   \n",
      "266           0.821217              1.0                5.0   \n",
      "268           0.328102              1.0                5.0   \n",
      "288           0.209943              1.0                3.0   \n",
      "308           0.546420              1.0                3.0   \n",
      "313           0.209086              NaN                NaN   \n",
      "335           0.482830              1.0                3.0   \n",
      "344           0.308928              NaN                NaN   \n",
      "357           0.143620              NaN                NaN   \n",
      "358           0.573870              NaN                NaN   \n",
      "361           0.664635              1.0                3.0   \n",
      "371           0.401682              NaN                NaN   \n",
      "389           0.783586              1.0                7.0   \n",
      "421           0.057530              NaN                NaN   \n",
      "431           0.065651              NaN                NaN   \n",
      "441           0.182240              NaN                NaN   \n",
      "445           0.358536              1.0               10.0   \n",
      "453           0.280233              1.0               11.0   \n",
      "469           0.447190              NaN                NaN   \n",
      "473           0.206923              NaN                NaN   \n",
      "479           0.859087              NaN                NaN   \n",
      "515           0.763070              1.0                3.0   \n",
      "525           0.104853              NaN                NaN   \n",
      "542           0.808604              NaN                NaN   \n",
      "568           0.654254              NaN                NaN   \n",
      "569           0.172149              NaN                NaN   \n",
      "578           0.424688              NaN                NaN   \n",
      "626           0.461280              NaN                NaN   \n",
      "632           0.131845              NaN                NaN   \n",
      "643           0.973067              1.0                2.0   \n",
      "646           0.917408              NaN                NaN   \n",
      "647           0.188014              NaN                NaN   \n",
      "667           0.468351              NaN                NaN   \n",
      "687           0.362760              NaN                NaN   \n",
      "708           0.361812              1.0                1.0   \n",
      "\n",
      "     EDVisitAfterDischargeFlag  \n",
      "6                          1.0  \n",
      "18                         NaN  \n",
      "31                         1.0  \n",
      "46                         NaN  \n",
      "64                         1.0  \n",
      "88                         1.0  \n",
      "95                         1.0  \n",
      "100                        1.0  \n",
      "113                        1.0  \n",
      "118                        1.0  \n",
      "140                        1.0  \n",
      "144                        1.0  \n",
      "182                        1.0  \n",
      "197                        1.0  \n",
      "201                        1.0  \n",
      "210                        NaN  \n",
      "217                        1.0  \n",
      "224                        1.0  \n",
      "233                        1.0  \n",
      "263                        1.0  \n",
      "266                        1.0  \n",
      "268                        1.0  \n",
      "288                        1.0  \n",
      "308                        1.0  \n",
      "313                        NaN  \n",
      "335                        1.0  \n",
      "344                        NaN  \n",
      "357                        NaN  \n",
      "358                        1.0  \n",
      "361                        1.0  \n",
      "371                        NaN  \n",
      "389                        1.0  \n",
      "421                        NaN  \n",
      "431                        1.0  \n",
      "441                        1.0  \n",
      "445                        1.0  \n",
      "453                        1.0  \n",
      "469                        NaN  \n",
      "473                        1.0  \n",
      "479                        1.0  \n",
      "515                        1.0  \n",
      "525                        NaN  \n",
      "542                        1.0  \n",
      "568                        1.0  \n",
      "569                        1.0  \n",
      "578                        1.0  \n",
      "626                        1.0  \n",
      "632                        1.0  \n",
      "643                        1.0  \n",
      "646                        NaN  \n",
      "647                        NaN  \n",
      "667                        NaN  \n",
      "687                        1.0  \n",
      "708                        1.0  \n"
     ]
    }
   ],
   "source": [
    "import pandas as pd\n",
    "\n",
    "#Reading the ReAdmissionRegistry \n",
    "df_RE = pd.read_excel(xls, 'ReAdmissionRegistry')\n",
    "\n",
    "# Calculate the difference between the max and min ExpectedLos\n",
    "diff_expected_los = df_RE['ExpectedLOS'].max() - df_RE['ExpectedLOS'].min()\n",
    "\n",
    "# Filter the dataframe to show the records where ExpectedLOS is greater than the difference\n",
    "filtered_df = df_RE[df_RE['ExpectedLOS'] > diff_expected_los]\n",
    "\n",
    "# Print the filtered dataframe\n",
    "print(filtered_df)\n"
   ]
  },
  {
   "cell_type": "markdown",
   "id": "c2cfce8b",
   "metadata": {},
   "source": [
    "## Question 20. Using a bar chart, which Service had the lowest count of Expected Mortality?"
   ]
  },
  {
   "cell_type": "code",
   "execution_count": 88,
   "id": "54142e79",
   "metadata": {},
   "outputs": [
    {
     "name": "stdout",
     "output_type": "stream",
     "text": [
      "Service with the lowest count of Expected Mortality: Orthopeadics\n"
     ]
    },
    {
     "data": {
      "image/png": "[encoded data removed]",
      "text/plain": [
       "<Figure size 800x800 with 1 Axes>"
      ]
     },
     "metadata": {},
     "output_type": "display_data"
    }
   ],
   "source": [
    "import pandas as pd\n",
    "import matplotlib.pyplot as plt\n",
    "\n",
    "#Reading the Discharges sheet\n",
    "df_D = pd.read_excel(xls, 'Discharges')\n",
    "\n",
    "# group by Service and calculate the count of Expected Mortality\n",
    "df_mortality = df_D.groupby('Service')['ExpectedMortality'].count().reset_index(name='count')\n",
    "\n",
    "# create a bar chart\n",
    "fig, ax = plt.subplots()\n",
    "ax.bar(df_mortality['Service'], df_mortality['count'])\n",
    "ax.set_xlabel('Service')\n",
    "ax.set_ylabel('Count of Expected Mortality')\n",
    "ax.set_title('Expected Mortality by Service')\n",
    "\n",
    "# find the Service with the lowest count\n",
    "lowest_service = df_mortality.loc[df_mortality['count'].idxmin(), 'Service']\n",
    "print(\"Service with the lowest count of Expected Mortality:\", lowest_service)\n",
    "\n",
    "plt.show()\n"
   ]
  },
  {
   "cell_type": "code",
   "execution_count": null,
   "id": "4c1cbe65",
   "metadata": {},
   "outputs": [],
   "source": []
  }
 ],
 "metadata": {
  "kernelspec": {
   "display_name": "Python 3 (ipykernel)",
   "language": "python",
   "name": "python3"
  },
  "language_info": {
   "codemirror_mode": {
    "name": "ipython",
    "version": 3
   },
   "file_extension": ".py",
   "mimetype": "text/x-python",
   "name": "python",
   "nbconvert_exporter": "python",
   "pygments_lexer": "ipython3",
   "version": "3.9.13"
  }
 },
 "nbformat": 4,
 "nbformat_minor": 5
}
