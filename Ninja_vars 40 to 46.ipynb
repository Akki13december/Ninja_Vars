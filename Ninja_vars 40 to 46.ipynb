{
 "cells": [
  {
   "cell_type": "code",
   "execution_count": 33,
   "metadata": {},
   "outputs": [
    {
     "name": "stdout",
     "output_type": "stream",
     "text": [
      "Requirement already satisfied: panda in c:\\users\\dmatta\\anaconda3\\lib\\site-packages (0.3.1)\n",
      "Requirement already satisfied: requests in c:\\users\\dmatta\\anaconda3\\lib\\site-packages (from panda) (2.24.0)\n",
      "Requirement already satisfied: setuptools in c:\\users\\dmatta\\anaconda3\\lib\\site-packages (from panda) (50.3.1.post20201107)\n",
      "Requirement already satisfied: idna<3,>=2.5 in c:\\users\\dmatta\\anaconda3\\lib\\site-packages (from requests->panda) (2.10)\n",
      "Requirement already satisfied: urllib3!=1.25.0,!=1.25.1,<1.26,>=1.21.1 in c:\\users\\dmatta\\anaconda3\\lib\\site-packages (from requests->panda) (1.25.11)\n",
      "Requirement already satisfied: chardet<4,>=3.0.2 in c:\\users\\dmatta\\anaconda3\\lib\\site-packages (from requests->panda) (3.0.4)\n",
      "Requirement already satisfied: certifi>=2017.4.17 in c:\\users\\dmatta\\anaconda3\\lib\\site-packages (from requests->panda) (2020.6.20)\n",
      "Note: you may need to restart the kernel to use updated packages.\n"
     ]
    }
   ],
   "source": [
    "pip install panda"
   ]
  },
  {
   "cell_type": "code",
   "execution_count": 65,
   "metadata": {},
   "outputs": [],
   "source": [
    "import pandas as pd\n",
    "import numpy as np"
   ]
  },
  {
   "cell_type": "markdown",
   "metadata": {},
   "source": [
    "# Load Excel File"
   ]
  },
  {
   "cell_type": "code",
   "execution_count": 54,
   "metadata": {},
   "outputs": [],
   "source": [
    "#Reading the Dataset\n",
    "xls = pd.ExcelFile(\"C:\\Vijaya\\Python\\HospitalDatabase.xlsx\")\n",
    "\n",
    "#Reading the Patients sheet\n",
    "df_PA = pd.read_excel(xls, 'Patients')\n",
    "\n",
    "#Reading the EDVisits sheet\n",
    "df_EDV= pd.read_excel(xls, 'EDVisits')\n",
    "\n",
    "#Reading the AmbulatoryVisits sheet\n",
    "df_AV = pd.read_excel(xls, 'AmbulatoryVisits')\n",
    "\n",
    "#Reading the ReAdmissionRegistry \n",
    "df_RE = pd.read_excel(xls, 'ReAdmissionRegistry')\n",
    "\n",
    "#Reading the Discharges sheet\n",
    "df_D = pd.read_excel(xls, 'Discharges')\n",
    "\n",
    "#Reading the Providers sheet\n",
    "df_P = pd.read_excel(xls, 'Providers')\n",
    "\n",
    "#Reading the EDUnique sheet\n",
    "df_E = pd.read_excel(xls, 'EDUnique')\n"
   ]
  },
  {
   "cell_type": "markdown",
   "metadata": {},
   "source": [
    "### 41.Find the age prone to get stroke."
   ]
  },
  {
   "cell_type": "code",
   "execution_count": 55,
   "metadata": {},
   "outputs": [
    {
     "name": "stdout",
     "output_type": "stream",
     "text": [
      "      Count of Patients\n",
      "Age                    \n",
      "36.0                  1\n",
      "37.0                  2\n",
      "38.0                  4\n",
      "39.0                  3\n",
      "40.0                  3\n",
      "41.0                  2\n",
      "42.0                  4\n",
      "44.0                  3\n",
      "45.0                  1\n",
      "46.0                  1\n",
      "47.0                  4\n",
      "48.0                  2\n",
      "49.0                  4\n",
      "50.0                  1\n",
      "51.0                  1\n",
      "52.0                  4\n",
      "53.0                  1\n",
      "54.0                  3\n",
      "55.0                  3\n",
      "56.0                  1\n",
      "57.0                  2\n",
      "58.0                  7\n",
      "59.0                  1\n",
      "60.0                  2\n",
      "61.0                  4\n",
      "62.0                  3\n",
      "63.0                  1\n"
     ]
    },
    {
     "name": "stderr",
     "output_type": "stream",
     "text": [
      "<ipython-input-55-9979f5039291>:19: SettingWithCopyWarning: \n",
      "A value is trying to be set on a copy of a slice from a DataFrame.\n",
      "Try using .loc[row_indexer,col_indexer] = value instead\n",
      "\n",
      "See the caveats in the documentation: https://pandas.pydata.org/pandas-docs/stable/user_guide/indexing.html#returning-a-view-versus-a-copy\n",
      "  df_new_pa['DateOfBirth'] = pd.to_datetime(df_pa['DateOfBirth'])\n",
      "<ipython-input-55-9979f5039291>:25: SettingWithCopyWarning: \n",
      "A value is trying to be set on a copy of a slice from a DataFrame.\n",
      "Try using .loc[row_indexer,col_indexer] = value instead\n",
      "\n",
      "See the caveats in the documentation: https://pandas.pydata.org/pandas-docs/stable/user_guide/indexing.html#returning-a-view-versus-a-copy\n",
      "  df_new_pa['Age'] = (current_date - df_new_pa['DateOfBirth']).astype('<m8[Y]')\n"
     ]
    }
   ],
   "source": [
    "from datetime import datetime\n",
    "## Reading ReAdmissionRegistry sheet\n",
    "df_RE=pd.read_excel(xls, 'ReAdmissionRegistry')\n",
    "\n",
    "## Reading Patients Sheet\n",
    "df_PA=pd.read_excel(xls, 'Patients')\n",
    "\n",
    "##  Created dataframe by selecting two columns from ReAdmissionRegistry sheet\n",
    "df_new_re = df_RE[['PatientID','PrimaryDiagnosis']]\n",
    "\n",
    "## Selecting patients with primaryDiagnosis=stroke\n",
    "df_new_re= df_new_re[df_new_re['PrimaryDiagnosis']=='Stroke']\n",
    "\n",
    "## Created dataframe by selecting two columns from patients sheet\n",
    "df_new_pa= df_PA[['PatientID', 'DateOfBirth']]\n",
    "\n",
    "## finding age using dateofbirth column\n",
    "## coverting data of birth column to datetime object\n",
    "df_new_pa['DateOfBirth'] = pd.to_datetime(df_pa['DateOfBirth'])\n",
    "\n",
    "## current date\n",
    "current_date = datetime.now()\n",
    "\n",
    "## calculating age\n",
    "df_new_pa['Age'] = (current_date - df_new_pa['DateOfBirth']).astype('<m8[Y]')\n",
    "\n",
    "## creating new dataframe with patientID and age\n",
    "df_new_pa= df_new_pa[['PatientID', 'Age']]\n",
    "\n",
    "## perform merge operation\n",
    "merge_df= pd.merge(df_new_re,df_new_pa, on='PatientID')\n",
    "\n",
    " ## group by \n",
    "Result= merge_df.pivot_table(index=['Age'],values=['PatientID'],aggfunc='count')\n",
    "# Alias the column\n",
    "Result = Result.rename(columns={'PatientID': 'Count of Patients'})\n",
    "\n",
    "print(Result)\n",
    "\n",
    "\n",
    "\n",
    "\n",
    "\n",
    "\n"
   ]
  },
  {
   "cell_type": "markdown",
   "metadata": {},
   "source": [
    "### 42.Calculate mortality by diagnosis."
   ]
  },
  {
   "cell_type": "code",
   "execution_count": 60,
   "metadata": {},
   "outputs": [
    {
     "ename": "KeyError",
     "evalue": "\"['Mortality'] not in index\"",
     "output_type": "error",
     "traceback": [
      "\u001b[1;31m---------------------------------------------------------------------------\u001b[0m",
      "\u001b[1;31mKeyError\u001b[0m                                  Traceback (most recent call last)",
      "\u001b[1;32m<ipython-input-60-fe468cc969fb>\u001b[0m in \u001b[0;36m<module>\u001b[1;34m\u001b[0m\n\u001b[0;32m     12\u001b[0m \u001b[0mMortality\u001b[0m \u001b[1;33m=\u001b[0m \u001b[1;33m(\u001b[0m\u001b[0mobserved_Mortality\u001b[0m\u001b[1;33m/\u001b[0m\u001b[0mexpected_mortality\u001b[0m\u001b[1;33m)\u001b[0m\u001b[1;33m\u001b[0m\u001b[1;33m\u001b[0m\u001b[0m\n\u001b[0;32m     13\u001b[0m \u001b[1;31m#print(Mortality)\u001b[0m\u001b[1;33m\u001b[0m\u001b[1;33m\u001b[0m\u001b[1;33m\u001b[0m\u001b[0m\n\u001b[1;32m---> 14\u001b[1;33m \u001b[0mtemp_df\u001b[0m \u001b[1;33m=\u001b[0m \u001b[0mtemp_df\u001b[0m\u001b[1;33m[\u001b[0m\u001b[1;33m[\u001b[0m\u001b[1;34m'Mortality'\u001b[0m\u001b[1;33m,\u001b[0m\u001b[1;34m'PrimaryDiagnosis'\u001b[0m\u001b[1;33m]\u001b[0m\u001b[1;33m]\u001b[0m\u001b[1;33m\u001b[0m\u001b[1;33m\u001b[0m\u001b[0m\n\u001b[0m\u001b[0;32m     15\u001b[0m \u001b[0mgroupedDF\u001b[0m \u001b[1;33m=\u001b[0m \u001b[0mtemp_df\u001b[0m\u001b[1;33m.\u001b[0m\u001b[0mgroupby\u001b[0m\u001b[1;33m(\u001b[0m\u001b[1;34m'PrimaryDiagnosis'\u001b[0m\u001b[1;33m)\u001b[0m\u001b[1;33m\u001b[0m\u001b[1;33m\u001b[0m\u001b[0m\n\u001b[0;32m     16\u001b[0m \u001b[0mprint\u001b[0m\u001b[1;33m(\u001b[0m\u001b[0mgroupedDF\u001b[0m\u001b[1;33m)\u001b[0m\u001b[1;33m\u001b[0m\u001b[1;33m\u001b[0m\u001b[0m\n",
      "\u001b[1;32m~\\Anaconda3\\lib\\site-packages\\pandas\\core\\frame.py\u001b[0m in \u001b[0;36m__getitem__\u001b[1;34m(self, key)\u001b[0m\n\u001b[0;32m   2906\u001b[0m             \u001b[1;32mif\u001b[0m \u001b[0mis_iterator\u001b[0m\u001b[1;33m(\u001b[0m\u001b[0mkey\u001b[0m\u001b[1;33m)\u001b[0m\u001b[1;33m:\u001b[0m\u001b[1;33m\u001b[0m\u001b[1;33m\u001b[0m\u001b[0m\n\u001b[0;32m   2907\u001b[0m                 \u001b[0mkey\u001b[0m \u001b[1;33m=\u001b[0m \u001b[0mlist\u001b[0m\u001b[1;33m(\u001b[0m\u001b[0mkey\u001b[0m\u001b[1;33m)\u001b[0m\u001b[1;33m\u001b[0m\u001b[1;33m\u001b[0m\u001b[0m\n\u001b[1;32m-> 2908\u001b[1;33m             \u001b[0mindexer\u001b[0m \u001b[1;33m=\u001b[0m \u001b[0mself\u001b[0m\u001b[1;33m.\u001b[0m\u001b[0mloc\u001b[0m\u001b[1;33m.\u001b[0m\u001b[0m_get_listlike_indexer\u001b[0m\u001b[1;33m(\u001b[0m\u001b[0mkey\u001b[0m\u001b[1;33m,\u001b[0m \u001b[0maxis\u001b[0m\u001b[1;33m=\u001b[0m\u001b[1;36m1\u001b[0m\u001b[1;33m,\u001b[0m \u001b[0mraise_missing\u001b[0m\u001b[1;33m=\u001b[0m\u001b[1;32mTrue\u001b[0m\u001b[1;33m)\u001b[0m\u001b[1;33m[\u001b[0m\u001b[1;36m1\u001b[0m\u001b[1;33m]\u001b[0m\u001b[1;33m\u001b[0m\u001b[1;33m\u001b[0m\u001b[0m\n\u001b[0m\u001b[0;32m   2909\u001b[0m \u001b[1;33m\u001b[0m\u001b[0m\n\u001b[0;32m   2910\u001b[0m         \u001b[1;31m# take() does not accept boolean indexers\u001b[0m\u001b[1;33m\u001b[0m\u001b[1;33m\u001b[0m\u001b[1;33m\u001b[0m\u001b[0m\n",
      "\u001b[1;32m~\\Anaconda3\\lib\\site-packages\\pandas\\core\\indexing.py\u001b[0m in \u001b[0;36m_get_listlike_indexer\u001b[1;34m(self, key, axis, raise_missing)\u001b[0m\n\u001b[0;32m   1252\u001b[0m             \u001b[0mkeyarr\u001b[0m\u001b[1;33m,\u001b[0m \u001b[0mindexer\u001b[0m\u001b[1;33m,\u001b[0m \u001b[0mnew_indexer\u001b[0m \u001b[1;33m=\u001b[0m \u001b[0max\u001b[0m\u001b[1;33m.\u001b[0m\u001b[0m_reindex_non_unique\u001b[0m\u001b[1;33m(\u001b[0m\u001b[0mkeyarr\u001b[0m\u001b[1;33m)\u001b[0m\u001b[1;33m\u001b[0m\u001b[1;33m\u001b[0m\u001b[0m\n\u001b[0;32m   1253\u001b[0m \u001b[1;33m\u001b[0m\u001b[0m\n\u001b[1;32m-> 1254\u001b[1;33m         \u001b[0mself\u001b[0m\u001b[1;33m.\u001b[0m\u001b[0m_validate_read_indexer\u001b[0m\u001b[1;33m(\u001b[0m\u001b[0mkeyarr\u001b[0m\u001b[1;33m,\u001b[0m \u001b[0mindexer\u001b[0m\u001b[1;33m,\u001b[0m \u001b[0maxis\u001b[0m\u001b[1;33m,\u001b[0m \u001b[0mraise_missing\u001b[0m\u001b[1;33m=\u001b[0m\u001b[0mraise_missing\u001b[0m\u001b[1;33m)\u001b[0m\u001b[1;33m\u001b[0m\u001b[1;33m\u001b[0m\u001b[0m\n\u001b[0m\u001b[0;32m   1255\u001b[0m         \u001b[1;32mreturn\u001b[0m \u001b[0mkeyarr\u001b[0m\u001b[1;33m,\u001b[0m \u001b[0mindexer\u001b[0m\u001b[1;33m\u001b[0m\u001b[1;33m\u001b[0m\u001b[0m\n\u001b[0;32m   1256\u001b[0m \u001b[1;33m\u001b[0m\u001b[0m\n",
      "\u001b[1;32m~\\Anaconda3\\lib\\site-packages\\pandas\\core\\indexing.py\u001b[0m in \u001b[0;36m_validate_read_indexer\u001b[1;34m(self, key, indexer, axis, raise_missing)\u001b[0m\n\u001b[0;32m   1302\u001b[0m             \u001b[1;32mif\u001b[0m \u001b[0mraise_missing\u001b[0m\u001b[1;33m:\u001b[0m\u001b[1;33m\u001b[0m\u001b[1;33m\u001b[0m\u001b[0m\n\u001b[0;32m   1303\u001b[0m                 \u001b[0mnot_found\u001b[0m \u001b[1;33m=\u001b[0m \u001b[0mlist\u001b[0m\u001b[1;33m(\u001b[0m\u001b[0mset\u001b[0m\u001b[1;33m(\u001b[0m\u001b[0mkey\u001b[0m\u001b[1;33m)\u001b[0m \u001b[1;33m-\u001b[0m \u001b[0mset\u001b[0m\u001b[1;33m(\u001b[0m\u001b[0max\u001b[0m\u001b[1;33m)\u001b[0m\u001b[1;33m)\u001b[0m\u001b[1;33m\u001b[0m\u001b[1;33m\u001b[0m\u001b[0m\n\u001b[1;32m-> 1304\u001b[1;33m                 \u001b[1;32mraise\u001b[0m \u001b[0mKeyError\u001b[0m\u001b[1;33m(\u001b[0m\u001b[1;34mf\"{not_found} not in index\"\u001b[0m\u001b[1;33m)\u001b[0m\u001b[1;33m\u001b[0m\u001b[1;33m\u001b[0m\u001b[0m\n\u001b[0m\u001b[0;32m   1305\u001b[0m \u001b[1;33m\u001b[0m\u001b[0m\n\u001b[0;32m   1306\u001b[0m             \u001b[1;31m# we skip the warning on Categorical\u001b[0m\u001b[1;33m\u001b[0m\u001b[1;33m\u001b[0m\u001b[1;33m\u001b[0m\u001b[0m\n",
      "\u001b[1;31mKeyError\u001b[0m: \"['Mortality'] not in index\""
     ]
    }
   ],
   "source": [
    "#Reading the Discharges sheet\n",
    "df_D = pd.read_excel(xls, 'Discharges')\n",
    "\n",
    "#Mortality O:E = Observed Mortality/Expected Mortality\n",
    "\n",
    "#Observed Mortality: COUNT of Discharge Disposition='Expired' \n",
    "\n",
    "#O:E Mortality: ([Observed Mortality])/SUM([Expected Mortality])\n",
    "temp_df = df_D.loc[(df_D['DischargeDisposition'] == 'Expired')]\n",
    "observed_Mortality = temp_df['DischargeDisposition'].value_counts()\n",
    "expected_mortality = temp_df['ExpectedMortality'].sum()\n",
    "Mortality = (observed_Mortality/expected_mortality)\n",
    "#print(Mortality)\n",
    "temp_df = temp_df[['Mortality','PrimaryDiagnosis']]\n",
    "groupedDF = temp_df.groupby('PrimaryDiagnosis')\n",
    "print(groupedDF)\n",
    "\n",
    "\n",
    "\n",
    "\n",
    "\n",
    "\n"
   ]
  },
  {
   "cell_type": "markdown",
   "metadata": {},
   "source": [
    "### 43.Details of the patients whose firstname or lastname contains string \"lau\" , should be case insensitive."
   ]
  },
  {
   "cell_type": "code",
   "execution_count": 67,
   "metadata": {},
   "outputs": [
    {
     "data": {
      "text/html": [
       "<div>\n",
       "<style scoped>\n",
       "    .dataframe tbody tr th:only-of-type {\n",
       "        vertical-align: middle;\n",
       "    }\n",
       "\n",
       "    .dataframe tbody tr th {\n",
       "        vertical-align: top;\n",
       "    }\n",
       "\n",
       "    .dataframe thead th {\n",
       "        text-align: right;\n",
       "    }\n",
       "</style>\n",
       "<table border=\"1\" class=\"dataframe\">\n",
       "  <thead>\n",
       "    <tr style=\"text-align: right;\">\n",
       "      <th></th>\n",
       "      <th>PatientID</th>\n",
       "      <th>FirstName</th>\n",
       "      <th>LastName</th>\n",
       "      <th>DateOfBirth</th>\n",
       "      <th>Gender</th>\n",
       "      <th>Race</th>\n",
       "      <th>Language</th>\n",
       "    </tr>\n",
       "  </thead>\n",
       "  <tbody>\n",
       "    <tr>\n",
       "      <th>282</th>\n",
       "      <td>283</td>\n",
       "      <td>Lauren</td>\n",
       "      <td>Gaskal</td>\n",
       "      <td>1962-05-08 01:54:00.111</td>\n",
       "      <td>Female</td>\n",
       "      <td>Black/African-American</td>\n",
       "      <td>English</td>\n",
       "    </tr>\n",
       "    <tr>\n",
       "      <th>322</th>\n",
       "      <td>323</td>\n",
       "      <td>Lauren</td>\n",
       "      <td>Foort</td>\n",
       "      <td>1960-06-23 20:07:53.045</td>\n",
       "      <td>Female</td>\n",
       "      <td>White</td>\n",
       "      <td>English</td>\n",
       "    </tr>\n",
       "    <tr>\n",
       "      <th>369</th>\n",
       "      <td>370</td>\n",
       "      <td>Zulauf</td>\n",
       "      <td>Ellingham</td>\n",
       "      <td>1982-12-17 16:27:56.391</td>\n",
       "      <td>Female</td>\n",
       "      <td>White</td>\n",
       "      <td>English</td>\n",
       "    </tr>\n",
       "    <tr>\n",
       "      <th>382</th>\n",
       "      <td>383</td>\n",
       "      <td>Zulauf</td>\n",
       "      <td>LLC</td>\n",
       "      <td>1969-03-16 07:48:49.338</td>\n",
       "      <td>Female</td>\n",
       "      <td>White</td>\n",
       "      <td>English</td>\n",
       "    </tr>\n",
       "    <tr>\n",
       "      <th>454</th>\n",
       "      <td>455</td>\n",
       "      <td>Zulauf</td>\n",
       "      <td>Alvar</td>\n",
       "      <td>1961-10-02 08:24:17.334</td>\n",
       "      <td>Female</td>\n",
       "      <td>White</td>\n",
       "      <td>English</td>\n",
       "    </tr>\n",
       "    <tr>\n",
       "      <th>463</th>\n",
       "      <td>464</td>\n",
       "      <td>Zulauf</td>\n",
       "      <td>Manske</td>\n",
       "      <td>1965-06-22 02:49:28.667</td>\n",
       "      <td>Female</td>\n",
       "      <td>White</td>\n",
       "      <td>English</td>\n",
       "    </tr>\n",
       "    <tr>\n",
       "      <th>818</th>\n",
       "      <td>819</td>\n",
       "      <td>Zulauf</td>\n",
       "      <td>Bitcheno</td>\n",
       "      <td>1967-04-02 07:17:53.635</td>\n",
       "      <td>Female</td>\n",
       "      <td>White</td>\n",
       "      <td>English</td>\n",
       "    </tr>\n",
       "    <tr>\n",
       "      <th>830</th>\n",
       "      <td>831</td>\n",
       "      <td>Zulauf</td>\n",
       "      <td>O'Shavlan</td>\n",
       "      <td>1970-05-17 08:09:28.988</td>\n",
       "      <td>Female</td>\n",
       "      <td>White</td>\n",
       "      <td>English</td>\n",
       "    </tr>\n",
       "    <tr>\n",
       "      <th>850</th>\n",
       "      <td>851</td>\n",
       "      <td>Lemmy</td>\n",
       "      <td>Klausen</td>\n",
       "      <td>1973-06-18 06:19:43.475</td>\n",
       "      <td>Female</td>\n",
       "      <td>White</td>\n",
       "      <td>English</td>\n",
       "    </tr>\n",
       "    <tr>\n",
       "      <th>906</th>\n",
       "      <td>907</td>\n",
       "      <td>Jerrilyn</td>\n",
       "      <td>Klausen</td>\n",
       "      <td>1979-09-04 13:05:57.870</td>\n",
       "      <td>Male</td>\n",
       "      <td>Black/African-American</td>\n",
       "      <td>English</td>\n",
       "    </tr>\n",
       "    <tr>\n",
       "      <th>910</th>\n",
       "      <td>911</td>\n",
       "      <td>Zulauf</td>\n",
       "      <td>Orbine</td>\n",
       "      <td>1973-06-26 03:13:50.449</td>\n",
       "      <td>Male</td>\n",
       "      <td>Black/African-American</td>\n",
       "      <td>English</td>\n",
       "    </tr>\n",
       "  </tbody>\n",
       "</table>\n",
       "</div>"
      ],
      "text/plain": [
       "     PatientID FirstName   LastName             DateOfBirth  Gender  \\\n",
       "282        283    Lauren     Gaskal 1962-05-08 01:54:00.111  Female   \n",
       "322        323    Lauren      Foort 1960-06-23 20:07:53.045  Female   \n",
       "369        370    Zulauf  Ellingham 1982-12-17 16:27:56.391  Female   \n",
       "382        383    Zulauf        LLC 1969-03-16 07:48:49.338  Female   \n",
       "454        455    Zulauf      Alvar 1961-10-02 08:24:17.334  Female   \n",
       "463        464    Zulauf     Manske 1965-06-22 02:49:28.667  Female   \n",
       "818        819    Zulauf   Bitcheno 1967-04-02 07:17:53.635  Female   \n",
       "830        831    Zulauf  O'Shavlan 1970-05-17 08:09:28.988  Female   \n",
       "850        851     Lemmy    Klausen 1973-06-18 06:19:43.475  Female   \n",
       "906        907  Jerrilyn    Klausen 1979-09-04 13:05:57.870    Male   \n",
       "910        911    Zulauf     Orbine 1973-06-26 03:13:50.449    Male   \n",
       "\n",
       "                       Race Language  \n",
       "282  Black/African-American  English  \n",
       "322                   White  English  \n",
       "369                   White  English  \n",
       "382                   White  English  \n",
       "454                   White  English  \n",
       "463                   White  English  \n",
       "818                   White  English  \n",
       "830                   White  English  \n",
       "850                   White  English  \n",
       "906  Black/African-American  English  \n",
       "910  Black/African-American  English  "
      ]
     },
     "execution_count": 67,
     "metadata": {},
     "output_type": "execute_result"
    }
   ],
   "source": [
    "df_PA[df_PA.FirstName.str.contains('lau', case=False) | df_PA.LastName.str.contains('lau', case=False)]"
   ]
  },
  {
   "cell_type": "markdown",
   "metadata": {},
   "source": [
    "##44.Display data by splitting age in 4 quartiles and labeling the quartiles."
   ]
  },
  {
   "cell_type": "code",
   "execution_count": 75,
   "metadata": {},
   "outputs": [
    {
     "name": "stdout",
     "output_type": "stream",
     "text": [
      "Q1 quantile of AGE :  43.0\n",
      "Q2 quantile of AGE :  49.0\n",
      "Q3 quantile of AGE :  56.0\n",
      "Q4 quantile of AGE :  63.0\n"
     ]
    }
   ],
   "source": [
    "## coverting data of birth column to datetime object\n",
    "df_new_pa['DateOfBirth'] = pd.to_datetime(df_PA['DateOfBirth'])\n",
    "\n",
    "## current date\n",
    "current_date = datetime.now()\n",
    "\n",
    "## calculating age\n",
    "df_new_pa['Age'] = (current_date - df_new_pa['DateOfBirth']).astype('<m8[Y]')\n",
    "#print(df_new_pa['Age'])\n",
    "df_new_pa['Age'].sort_values()\n",
    "print(\"Q1 quantile of AGE : \", np.quantile(df_new_pa['Age'], .25, interpolation='midpoint'))\n",
    "print(\"Q2 quantile of AGE : \", np.quantile(df_new_pa['Age'], .50, interpolation='midpoint'))\n",
    "print(\"Q3 quantile of AGE : \", np.quantile(df_new_pa['Age'], .75, interpolation='midpoint'))\n",
    "print(\"Q4 quantile of AGE : \", np.quantile(df_new_pa['Age'], 1.00, interpolation='midpoint'))\n",
    "\n",
    "\n"
   ]
  },
  {
   "cell_type": "markdown",
   "metadata": {},
   "source": [
    "### 45.Usage of Enumeration in Python with any example."
   ]
  },
  {
   "cell_type": "code",
   "execution_count": 74,
   "metadata": {},
   "outputs": [
    {
     "name": "stdout",
     "output_type": "stream",
     "text": [
      "Index: 0, Value: apple\n",
      "Index: 1, Value: banana\n",
      "Index: 2, Value: cherry\n",
      "Index: 3, Value: date\n"
     ]
    }
   ],
   "source": [
    "# Example list\n",
    "fruits = [\"apple\", \"banana\", \"cherry\", \"date\"]\n",
    "\n",
    "# Iterate over the list using enumeration\n",
    "for index, value in enumerate(fruits):\n",
    "    print(f\"Index: {index}, Value: {value}\")"
   ]
  },
  {
   "cell_type": "markdown",
   "metadata": {},
   "source": [
    "### 46.Count of canceled status."
   ]
  },
  {
   "cell_type": "code",
   "execution_count": 76,
   "metadata": {},
   "outputs": [
    {
     "name": "stdout",
     "output_type": "stream",
     "text": [
      "Count Of Patients with Canceled status  : 60\n"
     ]
    }
   ],
   "source": [
    "#selecting all patients with Canceled status\n",
    "df_new_AV = df_AV.loc[(df_AV['VisitStatus']=='Canceled') ]\n",
    "\n",
    "print(\"%s%s\" % ('Count Of Patients with ''Canceled'' status  : ',  len(df_new_AV.index)))"
   ]
  },
  {
   "cell_type": "code",
   "execution_count": null,
   "metadata": {},
   "outputs": [],
   "source": []
  }
 ],
 "metadata": {
  "kernelspec": {
   "display_name": "Python 3",
   "language": "python",
   "name": "python3"
  },
  "language_info": {
   "codemirror_mode": {
    "name": "ipython",
    "version": 3
   },
   "file_extension": ".py",
   "mimetype": "text/x-python",
   "name": "python",
   "nbconvert_exporter": "python",
   "pygments_lexer": "ipython3",
   "version": "3.8.5"
  }
 },
 "nbformat": 4,
 "nbformat_minor": 4
}
